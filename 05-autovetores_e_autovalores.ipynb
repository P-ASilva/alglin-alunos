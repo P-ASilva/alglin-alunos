{
 "cells": [
  {
   "cell_type": "code",
<<<<<<< HEAD
   "execution_count": 1,
=======
   "execution_count": null,
>>>>>>> adc65eeb657207b62ad44029da59ef3b8215ea99
   "metadata": {},
   "outputs": [],
   "source": [
    "import numpy as np\n",
    "import matplotlib.pyplot as plt\n",
    "import matplotlib.image as mpimg\n",
    "#import cv2 as cv\n",
    "import pandas as pd\n",
    "#import pygame"
   ]
  },
  {
   "attachments": {},
   "cell_type": "markdown",
   "metadata": {},
   "source": [
    "# Capítulo 5"
   ]
  },
  {
   "attachments": {},
   "cell_type": "markdown",
   "metadata": {},
   "source": [
    "# Parte 1"
   ]
  },
  {
   "attachments": {},
   "cell_type": "markdown",
   "metadata": {},
   "source": [
    "# Exercício 1\n",
    "**Objetivo: Executar um sistema dinâmico e procurar por pontos de estabilidade**\n"
   ]
  },
  {
   "attachments": {},
   "cell_type": "markdown",
   "metadata": {},
   "source": [
    "No [capítulo 2](02-sistemas_lineares.ipynb), usamos uma matriz para representar dois sistemas que operam dinamicamente: a população de carcarás e sapos numa região fictícia, e a dinâmica de navegação de um web-surfista aleatório. Se precisar, revise esse material!\n",
    "\n",
    "Esses dois sistemas são chamados de *sistemas dinâmicos* porque eles estão tratando de uma evolução de elementos ao longo do tempo. Como já falamos de carcarás e navegadores, vamos tratar agora de um outro sistema bem interessante, que é o de bicicletas públicas de Montreal.\n",
    "\n",
    "Já por perto de 2010 a 2011, Montreal tinha um sistema de bicicletas públicas bastante parecido com as bicicletas Itaú que temos hoje em São Paulo. Só que Montreal é uma cidade que fica em uma montanha (cujo ponto mais alto é o [Mount Royal](https://www.google.com/maps/place/Mount+Royal+Park/@45.5023053,-73.6098349,14.25z/data=!4m13!1m7!3m6!1s0x4cc91a541c64b70d:0x654e3138211fefef!2sMontreal,+QC,+Canada!3b1!8m2!3d45.5018869!4d-73.5673919!3m4!1s0x4cc91a3b89d50ee1:0x4c8dc463a4718c9a!8m2!3d45.5015664!4d-73.5932179)), o que levou a um problema interessante: as pessoas tendem a tomar uma bicicleta emprestada na estação que fica na região mais alta e devolver em uma das estações das regiões mais baixas, mas raramente alguém faz o caminho inverso. O fim dessa história é que a [prefeitura contratou caminhões para ficarem levando bicicletas morro acima](https://www.csmonitor.com/World/Global-News/2011/0921/Montreal-s-public-bike-system-faces-uphill-battle), e uma consequência inesperada é que essa história seria um exemplo numa aula de álgebra linear dez anos depois num outro hemisfério.\n",
    "\n",
    "---\n",
    "\n",
    "Em nosso modelo, vamos fazer várias suposições que cabem para o nosso exemplo, mas que não necessariamente correspondem a dados reais.\n",
    "\n",
    "* Vamos supor que temos três estações. As duas primeiras (E1 e E2) ficam na parte baixa da cidade. A outra estação (E3) fica na parte alta.\n",
    "* Quando uma bicicleta é tomada emprestada em E1, ela tem 90% de chance de ser devolvida em E2 e 10% de chance de ser devolvida em E3.\n",
    "* Quando uma bicicleta é tomada emprestada em E2, ela tem 95% de chance de ser devolvida em E1 e 5% de chance de ser devolvida em E3.\n",
    "* Quando uma bicicleta é tomada emprestada em E3, ela tem 70% de chance de ser devolvida em E1 e 30% de chance de ser devolvida em E2.\n",
    "\n",
    "Vamos supor que cada estação começa com 10 bicicletas, e que não há um limite máximo de bicicletas que podem ficar em cada estação.\n",
    "\n",
    "Gostaríamos de saber:\n",
    "\n",
    "(a) Após alguns dias de iterações aleatórias, quantas bicicletas esperamos encontrar em cada uma das estações?\n",
    "\n",
    "(b) Com esses dados inventados, vai ser necessário contratar caminhões para levar bicicletas de alguma estação para outra? Para quais?\n",
    "\n",
    "(c) Se, ao invés de começarmos nossas iterações com 10 bicicletas em cada estação, começarmos com todas as 30 bicicletas na estação E3, no topo do morro, devemos encontrar uma quantidade final de bicicletas diferente, ao fim de várias iterações?\n",
    "\n",
    "---\n",
    "\n",
    "Discussão sobre a solução:\n",
    "\n",
    "Sob um ponto de vista matemático, um ciclista aleatório parece se comportar de uma maneira muito parecida com um web-surfista aleatório! Veja o exercício 14 do capítulo de sistemas lineares para uma explicação sobre isso. Podemos representar nosso vetor de bicicletas como:\n",
    "\n",
    "$$\n",
    "x_0 = 30 \\begin{bmatrix} 1/3 \\\\ 1/3 \\\\ 1/3 \\end{bmatrix}\n",
    "$$\n",
    "\n",
    "e a matriz que representa as transições entre estações será a matriz $A$ de forma que $a[i,j]=P(s_t = i | s_{t-1}=j)$, isto é, a $a_{i,j}$ é a probabilidade de uma bicicleta ser deixada na estação $i$ sabendo que ela estava estação $j$:\n",
    "\n",
    "$$\n",
    "A = \\begin{bmatrix} \n",
    "    0 & 0.9 & 0.7 \\\\\n",
    "    0.95 & 0 & 0.3 \\\\\n",
    "    0.05 & 0.1 & 0 \n",
    "    \\end{bmatrix}\n",
    "$$\n",
    "\n"
   ]
  },
  {
   "cell_type": "code",
<<<<<<< HEAD
   "execution_count": 2,
=======
   "execution_count": null,
>>>>>>> adc65eeb657207b62ad44029da59ef3b8215ea99
   "metadata": {},
   "outputs": [],
   "source": [
    "import numpy as np\n",
    "# Comecei com as matrizes já digitadas no código \n",
    "x = 1*np.array([[1], [1], [1]])/3\n",
    "A = np.array( [ [0, 0.95, 0.05], [0.9, 0, 0.1], [0.7, 0.3, 0]]).T\n",
    "# um passo: x = A @ x\n",
    "# implemente 100 passos seguidos!\n",
    "for _ in range(1000):\n",
    "    x = A@x\n",
    "\n",
<<<<<<< HEAD
    "# Número de bicicletas por estação = # total de bicicletas * P(bicicleta por estação)"
=======
    "# Número de bicicletas por estação = # total de bicicletas * P(bicicleta por estação)\n",
    "print(x)"
>>>>>>> adc65eeb657207b62ad44029da59ef3b8215ea99
   ]
  },
  {
   "cell_type": "code",
   "execution_count": 3,
   "metadata": {},
<<<<<<< HEAD
   "outputs": [
    {
     "data": {
      "text/plain": [
       "array([[0.34, 0.6 , 0.46],\n",
       "       [0.44, 0.83, 0.05],\n",
       "       [0.08, 0.44, 0.98]])"
      ]
     },
     "execution_count": 3,
     "metadata": {},
     "output_type": "execute_result"
    }
   ],
   "source": [
    "import numpy as np\n",
    "\n",
    "v = np.array([[0.84638897, -0.57067253, 0.09818859], [-0.50454145, -0.50402138, -0.56958431], [0.17048062, -0.64830187, 0.81604700]])\n",
    "w = np.array([0.07498735, 1.39249798, 0.68251467])\n",
    "X = v @ np.diag(w) @ np.linalg.inv(v)\n",
    "X"
   ]
  },
  {
   "cell_type": "code",
   "execution_count": 4,
   "metadata": {},
   "outputs": [
    {
     "data": {
      "text/plain": [
       "(array([ 3.79135784, -0.95777157,  0.76873988,  0.40016361,  0.34120814,\n",
       "        -0.02209959, -0.4527269 , -0.25887141]),\n",
       " array([[-0.32665105, -0.30213368, -0.23213569, -0.32383993, -0.35249512,\n",
       "         -0.36020218, -0.49923827, -0.37418952],\n",
       "        [-0.33250412, -0.40279766,  0.16081026,  0.29562107,  0.12204734,\n",
       "         -0.41697748,  0.28445631,  0.58673856],\n",
       "        [ 0.46384296,  0.09943217, -0.45269403, -0.05491779, -0.45444381,\n",
       "         -0.16315071,  0.54463674, -0.19299893],\n",
       "        [-0.22117207, -0.48956928,  0.02682107, -0.21828436, -0.03548594,\n",
       "          0.65791779, -0.17516363,  0.44524154],\n",
       "        [ 0.18133344,  0.54771831, -0.12531951,  0.11715899,  0.31242617,\n",
       "         -0.62066545, -0.39165902, -0.03819858],\n",
       "        [ 0.11047387, -0.50356717,  0.25877228,  0.30886136, -0.70798619,\n",
       "          0.1963999 ,  0.1642772 , -0.07108333],\n",
       "        [-0.18392932,  0.01712735,  0.29450387, -0.64116484,  0.35869531,\n",
       "         -0.29474309,  0.26094185,  0.42944768],\n",
       "        [-0.13477531,  0.43071237, -0.06145544,  0.36253013, -0.76003797,\n",
       "         -0.23727   , -0.13971006,  0.08742958]]))"
      ]
     },
     "execution_count": 4,
     "metadata": {},
     "output_type": "execute_result"
    }
   ],
   "source": [
    "A = np.array([[0.70, 0.39, 0.08, 0.48, 0.19, 0.20, 0.59, 0.76], [0.68, 0.21, 0.31, 0.68, 0.41, 0.07, 0.40, 0.53], [0.11, 0.55, 0.62, 0.45, 0.24, 0.58, 0.13, 0.08], [0.82, 0.72, 0.97, 0.01, 0.15, 0.48, 0.30, 0.37], [0.45, 0.83, 0.81, 0.67, 0.21, 0.67, 0.10, 0.45], [0.15, 0.52, 0.33, 0.57, 0.24, 0.60, 0.56, 0.85], [0.92, 0.99, 0.37, 0.53, 0.20, 0.93, 0.82, 0.59], [0.91, 0.84, 0.70, 0.33, 0.18, 1.00, 0.02, 0.44]])\n",
    "w,v = np.linalg.eig(A)\n",
    "w,v.T"
   ]
  },
  {
   "cell_type": "code",
   "execution_count": 5,
   "metadata": {},
   "outputs": [
    {
     "data": {
      "text/plain": [
       "(array([0.  , 0.35]),\n",
       " array([[0.        , 0.41380294],\n",
       "        [1.        , 0.91036648]]))"
      ]
     },
     "execution_count": 5,
     "metadata": {},
     "output_type": "execute_result"
    }
   ],
   "source": [
    "import numpy as np\n",
    "\n",
    "A = np.array([[0.35, 0.00], [0.77, 0.00]])\n",
    "\n",
    "w,v = np.linalg.eig(A)\n",
    "\n",
    "w,v"
=======
   "outputs": [],
   "source": [
    "A@x"
>>>>>>> adc65eeb657207b62ad44029da59ef3b8215ea99
   ]
  },
  {
   "attachments": {},
   "cell_type": "markdown",
   "metadata": {},
   "source": [
    "# Exercício 2\n",
    "**Objetivo: calcular auto-valores e auto-vetores usando pacotes Python**\n",
    "\n",
    "O problema das bicicletas de Montreal (assim como o PageRank e o problema dos carcarás do Capítulo 2) está ligado a uma característica de matrizes que é a existência de vetores e valores chamados de auto-valores e de auto-vetores. Quando um auto-vetor de uma matriz é multiplicado pela própria matriz, o resultado é um múltiplo do próprio vetor, isto é:\n",
    "\n",
    "$$\n",
    "Ax = x \\lambda,\n",
    "$$\n",
    "onde: $A$ é a matriz, $x$ é o auto-vetor e $\\lambda$ é o auto-valor correspondente.\n",
    "\n",
    "Por exemplo:\n",
    "\n",
    "$$\n",
    "\\begin{bmatrix} \n",
    "    2 & 0  \\\\\n",
    "    0 & 1 \n",
    "\\end{bmatrix}\n",
    "\\begin{bmatrix} \n",
    "    1 \\\\\n",
    "    0  \n",
    "\\end{bmatrix}\n",
    "= \n",
    "\\begin{bmatrix} \n",
    "    2 \\\\\n",
    "    0  \n",
    "\\end{bmatrix}\n",
    "=\n",
    "2\n",
    "\\begin{bmatrix} \n",
    "    1 \\\\\n",
    "    0  \n",
    "\\end{bmatrix},\n",
    "$$\n",
    "portanto $[1,0]^T$ é um auto-vetor de $[[2, 0],[0,1]]$, e $2$ é o auto-valor correspondente.\n",
    "\n",
    "Se tivermos algum vetor na mesma direção de $x$ mas multiplicado por algum número real $\\alpha$, isto é, $y=\\alpha x$, podemos manter a mesma equação:\n",
    "\n",
    "$$\n",
    "A \\alpha x = \\alpha x \\lambda \\rightarrow Ay = y \\lambda.\n",
    "$$\n",
    "\n",
    "a) No problema das bicicletas de Montreal, encontramos um auto-vetor da matriz $A$. Qual é esse auto-vetor, e qual é o auto-valor correspondente? \n",
    "    - R :\n",
    "    $$\n",
    "    autovetor = \n",
    "    \\begin{bmatrix} \n",
    "        13.99017662 \\\\\n",
    "        13.91849002 \\\\\n",
    "        2.09133335 \\\\\n",
    "    \\end{bmatrix}\n",
    "    $$\n",
    "Lembrando que:\n",
    "$$\n",
    "A = \\begin{bmatrix} \n",
    "    0 & 0.9 & 0.7 \\\\\n",
    "    0.95 & 0 & 0.3 \\\\\n",
    "    0.05 & 0.1 & 0 \n",
    "    \\end{bmatrix}\n",
    "$$\n",
    "\n",
    "b) A instrução `w, v = np.linalg.eig(A)` retorna os auto-vetores da matriz A na variável `v` e os auto-valores correspondentes na variável `w`. Use essa função para calcular os auto-valores e auto-vetores da matriz $A$ do problema das bicicletas de Montreal.\n"
   ]
  },
  {
   "cell_type": "code",
<<<<<<< HEAD
   "execution_count": 6,
   "metadata": {},
   "outputs": [
    {
     "data": {
      "text/plain": [
       "(array([0.  , 0.35]),\n",
       " array([[0.        , 0.41380294],\n",
       "        [1.        , 0.91036648]]))"
      ]
     },
     "execution_count": 6,
     "metadata": {},
     "output_type": "execute_result"
    }
   ],
   "source": [
    "w,v = np.linalg.eig(A)\n",
    "w,v"
=======
   "execution_count": null,
   "metadata": {},
   "outputs": [],
   "source": [
    "A = np.array( [ [0, 0.95, 0.05], [0.9, 0, 0.1], [0.7, 0.3, 0]]).T\n",
    "w, v = np.linalg.eig(A)\n",
    "print(w)\n",
    "print(v)\n",
    "print( v[:,0]/v[0,0] )\n",
    "print( x / x[0,0])"
>>>>>>> adc65eeb657207b62ad44029da59ef3b8215ea99
   ]
  },
  {
   "attachments": {},
   "cell_type": "markdown",
   "metadata": {},
   "source": [
    "# Exercício 3\n",
    "**Objetivo: auto-vetores e auto-valores como pontos de estabilidade, expansão, ou colapso**\n",
    "\n",
    " Vamos retomar o problema da população de carcarás e de sapos no Capítulo 2. Nesse problema, tínhamos a situação em que carcarás estão no mesmo habitat que sapos, obedecendo às seguintes regras:\n",
    "\n",
    "* A população de carcarás naturalmente cai em 20% a cada mês\n",
    "* Para cada cinco mil sapos existentes naquele mês, um novo carcará nasce\n",
    "* A população de sapos naturalmente sobe em 10% porque eles se reproduzem\n",
    "* A cada mês, cada carcará consegue comer 100 sapos\n",
    "\n",
    "Isso significa que podemos escrever equações para calcular o número de carcarás e de sapos a cada mês, tomando por base a quantidade deles no mês anterior:\n",
    "\n",
    "$$ \n",
    "\\begin{cases}\n",
    "    \\begin{aligned}\n",
    "    c_t & = 0.8 c_{t-1} + 0.2 s_{t-1} \\\\\n",
    "    s_t & = - 0.1 c_{t-1} + 1.1 s_{t-1} \\\\\n",
    "    \\end{aligned}\n",
    "\\end{cases}\n",
    "$$\n",
    "\n",
    "Podemos fazer esse cálculo usando a operação matricial:\n",
    "$$\n",
    "\\begin{bmatrix}\n",
    "    c_t \\\\\n",
    "    s_t \n",
    "\\end{bmatrix}\n",
    "=\n",
    "\\begin{bmatrix}\n",
    "    0.8 & 0.2\\\\\n",
    "    -0.1 & 1.1\n",
    "\\end{bmatrix} \n",
    "\\begin{bmatrix}\n",
    "    c_{t-1} \\\\\n",
    "    s_{t-1}\n",
    "\\end{bmatrix}\n",
    "$$\n",
    "\n",
    "Como já vimos, podemos calcular a dinâmica da população ao longo do tempo partindo, por exemplo, de 600 carcarás e 500 mil sapos:"
   ]
  },
  {
   "cell_type": "code",
<<<<<<< HEAD
   "execution_count": 7,
   "metadata": {},
   "outputs": [
    {
     "data": {
      "image/png": "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",
      "text/plain": [
       "<Figure size 504x144 with 1 Axes>"
      ]
     },
     "metadata": {
      "needs_background": "light"
     },
     "output_type": "display_data"
    }
   ],
=======
   "execution_count": null,
   "metadata": {},
   "outputs": [],
>>>>>>> adc65eeb657207b62ad44029da59ef3b8215ea99
   "source": [
    "import matplotlib.pyplot as plt\n",
    "A = np.array([[0.8, 0.2], [-0.1,  1.1]])\n",
    "x = np.array([[600], [500]])\n",
    "populacao_carcaras = []\n",
    "populacao_sapos = []\n",
    "for _ in range(1000):\n",
    "    populacao_carcaras.append(x[0,0])\n",
    "    populacao_sapos.append(x[1,0])\n",
    "    x = A @ x\n",
    "\n",
    "plt.figure(figsize=(7,2))\n",
    "plt.plot(populacao_carcaras, label='Carcarás')\n",
    "plt.plot(populacao_sapos, label='Sapos (* 1000)')\n",
    "plt.ylim([0,800])\n",
    "plt.ylabel('População')\n",
    "plt.xlabel('Semanas')\n",
    "plt.show()"
   ]
  },
  {
   "cell_type": "code",
   "execution_count": 8,
   "metadata": {},
   "outputs": [
    {
     "data": {
      "image/png": "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",
      "text/plain": [
       "<Figure size 432x288 with 1 Axes>"
      ]
     },
     "metadata": {
      "needs_background": "light"
     },
     "output_type": "display_data"
    }
   ],
   "source": [
    "A = np.array([[1.17,0],[0,1.17]])\n",
    "x = np.array([[600],[600]])\n",
    "\n",
    "populacao1 = []\n",
    "populacao2 = []\n",
    "for _ in range(100):\n",
    "    populacao1.append(x[0][0])\n",
    "    populacao2.append(x[1][0])\n",
    "    x = A @ x\n",
    "\n",
    "plt.figure()\n",
    "plt.plot(populacao1, label='Something')\n",
    "plt.plot(populacao2, label='Something2')\n",
    "plt.ylabel('População')\n",
    "plt.xlabel('passos')\n",
    "plt.show()"
   ]
  },
  {
   "attachments": {},
   "cell_type": "markdown",
   "metadata": {},
   "source": [
    "a) Usando a função `np.linalg.eig`, encontre os auto-valores e auto-vetores da matriz que representa a dinâmica da população de carcarás e sapos. \n"
   ]
  },
  {
   "cell_type": "code",
   "execution_count": null,
   "metadata": {},
   "outputs": [],
   "source": [
    "w, v = np.linalg.eig(A)\n",
    "print(w, v)"
   ]
  },
  {
   "attachments": {},
   "cell_type": "markdown",
   "metadata": {},
   "source": [
    "\n",
    "b) Qual é o auto-vetor correspondente ao auto-valor $1$?\n"
   ]
  },
  {
   "cell_type": "markdown",
   "metadata": {},
   "source": []
  },
  {
   "attachments": {},
   "cell_type": "markdown",
   "metadata": {},
   "source": [
    "\n",
    "c) Como esse auto-vetor corresponde à dinâmica de população que observamos ao simular o sistema?\n",
    "\n"
   ]
  },
  {
   "cell_type": "markdown",
   "metadata": {},
   "source": []
  },
  {
   "cell_type": "code",
   "execution_count": null,
   "metadata": {},
   "outputs": [],
   "source": [
    "print(w)\n",
    "print(v)\n",
    "print( v[:,1]/v[0,1] )\n",
    "print( x / x[0,0])"
   ]
  },
  {
   "attachments": {},
   "cell_type": "markdown",
   "metadata": {},
   "source": [
    "\n",
    "\n",
    "d) O que acontece com o sistema se as condições iniciais forem iguais ao auto-vetor correspondente ao outro auto-valor?\n",
    "\n"
   ]
  },
  {
   "cell_type": "code",
   "execution_count": null,
   "metadata": {},
   "outputs": [],
   "source": [
    "x = v[:,0].reshape( (2,1))\n",
    "x *= -100\n",
    "print(x)\n",
    "import matplotlib.pyplot as plt\n",
    "A = np.array([[0.8, 0.2], [-0.1,  1.1]])\n",
    "populacao_carcaras = []\n",
    "populacao_sapos = []\n",
    "for _ in range(100):\n",
    "    populacao_carcaras.append(x[0,0])\n",
    "    populacao_sapos.append(x[1,0])\n",
    "    x = A @ x\n",
    "\n",
    "plt.figure(figsize=(7,2))\n",
    "plt.plot(populacao_carcaras, label='Carcarás')\n",
    "plt.plot(populacao_sapos, label='Sapos (* 1000)')\n",
    "#plt.ylim([0,800])\n",
    "plt.ylabel('População')\n",
    "plt.xlabel('Semanas')\n",
    "plt.show()"
   ]
  },
  {
   "cell_type": "markdown",
   "metadata": {},
   "source": [
    "\n",
    "\n",
    "e) Explique essa dinâmica usando o conceito de auto-valores e auto-vetores, isto é, a equação $Ax = x \\lambda$ onde $A$ é a matriz da dinâmica, $x$ é o auto-vetor e $\\lambda$ é o auto-valor correspondente."
   ]
  },
  {
   "attachments": {},
   "cell_type": "markdown",
   "metadata": {},
   "source": [
    "# Exercício 4\n",
    "*Objetivo: encontrar uma matriz à partir de seus auto-valores e auto-vetores*\n",
    "\n",
    "Em algumas situações (por exemplo, quando estou montando essa lista de exercícios - mas, de forma mais geral, quando estamos projetando sistemas dinâmicos), gostaríamos de encontrar matrizes que têm os autovalores e autovetores que queremos. Para isso, vamos escrever a equação de autovetores e autovalores na forma matricial.\n",
    "\n",
    "Quando estamos falando de somente um auto-vetor, podemos escrever:\n",
    "\n",
    "$$\n",
    "Ax = x \\lambda\n",
    "$$\n",
    "\n",
    "Porém, se tivermos dois auto-vetores, e seus auto-valores correspondentes, temos na verdade um sistema:\n",
    "\n",
    "$$\n",
    "\\begin{cases}\n",
    "Ax_1 = x_1 \\lambda_1 \\\\\n",
    "Ax_2 = x_2 \\lambda_2 \n",
    "\\end{cases}\n",
    "$$\n",
    "\n",
    "Esse sistema pode ser escrito na forma de uma multiplicação matricial, se assumirmos que nossos auto-vetores são vetores-coluna:\n",
    "\n",
    "$$\n",
    "A \\begin{bmatrix} x_1 & x_2 \\end{bmatrix} = \\begin{bmatrix} x_1 & x_2 \\end{bmatrix} \\begin{bmatrix} \\lambda_1 & 0 \\\\ 0 & \\lambda_2 \\end{bmatrix} \n",
    "$$\n",
    "\n",
    "Multiplicando os dois lados da equação por $\\begin{bmatrix} x_1 & x_2 \\end{bmatrix}^{-1}$, ficamos com:\n",
    "\n",
    "$$\n",
    "A \\begin{bmatrix} x_1 & x_2 \\end{bmatrix}\\begin{bmatrix} x_1 & x_2 \\end{bmatrix}^{-1} = \\begin{bmatrix} x_1 & x_2 \\end{bmatrix} \\begin{bmatrix} \\lambda_1 & 0 \\\\ 0 & \\lambda_2 \\end{bmatrix} \\begin{bmatrix} x_1 & x_2 \\end{bmatrix}^{-1}\n",
    "$$\n",
    "\n",
    "e, portanto:\n",
    "$$\n",
    "A = \\begin{bmatrix} x_1 & x_2 \\end{bmatrix} \\begin{bmatrix} \\lambda_1 & 0 \\\\ 0 & \\lambda_2 \\end{bmatrix} \\begin{bmatrix} x_1 & x_2 \\end{bmatrix}^{-1}\n",
    "$$\n",
    "\n",
    "Por exemplo, se quiséssemos uma matriz cujos auto-valores são $0.7$ e $0.2$ e os auto-vetores correspondentes são $[1,0]^T$ e $[0.5, 0.5]^T$, então deveríamos calcular:\n",
    "\n",
    "$$\n",
    "A = \\begin{bmatrix} 1 & 0.5 \\\\ 0 & 0.5 \\end{bmatrix} \\begin{bmatrix} 0.7 & 0 \\\\ 0  & 0.2 \\end{bmatrix} \\begin{bmatrix} 1 & 0.5 \\\\ 0 & 0.5 \\end{bmatrix}^{-1}\n",
    "$$\n",
    "\n",
    "Encontre a matriz com autovetores $[1,0]^T$ e $[0.5, 0.5]^T$ e autovalores $0.7$ e $0.2$."
   ]
  },
  {
   "cell_type": "code",
<<<<<<< HEAD
   "execution_count": 9,
=======
   "execution_count": null,
>>>>>>> adc65eeb657207b62ad44029da59ef3b8215ea99
   "metadata": {},
   "outputs": [],
   "source": [
    "S = np.array( [[1, 0], [0.5, 0.5]]).T\n",
    "L = np.array( [ [0.7, 0], [0, 0.2] ])\n",
    "S @ L @ np.linalg.inv(S)"
   ]
  },
  {
   "cell_type": "code",
   "execution_count": null,
   "metadata": {},
   "outputs": [],
   "source": [
    "import matplotlib.pyplot as plt\n",
    "S = np.array( [[1, 0.5], [1.5, 0.5]]).T\n",
    "L = np.array( [ [1, 0], [0, 1] ])\n",
    "A_din = S @ L @ np.linalg.inv(S)\n",
    "print(A_din)\n",
    "x = np.array([[1000, 1100]]).T\n",
    "print(x)\n"
   ]
  },
  {
   "cell_type": "code",
   "execution_count": null,
   "metadata": {},
   "outputs": [],
   "source": [
    "\n",
    "populacao_carcaras = []\n",
    "populacao_sapos = []\n",
    "for _ in range(100):\n",
    "    populacao_carcaras.append(x[0,0])\n",
    "    populacao_sapos.append(x[1,0])\n",
    "    x = A_din @ x\n",
    "\n",
    "plt.figure(figsize=(7,2))\n",
    "plt.plot(populacao_carcaras, label='Carcarás')\n",
    "plt.plot(populacao_sapos, label='Sapos (* 1000)')\n",
    "#plt.ylim([0,800])\n",
    "plt.ylabel('População')\n",
    "plt.xlabel('Semanas')\n",
    "\n",
    "plt.show()"
   ]
  },
  {
   "attachments": {},
   "cell_type": "markdown",
   "metadata": {},
   "source": [
    "# Exercício 5\n",
    "*Objetivo: relacionar autovalores ao colapso, explosão e ao equilíbrio de sistemas dinâmicos*\n",
    "\n",
    "Até o momento, usamos um vetor $v$ para representar o estado de sistemas - a quantidade de bicicletas nas estações em algum momento, a quantidade de animais em alguma semana, e assim por diante. Vamos chamar nossa condição inicial de $v_0$, significando o vetor de estados $v$ no tempo $0$ (e, portanto, $v_1$ é o estado após uma iteração, e $v_{223}$ é o estado após $223$ iterações).\n",
    "\n",
    "Quando aplicamos uma matriz sobre um vetor de estados qualquer $v_0$, isto é, quando damos um passo em nosso sistema dinâmico, temos a situação:\n",
    "\n",
    "$$\n",
    "v_1 = A v_{0}\n",
    "$$\n",
    "\n",
    "Podemos aplicar novamente a matriz sobre $v_1$, encontrando:\n",
    "$$\n",
    "v_2 = A v_1 = A A v_0 = A^2 v_0.\n",
    "$$\n",
    "\n",
    "E, ao longo de $N$ iterações, teremos:\n",
    "$$\n",
    "v_N = A^N v_0\n",
    "$$\n",
    "---\n",
    "\n",
    "Isso é  o que fizemos diversas vezes até este momento. Vamos agora re-escrever essa mesma equação na usando a forma de autovalores e autovetores. As passagens que seguem parecem um pouco longas porque as expressões são longas, mas são somente a consequência de trocar $A$ nas equações acima pela decomposição matricial:\n",
    "\n",
    "$$\n",
    "A = \\begin{bmatrix} x_1 & x_2 \\end{bmatrix} \\begin{bmatrix} \\lambda_1 & 0 \\\\ 0 & \\lambda_2 \\end{bmatrix} \\begin{bmatrix} x_1 & x_2 \\end{bmatrix}^{-1}\n",
    "$$\n",
    "\n",
    "Aplicando essa mudança na primeira expressão, temos:\n",
    "\n",
    "$$\n",
    "v_1 = A v_0 = \\begin{bmatrix} x_1 & x_2 \\end{bmatrix} \\begin{bmatrix} \\lambda_1 & 0 \\\\ 0 & \\lambda_2 \\end{bmatrix} \\begin{bmatrix} x_1 & x_2 \\end{bmatrix}^{-1} v_{0}\n",
    "$$\n",
    "\n",
    "Na segunda iteração, temos:\n",
    "\n",
    "$$\n",
    "v_2 = A v_1 = \\left( A \\right) A v_0 = \\left( \\begin{bmatrix} x_1 & x_2 \\end{bmatrix} \\begin{bmatrix} \\lambda_1 & 0 \\\\ 0 & \\lambda_2 \\end{bmatrix} \\begin{bmatrix} x_1 & x_2 \\end{bmatrix}^{-1} \\right) \\begin{bmatrix} x_1 & x_2 \\end{bmatrix} \\begin{bmatrix} \\lambda_1 & 0 \\\\ 0 & \\lambda_2 \\end{bmatrix} \\begin{bmatrix} x_1 & x_2 \\end{bmatrix}^{-1}v_0\n",
    "$$\n",
    "\n",
    "Veja que podemos simplificar a multiplicação $ \\begin{bmatrix} x_1 & x_2 \\end{bmatrix}^{-1} \\begin{bmatrix} x_1 & x_2 \\end{bmatrix}$ no meio da cadeia de multiplicações, já que ela é igual à identidade. Ficamos então com:\n",
    "\n",
    "$$\n",
    "v_2 = \\begin{bmatrix} x_1 & x_2 \\end{bmatrix} \\begin{bmatrix} \\lambda_1 & 0 \\\\ 0 & \\lambda_2 \\end{bmatrix} \\begin{bmatrix} \\lambda_1 & 0 \\\\ 0 & \\lambda_2 \\end{bmatrix} \\begin{bmatrix} x_1 & x_2 \\end{bmatrix}^{-1}v_0\n",
    "$$\n",
    "\n",
    "Podemos resumir a multiplicação matricial $\\begin{bmatrix} \\lambda_1 & 0 \\\\ 0 & \\lambda_2 \\end{bmatrix} \\begin{bmatrix} \\lambda_1 & 0 \\\\ 0 & \\lambda_2 \\end{bmatrix}$ como $\\begin{bmatrix} \\lambda_1 & 0 \\\\ 0 & \\lambda_2 \\end{bmatrix}^2$, ficando com:\n",
    "\n",
    "$$\n",
    "v_2 = \\begin{bmatrix} x_1 & x_2 \\end{bmatrix} \\begin{bmatrix} \\lambda_1 & 0 \\\\ 0 & \\lambda_2 \\end{bmatrix} ^2 \\begin{bmatrix} x_1 & x_2 \\end{bmatrix}^{-1}v_0\n",
    "$$\n",
    "\n",
    "Fazendo uma nova multiplicação por $A$, vamos encontrar:\n",
    "$$\n",
    "v_3 = \\left( A \\right) v_2 = \\left( \\begin{bmatrix} x_1 & x_2 \\end{bmatrix} \\begin{bmatrix} \\lambda_1 & 0 \\\\ 0 & \\lambda_2 \\end{bmatrix} \\begin{bmatrix} x_1 & x_2 \\end{bmatrix}^{-1} \\right) \\begin{bmatrix} x_1 & x_2 \\end{bmatrix} \\begin{bmatrix} \\lambda_1 & 0 \\\\ 0 & \\lambda_2 \\end{bmatrix} ^2 \\begin{bmatrix} x_1 & x_2 \\end{bmatrix}^{-1}v_0\n",
    "$$\n",
    "\n",
    "Novamente, podemos trocar a multiplicação matricial $ \\begin{bmatrix} x_1 & x_2 \\end{bmatrix}^{-1} \\begin{bmatrix} x_1 & x_2 \\end{bmatrix}$ pela identidade, e agrupar $\\begin{bmatrix} \\lambda_1 & 0 \\\\ 0 & \\lambda_2 \\end{bmatrix} \\begin{bmatrix} \\lambda_1 & 0 \\\\ 0 & \\lambda_2 \\end{bmatrix}^2$ como $\\begin{bmatrix} \\lambda_1 & 0 \\\\ 0 & \\lambda_2 \\end{bmatrix}^3$, ficando com:\n",
    "\n",
    "$$\n",
    "v_3 = \\begin{bmatrix} x_1 & x_2 \\end{bmatrix} \\begin{bmatrix} \\lambda_1 & 0 \\\\ 0 & \\lambda_2 \\end{bmatrix} ^3 \\begin{bmatrix} x_1 & x_2 \\end{bmatrix}^{-1} v_0\n",
    "$$\n",
    "\n",
    "Podemos fazer essa mesma operação $N$ vezes, ficando com:\n",
    "\n",
    "$$\n",
    "v_N = \\begin{bmatrix} x_1 & x_2 \\end{bmatrix} \\begin{bmatrix} \\lambda_1 & 0 \\\\ 0 & \\lambda_2 \\end{bmatrix} ^N \\begin{bmatrix} x_1 & x_2 \\end{bmatrix}^{-1} v_0\n",
    "$$\n",
    "\n",
    "Como $\\begin{bmatrix} \\lambda_1 & 0 \\\\ 0 & \\lambda_2 \\end{bmatrix} ^N = \\begin{bmatrix} \\lambda_1 ^N & 0 \\\\ 0 & \\lambda_2 ^N \\end{bmatrix}$, a expressão fica:\n",
    "\n",
    "$$\n",
    "v_N = \\begin{bmatrix} x_1 & x_2 \\end{bmatrix} \\begin{bmatrix} \\lambda_1^N & 0 \\\\ 0 & \\lambda_2^N \\end{bmatrix} \\begin{bmatrix} x_1 & x_2 \\end{bmatrix}^{-1} v_0\n",
    "$$\n",
    "\n",
    "---\n",
    "\n",
    "Veja que agora sabemos que:\n",
    "$$\n",
    "A^N = \\begin{bmatrix} x_1 & x_2 \\end{bmatrix} \\begin{bmatrix} \\lambda_1^N & 0 \\\\ 0 & \\lambda_2^N \\end{bmatrix} \\begin{bmatrix} x_1 & x_2 \\end{bmatrix}^{-1}\n",
    "$$ \n",
    "\n",
    "Usando valores à sua escolha e supondo que $A \\in \\mathbb{R}^{2\\times 2}$, monte exemplos que mostrem o que acontece com os valores de $A^N$ se:\n",
    "\n",
    "1. Todos os auto-valores forem positivos e menores que 1?\n",
    "2. Somente um auto-valor for igual a 1, e os demais forem positivos e iguais a 1?\n",
    "3. Um dos auto-valores de for maior que 1\n",
    "4. Todos os auto-valores forem iguais a 1\n",
    "5. Relacione as suas respostas anteriores aos conceitos de *explosão* (tender ao infinito ao longo de muitas iterações), *colapso* (tender a zero ao longo de muitas iterações) e *equilíbrio* (tender a um valor constante não-zero ao longo de muitas iteraçõees)."
   ]
  },
  {
   "cell_type": "code",
   "execution_count": 10,
   "metadata": {},
   "outputs": [],
   "source": [
    "S = np.array( [[1, 0], [0.5, 0.5]]).T # Provavelmente podemos resolver este exercício sem alterar isso.\n",
    "L = np.array( [ [0.7, 0], [0, 0.2] ]) # Você provavelmente quer alterar esta linha!\n"
   ]
  },
  {
   "attachments": {},
   "cell_type": "markdown",
   "metadata": {},
   "source": [
    "# Exercício 6\n",
    "*Objetivo: relacionar colapso, explosão e equilíbrio situações práticas*\n",
    "\n",
    "Neste exercício, estamos buscando entender como podemos usar a equação que vimos acima:\n",
    "\n",
    "$$\n",
    "v_N = \\begin{bmatrix} x_1 & x_2 \\end{bmatrix} \\begin{bmatrix} \\lambda_1^N & 0 \\\\ 0 & \\lambda_2^N \\end{bmatrix} \\begin{bmatrix} x_1 & x_2 \\end{bmatrix}^{-1} v_0\n",
    "$$\n",
    "\n",
    "pode ser usada para encontrar comportamentos ao longo do tempo em sistemas dinâmicos."
   ]
  },
  {
   "attachments": {},
   "cell_type": "markdown",
   "metadata": {},
   "source": [
    "\n",
    "(a) Usando auto-valores e auto-vetores no caso da população de carcarás, justifique matematicamente o fato de que muito provavelmente a população deve tender a um equilíbrio ao longo de muitos meses. "
   ]
  },
  {
   "cell_type": "code",
<<<<<<< HEAD
   "execution_count": 11,
=======
   "execution_count": null,
>>>>>>> adc65eeb657207b62ad44029da59ef3b8215ea99
   "metadata": {},
   "outputs": [],
   "source": [
    "A = np.array([[0.8, 0.2], [-0.1,  1.1]])\n",
    "w, v = np.linalg.eig(A)\n",
    "print(w)\n",
    "print(v)"
   ]
  },
  {
   "attachments": {},
   "cell_type": "markdown",
   "metadata": {},
   "source": [
    "(b) Partindo do caso da população de carcarás, suponha a seguinte situação. A população local decidiu que existem muitos carcarás nas redondezas, e por isso autorizou a caça. Com isso, ao fim do mês, ao invés de morrerem 20% dos carcarás existentes, morrem 80% dos carcarás existentes. Use auto-valores e auto-vetores para prever se esse processo de caça será eficaz para conter a população de carcarás. Após, confirme seu resultado usando uma simulação."
   ]
  },
  {
   "cell_type": "code",
<<<<<<< HEAD
   "execution_count": 12,
=======
   "execution_count": null,
>>>>>>> adc65eeb657207b62ad44029da59ef3b8215ea99
   "metadata": {},
   "outputs": [],
   "source": [
    "A = np.array([[0.2, 0.2], [-0.1,  1.1]]) # Depois da caça, a nova matriz A ficou assim!!!\n",
    "\n",
    "w, v = np.linalg.eig(A)\n",
    "print(w)\n",
    "print(v)\n",
    "x = np.array([[1000, 1100]]).T\n",
    "\n",
    "populacao_carcaras = []\n",
    "populacao_sapos = []\n",
    "for _ in range(100):\n",
    "    populacao_carcaras.append(x[0,0])\n",
    "    populacao_sapos.append(x[1,0])\n",
    "    x = A @ x\n",
    "\n",
    "plt.figure(figsize=(7,2))\n",
    "plt.plot(populacao_carcaras, label='Carcarás')\n",
    "plt.plot(populacao_sapos, label='Sapos (* 1000)')\n",
    "#plt.ylim([0,800])\n",
    "plt.ylabel('População')\n",
    "plt.xlabel('Semanas')\n",
    "\n",
    "plt.show()"
   ]
  },
  {
   "attachments": {},
   "cell_type": "markdown",
   "metadata": {},
   "source": [
    "(c) Após a publicação de imagens chocantes sobre a caça dos carcarás, foram aprovadas leis de proteção e cuidado ambiental que fazem com que a mortalidade dos carcarás de um mês para o outro seja de apenas 19%. Usando auto-valores e auto-vetores, determine qual é o efeito dessa lei, a longo prazo, para as populações de carcarás e sapos na região."
   ]
  },
  {
   "cell_type": "code",
<<<<<<< HEAD
   "execution_count": 13,
=======
   "execution_count": null,
>>>>>>> adc65eeb657207b62ad44029da59ef3b8215ea99
   "metadata": {},
   "outputs": [],
   "source": [
    "A = np.array([[0.81, 0.2], [-0.1,  1.1]]) # Depois da nova legislação, a nova matriz A ficou assim!!!\n",
    "\n",
    "\n",
    "w, v = np.linalg.eig(A)\n",
    "print(w)\n",
    "print(v)\n",
    "\n",
    "x = np.array([[1000, 1100]]).T\n",
    "\n",
    "populacao_carcaras = []\n",
    "populacao_sapos = []\n",
    "for _ in range(1000):\n",
    "    populacao_carcaras.append(x[0,0])\n",
    "    populacao_sapos.append(x[1,0])\n",
    "    x = A @ x\n",
    "\n",
    "plt.figure(figsize=(7,2))\n",
    "plt.plot(populacao_carcaras, label='Carcarás')\n",
    "plt.plot(populacao_sapos, label='Sapos (* 1000)')\n",
    "#plt.ylim([0,800])\n",
    "plt.ylabel('População')\n",
    "plt.xlabel('Semanas')\n",
    "\n",
    "plt.show()"
   ]
  },
  {
   "attachments": {},
   "cell_type": "markdown",
   "metadata": {},
   "source": [
    "# Parte 2"
   ]
  },
  {
   "attachments": {},
   "cell_type": "markdown",
   "metadata": {},
   "source": [
    "# Exercício 7\n",
    "*Objetivo: representar dados numéricos em uma matriz*\n",
    "\n",
    "Quando vamos processar uma grande quantidade de dados, podemos representá-los usando, por exemplo, dataframes de Pandas:"
   ]
  },
  {
   "cell_type": "code",
<<<<<<< HEAD
   "execution_count": 14,
   "metadata": {},
   "outputs": [
    {
     "name": "stdout",
     "output_type": "stream",
     "text": [
      "       col1      col2\n",
      "0 -0.735152 -0.844225\n",
      "1 -0.921600 -1.712500\n",
      "2 -0.604524 -0.519386\n",
      "3  0.288267  0.133490\n",
      "4 -1.763073  0.367378\n"
     ]
    }
   ],
=======
   "execution_count": null,
   "metadata": {},
   "outputs": [],
>>>>>>> adc65eeb657207b62ad44029da59ef3b8215ea99
   "source": [
    "import pandas as pd\n",
    "import numpy as np\n",
    "col1 = np.random.randn(5)\n",
    "col2 = np.random.randn(5)\n",
    "df = pd.DataFrame()\n",
    "df['col1'] = col1\n",
    "df['col2'] = col2\n",
    "print(df.head())"
   ]
  },
  {
   "attachments": {},
   "cell_type": "markdown",
   "metadata": {},
   "source": [
    "Podemos passar nossos dados para um array de Numpy usando:"
   ]
  },
  {
   "cell_type": "code",
<<<<<<< HEAD
   "execution_count": 15,
   "metadata": {},
   "outputs": [
    {
     "name": "stdout",
     "output_type": "stream",
     "text": [
      "[[-0.73515228 -0.84422542]\n",
      " [-0.92160045 -1.71250008]\n",
      " [-0.60452427 -0.51938623]\n",
      " [ 0.28826678  0.1334903 ]\n",
      " [-1.76307344  0.36737768]]\n"
     ]
    }
   ],
=======
   "execution_count": null,
   "metadata": {},
   "outputs": [],
>>>>>>> adc65eeb657207b62ad44029da59ef3b8215ea99
   "source": [
    "data = df[['col1', 'col2']].to_numpy()\n",
    "print(data)"
   ]
  },
  {
   "attachments": {},
   "cell_type": "markdown",
   "metadata": {},
   "source": [
    "Neste exercício, temos o objetivo de usar um array de numpy para substituir o dataframe. Usaremos o conjunto de dados [Automobile Data](https://www.kaggle.com/datasets/toramky/automobile-dataset), que é uma compilação de dados do *1985 Ward's Automotive Yearbook* e de informações fornecidas por companhias de seguro da época. Para este exercício, estamos especialmente interessados nas *features* *curb-weight* (o peso total de um veículo com o tanque cheio, sem contar os passageiros) e *highway-mpg* (o consumo de combustível do veículo, em milhas por galão).\n",
    "\n",
    "(a) Modifique o código abaixo para que as duas colunas com dados fiquem em um numpy array `X` de dimensão `N x 2`, onde `N` é o número de veículos do dataset;\n",
    "\n",
    "(b) Modifique o código abaixo para que a chamada `plt.scatter` use o array `X` ao invés de chamar o dataframe diretamente;\n",
    "\n",
    "(c) Quais informações foram perdidas quando passamos a usar arrays de numpy no lugar de um dataframe?"
   ]
  },
  {
   "cell_type": "code",
<<<<<<< HEAD
   "execution_count": 16,
   "metadata": {},
   "outputs": [
    {
     "data": {
      "image/png": "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",
      "text/plain": [
       "<Figure size 432x288 with 1 Axes>"
      ]
     },
     "metadata": {
      "needs_background": "light"
     },
     "output_type": "display_data"
    }
   ],
=======
   "execution_count": null,
   "metadata": {},
   "outputs": [],
>>>>>>> adc65eeb657207b62ad44029da59ef3b8215ea99
   "source": [
    "df = pd.read_csv('Automobile_data.csv')\n",
    "features = [\"highway-mpg\", \"curb-weight\"]\n",
    "df = df[features]\n",
    "X = df[features].to_numpy()\n",
    "print(X.shape)\n",
    "import matplotlib.pyplot as plt\n",
    "plt.figure()\n",
    "plt.scatter(X[:,0], X[:,1])\n",
    "plt.show()"
   ]
  },
  {
   "attachments": {},
   "cell_type": "markdown",
   "metadata": {},
   "source": [
    "# Exercício 8\n",
    "\n",
    "*Objetivo: relacionar a equação da matriz de covariância a seu código computacional*\n",
    "\n",
    "Lembre-se que a covariância entre duas colunas $x$ e $y$ de um `dataframe` é calculada por:\n",
    "\n",
    "$$\n",
    "C = \\frac{\\sum_{n=0}^{N-1} (x_n-\\bar{x})(y_n-\\bar{y})}{N-1}.\n",
    "$$\n",
    "\n",
    "Podemos usar Pandas imediatamente para calcular a covariância entre todas as colunas de um dataframe usando:"
   ]
  },
  {
   "cell_type": "code",
<<<<<<< HEAD
   "execution_count": 17,
   "metadata": {},
   "outputs": [
    {
     "data": {
      "text/html": [
       "<div>\n",
       "<style scoped>\n",
       "    .dataframe tbody tr th:only-of-type {\n",
       "        vertical-align: middle;\n",
       "    }\n",
       "\n",
       "    .dataframe tbody tr th {\n",
       "        vertical-align: top;\n",
       "    }\n",
       "\n",
       "    .dataframe thead th {\n",
       "        text-align: right;\n",
       "    }\n",
       "</style>\n",
       "<table border=\"1\" class=\"dataframe\">\n",
       "  <thead>\n",
       "    <tr style=\"text-align: right;\">\n",
       "      <th></th>\n",
       "      <th>highway-mpg</th>\n",
       "      <th>curb-weight</th>\n",
       "    </tr>\n",
       "  </thead>\n",
       "  <tbody>\n",
       "    <tr>\n",
       "      <th>highway-mpg</th>\n",
       "      <td>47.423099</td>\n",
       "      <td>-2859.417360</td>\n",
       "    </tr>\n",
       "    <tr>\n",
       "      <th>curb-weight</th>\n",
       "      <td>-2859.417360</td>\n",
       "      <td>271107.874319</td>\n",
       "    </tr>\n",
       "  </tbody>\n",
       "</table>\n",
       "</div>"
      ],
      "text/plain": [
       "             highway-mpg    curb-weight\n",
       "highway-mpg    47.423099   -2859.417360\n",
       "curb-weight -2859.417360  271107.874319"
      ]
     },
     "execution_count": 17,
     "metadata": {},
     "output_type": "execute_result"
    }
   ],
=======
   "execution_count": null,
   "metadata": {},
   "outputs": [],
>>>>>>> adc65eeb657207b62ad44029da59ef3b8215ea99
   "source": [
    "df.cov()"
   ]
  },
  {
   "attachments": {},
   "cell_type": "markdown",
   "metadata": {},
   "source": [
    "Neste exercício, vamos implementar essa mesma operação em Numpy. Para isso, use o array $X$ que você criou no exercício anterior. Uma das opções é usar o procedimento abaixo:\n",
    "\n",
    "(a) Centralizar cada coluna, isto é, subtrair, de cada coluna, seu valor médio (implementando as operações $x_n-\\bar{x}$ e $y_n-\\bar{y}$)\n",
    "\n",
    "(b) Multiplicar as colunas elemento a elemento (usando o operador `*`)\n",
    "\n",
    "(c) Somar o resultado da multiplicação ($np.sum$)\n",
    "\n",
    "(d) Dividir o resultado por $N-1$.\n",
    "\n",
    "Outra opção é usar a biblioteca `numpy` para calcular a matriz de covariância:"
   ]
  },
  {
   "cell_type": "code",
<<<<<<< HEAD
   "execution_count": 18,
=======
   "execution_count": null,
>>>>>>> adc65eeb657207b62ad44029da59ef3b8215ea99
   "metadata": {},
   "outputs": [],
   "source": [
    "X = df.to_numpy()\n",
    "y = np.mean(X, axis=0, keepdims=True)\n",
    "X = X - np.mean(X, axis=0, keepdims=True) # Linha 2\n",
    "C = X.T @ X # Linha 3\n",
    "C /= X.shape[0]-1 # Linha 4\n",
    "print(C)"
   ]
  },
  {
   "attachments": {},
   "cell_type": "markdown",
   "metadata": {},
   "source": [
    "Relacione cada uma das linhas do código acima a uma parte da equação da covariância."
   ]
  },
  {
   "attachments": {},
   "cell_type": "markdown",
   "metadata": {},
   "source": [
    "# Exercício 9\n",
    "*Objetivo: relacionar os autovetores da matriz de covariância à direção de espalhamento dos dados*\n",
    "\n",
    "Os autovalores e autovetores da matriz de covariância podem ser calculados por:"
   ]
  },
  {
   "cell_type": "code",
<<<<<<< HEAD
   "execution_count": 19,
=======
   "execution_count": null,
>>>>>>> adc65eeb657207b62ad44029da59ef3b8215ea99
   "metadata": {},
   "outputs": [],
   "source": [
    "w, v = np.linalg.eig(C)\n",
    "print(w, v)\n",
    "v0 = v[:,0]\n",
    "v1 = v[:,1]"
   ]
  },
  {
   "attachments": {},
   "cell_type": "markdown",
   "metadata": {},
   "source": [
    "(a) Qual dos autovetores de $C$ está ligado a um autovalor mais alto?\n",
    "\n",
    "(b) Use como base o código abaixo. Adicione nele uma reta na direção do autovetor que você escolheu no ítem (a). Você está buscando um resultado parecido com:\n",
    "\n",
    "<img src=\"reta_pca_1.png\"></img>\n",
    "\n",
    "(c) O que a reta desenhada no ítem (b) indica sobre os seus dados?"
   ]
  },
  {
   "cell_type": "code",
<<<<<<< HEAD
   "execution_count": 20,
   "metadata": {},
   "outputs": [
    {
     "name": "stdout",
     "output_type": "stream",
     "text": [
      "[[ 4.74230990e+01 -2.85941736e+03]\n",
      " [-2.85941736e+03  2.71107874e+05]]\n",
      "[1.72624542e+01 2.71138035e+05] [[-0.99994438  0.01054724]\n",
      " [-0.01054724 -0.99994438]]\n"
     ]
    },
    {
     "data": {
      "image/png": "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",
      "text/plain": [
       "<Figure size 432x288 with 1 Axes>"
      ]
     },
     "metadata": {
      "needs_background": "light"
     },
     "output_type": "display_data"
    }
   ],
   "source": [
    "import pandas as pd\n",
    "import numpy as np\n",
    "\n",
    "\n",
    "X = df.to_numpy()\n",
    "X = X - np.mean(X, axis=0, keepdims=True) # Linha 2\n",
    "\n",
    "C = X.T @ X\n",
    "C /= X.shape[0]-1\n",
    "print(C)\n",
    "\n",
    "w, v = np.linalg.eig(C)\n",
    "print(w, v)\n",
=======
   "execution_count": null,
   "metadata": {},
   "outputs": [],
   "source": [
    "import numpy as np\n",
    "import pandas as pd\n",
    "import matplotlib.pyplot as plt\n",
    "\n",
    "X = df.to_numpy()\n",
    "X = X - np.mean(X, axis=0, keepdims=True) # Linha 2\n",
    "C = X.T @ X # Linha 3\n",
    "C /= X.shape[0]-1 # Linha \n",
    "w, v = np.linalg.eig(C)\n",
    "\n",
>>>>>>> adc65eeb657207b62ad44029da59ef3b8215ea99
    "v0 = v[:,0]\n",
    "v1 = v[:,1]\n",
    "\n",
    "t = np.linspace(-1,1,100)\n",
    "p = [t[i] * v1 for i in range(100)]\n",
    "p = np.array(p)\n",
<<<<<<< HEAD
    "p.shape\n",
    "\n",
    "plt.figure()\n",
    "plt.scatter(X[:,0],X[:,1])\n",
    "plt.plot(1000*p[:,0],1000*p[:,1])\n",
=======
    "p2 = [t[i] * v0 for i in range(100)]\n",
    "p2 = np.array(p2)\n",
    "p.shape\n",
    "\n",
    "plt.figure()\n",
    "plt.scatter(X[:,0], X[:,1])\n",
    "plt.plot(1000*p[:,0], 1000*p[:,1])\n",
    "plt.plot(10*p2[:,0], 10*p2[:,1])\n",
>>>>>>> adc65eeb657207b62ad44029da59ef3b8215ea99
    "plt.show()"
   ]
  },
  {
   "attachments": {},
   "cell_type": "markdown",
   "metadata": {},
   "source": [
    "# Exercício 10\n",
    "*Objetivo: fazer uma projeção PCA como uma mudança de bases*\n",
    "\n",
    "No exercício anterior, vimos que nossos pontos, embora tenham duas dimensões, podem ser razoavelmente bem explicados usando somente uma reta. Então, se pudermos projetar nossos pontos sobre essa reta, podemos reduzir o número de dimensões (ou: reduzir o número de *features*) relacionado a cada ponto.\n",
    "\n",
    "Lembre-se que uma *base* significa que passamos a representar nossos pontos como a combinação linear de vetores-base. Se a base tem vetores-linha $v_1$ e $v_2$, então nossos pontos originais $X$ podem ser representados como pontos $Y$ se:\n",
    "\n",
    "$$\n",
    " Y [v_1, v_2]^T= X\n",
    "$$\n",
    "\n",
    "Lembre-se que, neste caso, $X$ e $Y$ devem ter um ponto por linha e uma feature por coluna.\n",
    "\n",
    "Então, podemos encontrar $Y$ usando:\n",
    "$$\n",
    " Y = X ([v_1, v_2]^T) ^{-1}\n",
    "$$\n",
    "\n",
    "À partir do código abaixo, obtenha a matriz $Y$ e escolha somente a à coluna correspondente à reta que você traçou no exercício anterior. Mostre, na figura abaixo, onde os pontos \"reduzidos\" de $Y$ devem aparecer na reta. Você deve encontrar algo parecido com:\n",
    "\n",
    "<img src=\"projecao_pca_1.png\"></img>"
   ]
  },
  {
   "cell_type": "code",
<<<<<<< HEAD
   "execution_count": 21,
   "metadata": {},
   "outputs": [
    {
     "data": {
      "image/png": "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",
      "text/plain": [
       "<Figure size 216x216 with 1 Axes>"
      ]
     },
     "metadata": {
      "needs_background": "light"
     },
     "output_type": "display_data"
    }
   ],
=======
   "execution_count": null,
   "metadata": {},
   "outputs": [],
>>>>>>> adc65eeb657207b62ad44029da59ef3b8215ea99
   "source": [
    "X = df.to_numpy()\n",
    "X = X - np.mean(X, axis=0, keepdims=True)\n",
    "y = X@np.linalg.inv(v.T)\n",
    "# y = X@v\n",
    "# print(y)\n",
    "plt.figure(figsize=(3,3))\n",
    "\n",
    "plt.scatter(X[:,0], X[:,1], c='b', label='Pontos originais')\n",
    "plt.scatter(y[:,1]*v[0,1], y[:,1]*v[1,1], c='r', label='Pontos projetados')\n",
    "plt.plot([-v1[0]*1000, v1[0]*1000], [-v1[1]*1000, v1[1]*1000], 'r')\n",
    "# plt.xlim([-50,50])\n",
    "# plt.ylim([-500,500])\n",
    "plt.show()"
   ]
  },
  {
   "attachments": {},
   "cell_type": "markdown",
   "metadata": {},
   "source": [
    "# Parte 3"
   ]
  },
  {
   "attachments": {},
   "cell_type": "markdown",
   "metadata": {},
   "source": [
    "Nesta parte, vamos usar a ideia de projetar elementos em um espaço de dimensão mais baixa para visualizar dados.\n",
    "\n",
    "Para isso, precisamos de um resultado teórico, que é o seguinte:\n",
    "\n",
    "A matriz de auto-valores $P$ da matriz de covariância $C$ é ortonormal, isto é:\n",
    "\n",
    "$$\n",
    "P^{-1} = P^T\n",
    "$$\n",
    "\n",
    "A demonstração disso é opcional, embora interessante, e está num [arquivo separado](demonstracao_ortonormalidade.md)."
   ]
  },
  {
   "attachments": {},
   "cell_type": "markdown",
   "metadata": {},
   "source": [
    "# Exercício 11\n",
    "**Objetivo: fazer uma projeção PCA para visualizar dados de alta dimensão**\n",
    "\n",
    "Existe um problema que encontramos em muitos conjuntos de dados, que é o fato de eles terem *muitas* features. Quando isso acontece, é difícil visualizar os nossos pontos. Uma das possíveis soluções para isso é encontrar os auto-vetores e auto-valores da matriz de covariância dos dados, e então usar somente os dois auto-vetores ligados aos maiores auto-valores para projetar nossos dados. Desta forma, temos uma projeção que permite a visualização dos dados levando à pouca distorção de suas posições.\n",
    "\n",
    "Este procedimento se chama Análise de Componentes Principais, ou Principal Component Analysis (PCA). Trata-se de um algoritmo bem conhecido, que está executado abaixo.\n",
    "\n",
    "Partindo do código, responda:\n",
    "\n",
    "a) Quantas features existem na variável `X` originalmente?\n",
    "\n",
    "b) Qual é a dimensão da matriz de covariância `C`?\n",
    "\n",
    "c) Qual é a linha que seleciona os auto-vetores relacionados aos maiores auto-valores?\n",
    "\n",
    "d) Qual é a linha que projeta as features `X` sobre a base formada pelos dois auto-vetores escolhidos?\n",
    "\n",
    "e) Por que a forma $Y = XV$ é equivalente a $Y = X(V^{-1})^T$? Dica: use a demonstração acima!\n",
    "\n",
    "f) Quantas features há em $Y$?"
   ]
  },
  {
   "cell_type": "code",
<<<<<<< HEAD
   "execution_count": 22,
   "metadata": {},
   "outputs": [
    {
     "name": "stdout",
     "output_type": "stream",
     "text": [
      "Features: 10\n",
      "Dimensões de C: (10, 10)\n"
     ]
    },
    {
     "data": {
      "image/png": "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",
      "text/plain": [
       "<Figure size 432x288 with 1 Axes>"
      ]
     },
     "metadata": {
      "needs_background": "light"
     },
     "output_type": "display_data"
    },
    {
     "name": "stdout",
     "output_type": "stream",
     "text": [
      "[[-5.42150454e-04  1.03076852e-02]\n",
      " [ 8.95069264e-03 -5.21714124e-02]\n",
      " [ 2.07368594e-02 -7.59527828e-02]\n",
      " [ 3.56278458e-03 -1.16601700e-03]\n",
      " [ 1.37927815e-03 -4.10080166e-02]\n",
      " [ 9.97323405e-01 -6.55098549e-02]\n",
      " [ 6.79625261e-02  9.92011389e-01]\n",
      " [ 1.14694308e-03 -3.60580417e-02]\n",
      " [-9.49286407e-03 -6.45257014e-03]\n",
      " [-1.05199763e-02 -3.14760181e-04]]\n"
     ]
    }
   ],
=======
   "execution_count": null,
   "metadata": {},
   "outputs": [],
   "source": [
    "a = np.array([5,4,3,2])\n",
    "np.argsort(a)"
   ]
  },
  {
   "cell_type": "code",
   "execution_count": null,
   "metadata": {},
   "outputs": [],
>>>>>>> adc65eeb657207b62ad44029da59ef3b8215ea99
   "source": [
    "# Carregando dados novamente\n",
    "df = pd.read_csv('Automobile_data.csv').select_dtypes(['number'])\n",
    "X = df.to_numpy()\n",
<<<<<<< HEAD
    "print(f\"Features: {X.shape[1]}\")\n",
=======
    "\n",
    "\n",
>>>>>>> adc65eeb657207b62ad44029da59ef3b8215ea99
    "# Calculando matriz de covariância\n",
    "X = X - np.mean(X, axis=0, keepdims=True)\n",
    "C = X.T @ X\n",
    "C /= X.shape[0]-1\n",
    "print(f\"Dimensões de C: {C.shape}\")\n",
    "w, v = np.linalg.eig(C)\n",
    "\n",
    "w_ = np.argsort(w)\n",
    "\n",
    "V = v [ :, [w_[-1], w_[-2]]]\n",
    "Y = X @ V\n",
    "\n",
    "plt.figure()\n",
    "plt.scatter(Y[:,0], Y[:,1])\n",
    "plt.show()\n"
   ]
  },
  {
   "attachments": {},
   "cell_type": "markdown",
   "metadata": {},
   "source": [
    "# Exercício 12\n",
    "**Objetivo: usar a biblioteca sklearn para realizar uma projeção PCA**\n",
    "\n",
    "O código abaixo exemplifica o uso da biblioteca `sklearn` para realizar uma projeção PCA equivalente à que fizemos acima.\n",
    "\n",
    "a) Observando as figuras geradas, você diria que os códigos fazem procedimentos equivalentes?\n",
    "\n",
    "b) A variável `pca.components_` mostra os componentes principais encontrados pela projeção. Como ela se relaciona à matriz `V` do exercício acima?\n",
    "\n",
    "c) A variável `pca.explained_variance_ratio` mostra o quanto da variância dos dados está explicada por cada componente da projeção. Verificando os resultados desta projeção, você diria que é seguro assumir que os dados estão praticamente posicionados sobre uma reta?"
   ]
  },
  {
   "cell_type": "code",
<<<<<<< HEAD
   "execution_count": 23,
   "metadata": {},
   "outputs": [
    {
     "name": "stderr",
     "output_type": "stream",
     "text": [
      "c:\\Users\\Pedro Antônio Silva\\AppData\\Local\\Programs\\Python\\Python310\\lib\\site-packages\\scipy\\__init__.py:146: UserWarning: A NumPy version >=1.16.5 and <1.23.0 is required for this version of SciPy (detected version 1.24.2\n",
      "  warnings.warn(f\"A NumPy version >={np_minversion} and <{np_maxversion}\"\n"
     ]
    },
    {
     "data": {
      "image/png": "iVBORw0KGgoAAAANSUhEUgAAAXkAAAD4CAYAAAAJmJb0AAAAOXRFWHRTb2Z0d2FyZQBNYXRwbG90bGliIHZlcnNpb24zLjUuMiwgaHR0cHM6Ly9tYXRwbG90bGliLm9yZy8qNh9FAAAACXBIWXMAAAsTAAALEwEAmpwYAAAiBUlEQVR4nO3df5RcZZ3n8feXpsM2mdlJ0MhCmxhgMS5ulkRyDB5mXAElCKs0imDWH+yMa8Zd/YPIZg2aXaMnHjJmUGbOzNETznJWN0wMKLRRmYkgurPrsTM2m4QmKxkChkAboUdoXaEHOp3v/tG3Orer7626t+pW1b23Pq9z+nT1rap771Nd9b1PPc/3eR5zd0REpJxO6fQJiIhI6yjIi4iUmIK8iEiJKciLiJSYgryISImd2ukTCHv1q1/tS5cu7fRpiIgUysMPP/wP7r4o6r5cBfmlS5cyPDzc6dMQESkUM3sq7j4114iIlJiCvIhIiSnIi4iUmIK8iEiJKciLiJRYrrJrRESKbHDfKNv2HOIX4xOcvaCPDWuWMbCyv6PnpCAvIpKBwX2j3HLvCBOTUwCMjk9wy70jAB0N9GquERHJwLY9h2YCfMXE5BTb9hzq0BlNU5AXEcnAL8YnUm1vFwV5EZEMnL2gL9X2dlGQFxHJwIY1y+jr7Zm1ra+3hw1rlnXojKalCvJmdqeZPWdmj4a2nWFmD5jZ48HvhcF2M7M/N7PDZvaImb0p65MXEcmLgZX93Pqe5fQv6MOA/gV93Pqe5YXLrvnvwF8AXw9t2wj8wN23mtnG4O9PAe8Ezg9+VgNfCX6LiJTSwMr+jgf1aqlq8u7+t8DzVZuvAb4W3P4aMBDa/nWfNgQsMLOzmjhXERFJKYs8+TPd/Vhw+5fAmcHtfuDp0OOeCbYdC23DzNYB6wCWLFmSwemIiEzL4+Ckdsu049XdHfCUz9nu7qvcfdWiRZFz3ouIpFYZnDQ6PoFzcnDS4L7RTp9aW2UR5J+tNMMEv58Lto8Ci0OPe22wTUSk5fI6OKndsgjyu4Ebg9s3At8Obf9wkGVzMfDrULOOiEhL5XVwUrulTaHcCfwEWGZmz5jZR4CtwDvM7HHg7cHfAPcDTwKHgTuA/5jZWYuI1JHXwUntlqrj1d3Xxtx1ecRjHfh4IyclItKsDWuWzZowDPIxOKndNAuliJRSJYum27NrFORFpLTyODip3TR3jYhIiSnIi4iUmJprRERSKtJIWgV5EZEU8rrMXxw114iIpFC0kbQK8iIiKRRtJK2CvIhICkUbSasgLyKSQl6X+YujjlcRkRSKNpJWQV5EJKUijaRVc42ISIkpyIuIlJiCvIhIiSnIi4iUmIK8iEiJKciLiJSYgryISIk1nSdvZsuAXaFN5wL/FVgAfBQYC7Z/2t3vb/Z4IiKSXNNB3t0PASsAzKwHGAXuA/4Q+LK7/2mzxxARkcZk3VxzOfCEuz+V8X5FRKQBWQf59wM7Q39/wsweMbM7zWxh1BPMbJ2ZDZvZ8NjYWNRDRESkQZkFeTObB7wbuCfY9BXgPKabco4Bt0U9z923u/sqd1+1aNGirE5HRETItib/TuD/uPuzAO7+rLtPufsJ4A7gzRkeS0REEsgyyK8l1FRjZmeF7rsWeDTDY4mISAKZTDVsZvOBdwB/HNr8RTNbAThwpOo+ERFpg0yCvLu/CLyqatuHsti3iIg0TiNeRURKTEFeRKTEFORFREpMQV5EpMQU5EVESkxBXkSkxBTkRURKTEFeRKTEFORFREpMQV5EpMQU5EVESkxBXkSkxBTkRURKTEFeRKTEMplqWKSMNg2OsHPv00y502PG2tWL2TKwvNOnJZKKgrxIhE2DI+wYOjrz95T7zN8K9FIkaq4RibBz79OptovklWryIhGm3GO3X7L1IX4xPsHZC/rYsGYZAyv723x2IsmpJi8Soccs9r7R8Qk8+H3LvSMM7htt34mJpJRZkDezI2Y2Ymb7zWw42HaGmT1gZo8HvxdmdTyRVlq7enGix01MTrFtz6EWn41I47KuyV/q7ivcfVXw90bgB+5+PvCD4G+R3NsysJwPXrxkpkZfq2b/i/GJdp2WSGqtbpO/BnhbcPtrwI+AT7X4mCKZ2DKwfFYmzSVbH2I0IqCfvaCvnaclkkqWNXkHvm9mD5vZumDbme5+LLj9S+DM6ieZ2TozGzaz4bGxsQxPRyRbG9Yso6+3Z9a2vt4eNqxZ1qEzEqkvy5r877v7qJm9BnjAzB4L3+nubmZzUhbcfTuwHWDVqlXRKQ0iOVDJotm255Cya6QwMgvy7j4a/H7OzO4D3gw8a2ZnufsxMzsLeC6r44l0wsDKfgV1KZRMmmvMbL6Z/W7lNnAF8CiwG7gxeNiNwLezOJ6IiCSTVU3+TOA+m85AOBX4K3f/GzP7KXC3mX0EeAq4PqPjiYhIApkEeXd/ErgwYvuvgMuzOIaIiKSnEa8iIiWmIC8iUmIK8iIiJaYgLyJSYgryIiIlpiAvIlJiCvIiIiWmlaFEutDgvlHNwdMlFORFuszgvlFuuXeEickp4OQKV4ACfQmpuUaky2zbc2gmwFdohavyUpAX6TJxK1lphatyUnONSJc5e0FfaVe4Ul/DXKrJi3SZsq5wVelrGB2fwDnZ1zC4b7TTp9ZRCvIiXWZgZT+3vmc5/Qv6MKB/QR+3vmd54Wu86muIpuYakS5UxhWu1NcQTUFeREqhqH0NmwZH2Ln3aabc6TFj7erFbBlYntn+1VwjIqVQxL6GTYMj7Bg6ypQ7AFPu7Bg6yqbBkcyOoSAvIqVQxL6GnXufTrW9EWquka6ntLvG5e21K1pfQ6UGn3R7I5oO8ma2GPg604t5O7Dd3f/MzDYDHwXGgod+2t3vb/Z4IlnSEP/GFem1y9vFqKLHLDKg95hldowsmmuOAze7+wXAxcDHzeyC4L4vu/uK4EcBXnJHaXeNK8prl+f8+bWrF6fa3oima/Lufgw4Ftz+f2b2M6Dzl8gWyGttQBqntLvGFeW1q3Ux6vTnt5JF08rsmkzb5M1sKbAS2AtcAnzCzD4MDDNd238h4jnrgHUAS5YsyfJ0MlWkr6aSXK20O13U4w3uG+WUmKaGvKUs5v1itGVgeaZBvVpm2TVm9jvAt4Cb3P03wFeA84AVTNf0b4t6nrtvd/dV7r5q0aJFWZ1O5ory1VTSiUu7u/QNi3L7Fb/TKhWeqACfx5TFuItO3i5GrZJJkDezXqYD/F3ufi+Auz/r7lPufgK4A3hzFsfqlLzXBqQxcWl3P3xsLHcX9cF9o1yy9SHO2fg9Ltn6UMcuOFEVHpjuLMxjymIR8+ezlEV2jQH/DfiZu38ptP2soL0e4Frg0WaP1UlFHU1XNoP7Rvncdw7ywkuTACzo62Xzu9/YVGCJSrtbv2t/5GM7dVHfNDjCXUNHqdSdO9lcGPcanHDPXYCHk69Ptza9ZdEmfwnwIWDEzPYH2z4NrDWzFUynVR4B/jiDY3XMhjXLZrXJQ3fVBvJgcN8oG755gMmpk80E4xOT3LRrP8NPPZ9pu2aeLuqD+0ZnBfiKTnUe5um1Sapo+fNZarq5xt3/t7ubu/+rcLqku3/I3ZcH298dqtUXUhFH05XNtj2HZgX4sLuGjmbafJGnr/jb9hyaE+ArRscn2t50k6fXRurTiNcUurk2kAe1mkocMq3V5ukrfr0monY33WT12ih7qT3MMxw+26xVq1b58PBwp08jU3ojZ+eSrQ9FNhNUGPDzrVe374TapF65Kxb09TL/tFML8V6rTkmG6W8D+nbcGDN72N1XRd2nCcpaKM8j7Ypow5pl9PbED/fOc5twnCQZM1HNI1HGJyZnvdc23HMgt+81pSS3j5prWijJSDvV9JOrvC6fvvcRXpo8Meu+IrYJRw2w23DPAT73nYOMvzQ55/1QeZ/EDUKqNnnC2bz7YC7fT0pJbh8F+Raq90bWKNr0Kv0iZbg4RlUCJk/4THpo9fshXDGobuqIMz4xmfFZZ6OIGTpFpSDfQvXeyHE1/Zt27WfbnkOFDFzt0slO8KwuMElqrROTU3zuO7Nr41Edn0na7PNEKcntoyDfQvXeyLU+5KPjE6zftZ+bdu2nPyaQlKE2GxZXnjyVM+rb1/oG8/STBucXXppkcN/onEAf/nvl578/8w0gbOHpvanOqV3ylL1UdsquabFaASpp1gRMZ4584OIlM4GkkeyEPAXLanHlee9F/Xzr4dFMszCaeR1q/c8+GPr/JD2PpM0u/Qv6+PHGy2ruq3qgWG+Pse26C3PzP5bWqZVdoyDfQWk+5DAd6L98wwoGVvbHBpu4YNDKlLVw0OzrPYWJ4ydwJ9W0qXHliVtUoV7Qq3WuzVwca31awv+fNOdT2ffv9fXGtqEnSQ/N80VcWktBPofe8aUf8fhzLzb03P4aX/PjgkHai0JSSS5USWq452z8Xs0AWq3RnPgsLo61NPt6rvjc9yMDfbP7lXJTnnzONBPgYbodOC5bPC47Ia79v9lh8XEzEobtGDpad+bEuPOOWwat0SyMWq9D1DkmKV+S/Se1+d1v1JQBkqlSBPm8TMGaVDMBviKq1lsrGNQKis0M0koa1OoNBoubD2Xt6sWZBr1ar0PUOaYN2s2mAGqOJMla4YO8RpVOM+C9F8WnFdYbNdnoaMO0QS3uOHHBbcvA8kyDXpLRo+FzTFM+C/bfrIGV/fx442X8fOvV/HjjZQrw0pTCt8m3qq25lZZu/F7L9l2r/bvSMVcro6d/QV+qjru0bdYV8+f18NIrUx3pIEzSkVpp809bviMx/QTqFJVWqtUmX/g8+SIOjz7/NfMzabKJsmPoKDuGjkbm1ldyq+MujAYz20fHJ7gpyNOv3OcwZ7+V3zfffSDRUPuKF185mWd+8z0HZu0riU2DIw0tflwdbF965XhkfnmlBh+Vz/3iy8djO0fjjrnhngNMnph+fSrTF4T33yxdRCRO4Ztrirh+4wOffBvnv2Z+S4+Rtv27EsTjhFckqp74amBlP7ddf+Gcffb2GL2nxE8oVjF1wrn57v11H1exaXCEHUNHZy4qU+7sGDrKpsGRms+Latr77T8enzPpWXWbf3XzSdrO0c27D84E+IrKvDJZaEWTZdH6uSRe4YN8URcweOCTb+PI1qs5svVqLjnvjJYcY2JyipvvPjDngxrV/p2m0W7yhLP+7v1zAn31PrdddyHb3ndhon1OOXzgjp8keuzOvU9Hbt8xdLRmQIqbK2b+vFNTtfmn7RyNy31POq9MvYCb9YyO6ucql8K3yUM5vqp+4I6f8OMnnm/pMapHzYalGX2bdJ8V591yf+KmnNsTDCaq16cRN7gpLhe/1fPQ1zrfuDb8iiSDt7IuVxH7ubpdqdvkoRgrNtW7EN310bfMeowZnMj4+uucbLOH2SNSo+bZSbvPhaf38tl3zV1Ue+3qxTPHrOemOvP1VM671kUjbu3TuBGlrW7aW3h6b8PzyiSZrjrrGR2L2M8l8VreXGNmV5rZITM7bGYbW328PEr69Tfc9vul61fUXCAjC5W27Av+y18DzDRBNOqFlybZ8M25C1VsGVjOBy9eEjuwKUqtJoK1qxfXfX51QBrcN8qLrxyf87jeU6zlTXuffdcb5/wve3uMz77rjXWfmyTgZt1kWcR+LonX0iBvZj3AXwLvBC4A1prZBa08Zh410mY6sLKfbdddyOm9re82eWnyxMy85T/eeBlHtl7NBy9eEjuqtpbJKefT9z4ypw15y8Bynrj1Ko5svTpxp3Pca5TkolEdkOIWAf+df3Jqy78FVv6X1f0VSY6bJOBmPYCqqP1cEq2lbfJm9hZgs7uvCf6+BcDdb416fFnnrmm2zTScLthKteZv2bz7YMMLUES1kSftg6j3GiWdcKxT7fHN6tRaqGXo5+omnZy7ph8Ip0I8E2ybYWbrzGzYzIbHxsZafDqd0ezX30oteP68+ut8VktTG4+bx2ZgZT/7P3sFt9+woqHafVSN/K6PvoXbb1hRtwmn3muUtBZb1CaITk1zoFG35dHqmvx1wJXu/u+Dvz8ErHb3T0Q9vqw1+axqY4P7Rrn5ngNMJeyRrXRefu47ByM7/mpZ0NfL5nfP7URNew4VcTXmWiNKs6yxRh2nt8eYP+9Ufj0xdz1VkSLpZHbNKBDuJXttsK2rZLUKTtR+Ln3DIr574NicppRKG2ol82jT4Ah3DR1NnA8/PjEZOSqzcrsyEjapU8w4Z+P35pQ9XKbR8YmZzJm47JpGR7pWv3YLTu/lt/94cuSq1teVsmp1Tf5U4O+By5kO7j8F/q27Rw71K2tNvh2StKE20rZuBl++fm7ueqN59dD4ikWVka7V0q7IBMoFl3Lp6KIhZnYVcDvQA9zp7l+Ie6yCfHuELwin1Mk5h+hmk0YnJgurlQsfJW5QVY8ZT9x6VapjF7UjViRKRwdDufv9wP2tPo4kFx48liRYRw0uimuCStOMk3airriLUSNZR1kPIMoTZcZIWClGvErjKh/+T969v+YI26hBOVEjjdPORlmZqCtJEIob6ZpmkFVF1AjfMuSCV1+089jXoItQeynIy8wHbMM3D0QOGIKTNdx6H9A0UxhUJO0jiNt3khGw1ZrtDM8qUGUd8JJMg9BJRbgIlU0pJiiTbMR1zFba5IFEqaDhDBgzSPIWSzIxWfW+02TXZCnLlNisBzrlva+hVod92j4aOamjHa9pKMjnQ1ztstGMlCQrYbVjFGdW0rwOtWrqrcjwyXvWUNxFqKJI74M8Kf0slJKtuFk942pgo+MTkTnwFf0xnZxh4VGxeW+vjZs0bHR8gsF9o7M6tWutCNWK2R7z3tcQ1+FdkaempbIo/KIh0j61ujdrza6ZZPFsguev37U/94tV1MrACZ9v3IpQN+3azyVbH+L3+qKnGm4mw6dT0yAkleS9oCmNs6WavCSWpGGvVrrlZ+4bmVnbNekxJianEmfftEutuffD5a/VoTw6PjGzPGL4QpBFrTvP6ytUj3COUoY01jxRTV4yF5duefDzV8ZOYVzrW8L4xGQmtfms1i2t1JbjJK2JTk45U+4s6OvNZa27VSqTn91+wwpNadwGCvKSWJKVjGB6npq4ALplYDk/33o1t9+wItUas42uV1qR9bqlAyv7YxdYqdREk7xeJxxePn6CL9+woutme8x701JZKLtGEhvcN1ozlz4sbZZEkrlwDBrujI3bf48ZJ9wb2m+9FMg0r1desl+kmDo5n7yUSHiFI5ievCxOvZWvqiXpkGumBh7XhDLlPrPf9bv2s2lwJPE+69VE57xeDZyfSLPU8SqpzIyODaUGxkkTuCr7TTJLZiNpdvVS92D6InLX0FFWve6MxPuu18lZPU9Q3LQP6myUVlFNXlLbtudQ3QAP6QNXeAWqSu04Ttqab9I0Tqf59v84Ayv7ue36C9XZKG2lmrykliTANhO4wrXfuLb0sxf0pZr3pXqumlpTLFeWQWzFQKyBlf0MP/X8rKkZ3ntR9LeB6mkmFp7ey2ffNXe1riQ0KVj3UserpFavkzTLOUjiOjffe1E/33p4tOF5Xwb3jbJ+1/6aWT3GdM2+HeWJmq8/rkks7SIpnVoMXNpHHa+SqQ1rltF7ytzGlN4e4/aMUwHjOjd/+NhY7GyLSff7gZic/YpKeM1y5G2tWSKrHxfXJLZj6GiqDuKkx5RyUnONpBbVSdpMU0KS41Xvd33M4iRp2uq3DCxn1evOqDn6siKrOVWSzldTrxxpOohbMUeOFIeCvDSk00Pns1rZqVKOJHn6WQTFpOddLxuo0kGc5H9Q65h5mLpZWkvNNVJIUdkyzXT2Jsm+qXT2NjM1QtLzjmsSC0t60Yk75tJX9bFj6OhMB/SUe+qmIMm/poK8mW0zs8fM7BEzu8/MFgTbl5rZhJntD36+msnZigTSDIlPEpjD+4O5A5f6enu49A2Lmp4aIel5D6zsZ9v7LqSvN/4jmvRbS9wxh558IfLxO/c+nbQ4UgBNZdeY2RXAQ+5+3Mz+BMDdP2VmS4Hvuvu/TLM/ZddI1hrNLIlKOYxru2/1lASbBke4a+jorEygLLJjai3mciQHq0hlrcxppC1bNMTdvx/6cwi4rpn9iWSt0TVP03T2VvLqWxU8wh3EWR4jy4XR866b15bNsuP1j4Bdob/PMbN9wG+ATe7+vzI8lkgiWWaWxHVgGidXzWpV8Miqoztcmz19Xk/k/P6NLIyed3EX+5t27WfbnkOlqtVXq9smb2YPmtmjET/XhB7zGeA4cFew6RiwxN1XAp8E/srM/mnM/teZ2bCZDY+NjTVfIpGQuHbrRuaKierArAyYCstrDnr1dMsvvjJFzyk20//QY5Z6oFVR1Lqo53UFsqzUrcm7+9tr3W9m/w74N8DlHjTwu/vLwMvB7YfN7Ang9cCcBnd33w5sh+k2+ZTnL1JTlmueVk+NUCvNMcsc9KzakqNqs1MnvCumOe7mtWWbaq4xsyuB/wz8a3d/KbR9EfC8u0+Z2bnA+cCTTZ2pSAOiAnMzX82rm01qza2ThSzbkrt5UFStJRsryvo6NNsm/xfAacADNt1ZM+TuHwPeCnzezCaBE8DH3P35Jo8l0pBWDtzK8ptClM27DzbUcRwlqwFkRdTNa8s2m13zz2O2fwv4VjP7FimCrL8phA3uG42dW7+61pmkSafVF6S8q1zs49Jqy/o6aBZKKbyy5j/XmmohvGzhpW9YlHhGzrK+VmmV7XWolSevIC+FVuZpdM/Z+L26C5xDdIYPaN3YbqKphqW0yjyNbtI24rgLQVk7EiUdBXkptDJnjCRdsjBOWTsSJR1NNSyFVuaMkahO3RdfPh7ZGVvdZNPJjsSytXcXnYK8FFrZM0aq0z9rLYf4w8fGOh5Yu3mOmLxSkJdCa2UKYx4lKW+lJr1+1/62vx6NTggnraMgL4XX6VWqslavuaNWeTtdky5zH0lRqeNVJEeqJxFLO3lWp7ON6k0I1+zKWpKegrxIjjQbpDtdk661vGGzFzBpjIK8SI40G6SznFq5EbWWN+z0t4xupTZ5ybVuS8erlRK6aXCEnXufZsqdHjPWrl48Z+73PGQbxfUZdPpbRrdSTV5yqxu/3sc1dyx9VR87ho7OLNc35c6OoaNsGhyZ9dg0C5y3W6e/ZXQrzV0jLVe9EPX8eT184dr6gSdugq6yz8kS9e3l5rsPxK7H+sStV3XgLNMr8zxDndayhbxF6tk0OMKOoaOztr34yhQ333MAqJ3W161f76OaO26KWUQ8KvDnVbeNacgLBXlpqZ17n47cPnXC6w6QKfOUBWn1mMXW5IukbGMaikBt8tJStWqa9WrktdLxus3a1YtTbRepUE1eWiquBgr1a+T6en9SJYumXnaNSDV1vEpLRbXJA/ScYtz2vgu7MmCLZK1li4aY2WYzGzWz/cHPVaH7bjGzw2Z2yMzWNHMcKa4tA8v54MVLCLccz5/XowAv0iZN1eTNbDPwW3f/06rtFwA7gTcDZwMPAq9396k5OwlRTV5EJL1OLP93DfANd3/Z3X8OHGY64IuISBtlEeQ/YWaPmNmdZrYw2NYPhHPnngm2iYhIG9UN8mb2oJk9GvFzDfAV4DxgBXAMuC3tCZjZOjMbNrPhsbGxtE8XEZEa6qZQuvvbk+zIzO4Avhv8OQqEE3hfG2yL2v92YDtMt8knOZaINKfbJn7rZs1m15wV+vNa4NHg9m7g/WZ2mpmdA5wP/F0zxxKRbHTjxG/drNk2+S+a2YiZPQJcCqwHcPeDwN3A/wX+Bvh4vcwaEWkPzeveXZoa8eruH6px3xeALzSzfxHJXrdO/NatNK2BSJepNfGb2urLRxOUiXSZuInfLn3DIrXVl5CCvEiXiVs96oePjamtvoTUXCPShaLmdV8fszCJ2uqLTTV5EQG0BmtZKciLCKBFWspKzTUiAmiRlrJSkBeRGVqDtXzUXCMiUmIK8iIiJaYgLyJSYgryIiIlpiAvIlJiCvIiIiWmIC8iUmLKkxcpKE0LLEkoyIsUUGUJv8qskZVpgQEFeplFzTUiBaQl/CQpBXmRAtISfpKUgrxIAWlaYEmqqSBvZrvMbH/wc8TM9gfbl5rZROi+r2ZytiICaFpgSa6pjld3v6Fy28xuA34duvsJd1/RzP5FJJqmBZakMsmuMTMDrgcuy2J/IlKfpgWWJLJqk/8D4Fl3fzy07Rwz22dm/9PM/iDuiWa2zsyGzWx4bGwso9MRERFIUJM3sweBfxZx12fc/dvB7bXAztB9x4Al7v4rM7sIGDSzN7r7b6p34u7bge0Aq1at8rQFEBGReHWDvLu/vdb9ZnYq8B7gotBzXgZeDm4/bGZPAK8Hhps6WxERSSWL5pq3A4+5+zOVDWa2yMx6gtvnAucDT2ZwLBERSSGLjtf3M7upBuCtwOfNbBI4AXzM3Z/P4FgiIpKCueenGdzMxoCnWniIVwP/0ML950m3lLVbygkqa1llUdbXufuiqDtyFeRbzcyG3X1Vp8+jHbqlrN1STlBZy6rVZdW0BiIiJaYgLyJSYt0W5Ld3+gTaqFvK2i3lBJW1rFpa1q5qkxcR6TbdVpMXEekqCvIiIiVWmiBvZu8zs4NmdsLMVlXdd4uZHTazQ2a2JrT9ymDbYTPbGNp+jpntDbbvMrN57SxLGma22cxGQ3P3XxW6L1W5i6Ys5QgL1mUYCf6Xw8G2M8zsATN7PPi9MNhuZvbnQfkfMbM3dfbsazOzO83sOTN7NLQtddnM7Mbg8Y+b2Y2dKEs9MWXtzGfV3UvxA/wLYBnwI2BVaPsFwAHgNOAc4AmgJ/h5AjgXmBc85oLgOXcD7w9ufxX4D50uX41ybwb+U8T21OUu0k9ZyhFRriPAq6u2fRHYGNzeCPxJcPsq4K8BAy4G9nb6/OuU7a3Am4BHGy0bcAbTU6ScASwMbi/sdNkSlrUjn9XS1OTd/WfuHrWK8TXAN9z9ZXf/OXAYeHPwc9jdn3T3V4BvANcEc+NfBnwzeP7XgIGWFyB7qcrdwfNsVFnKkcQ1TL8PYfb78Rrg6z5tCFhgZmd14PwScfe/BaqnN0lbtjXAA+7+vLu/ADwAXNnyk08ppqxxWvpZLU2Qr6EfeDr09zPBtrjtrwLG3f141fY8+0TwlfbOytdd0pe7aMpSjmoOfN/MHjazdcG2M939WHD7l8CZwe0yvAZpy1b0Mrf9s1qoIG9mD5rZoxE/Za3BAXXL/RXgPGAF0/P439bJc5Wm/b67vwl4J/BxM3tr+E6f/n5fyrznMpct0JHPaibL/7WL15nbPsYosDj092uDbcRs/xXTXw1PDWrz4cd3RNJym9kdwHeDP9OWu2hqla+w3H00+P2cmd3H9Ff2Z83sLHc/FjRZPBc8vAyvQdqyjQJvq9r+ozacZ9Pc/dnK7XZ+VgtVk2/QbuD9ZnaamZ3D9Nz2fwf8FDg/yKSZx/SUybuD2sQPgeuC598IfDtiv7lQ1QZ7LVDpzU9V7naec0bKUo4ZZjbfzH63chu4gun/526m34cw+/24G/hwkIlyMfDrUNNHUaQt2x7gCjNbGDR3XBFsy72OfVY73QudYW/2tUy3Wb0MPAvsCd33GaZ7qQ8B7wxtvwr4++C+z4S2nxu8yIeBe4DTOl2+GuX+H8AI8EjwBjir0XIX7acs5QiV51ymMygOAAcrZWK6n+gHwOPAg8AZwXYD/jIo/wihrLI8/jC97sQxYDL4rH6kkbIBfxR8Ng8Df9jpcqUoa0c+q5rWQESkxLqhuUZEpGspyIuIlJiCvIhIiSnIi4iUmIK8iEiJKciLiJSYgryISIn9f9UP8XTzV1LgAAAAAElFTkSuQmCC",
      "text/plain": [
       "<Figure size 432x288 with 1 Axes>"
      ]
     },
     "metadata": {
      "needs_background": "light"
     },
     "output_type": "display_data"
    },
    {
     "name": "stdout",
     "output_type": "stream",
     "text": [
      "[[-5.42150454e-04  8.95069264e-03  2.07368594e-02  3.56278458e-03\n",
      "   1.37927815e-03  9.97323405e-01  6.79625261e-02  1.14694308e-03\n",
      "  -9.49286407e-03 -1.05199763e-02]\n",
      " [ 1.03076852e-02 -5.21714124e-02 -7.59527828e-02 -1.16601700e-03\n",
      "  -4.10080166e-02 -6.55098549e-02  9.92011389e-01 -3.60580417e-02\n",
      "  -6.45257014e-03 -3.14760181e-04]]\n",
      "[0.99785579 0.00176616]\n"
     ]
    }
   ],
=======
   "execution_count": null,
   "metadata": {},
   "outputs": [],
>>>>>>> adc65eeb657207b62ad44029da59ef3b8215ea99
   "source": [
    "from sklearn.decomposition import PCA\n",
    "\n",
    "df = pd.read_csv('Automobile_data.csv').select_dtypes(['number'])\n",
    "X = df.to_numpy()\n",
    "pca = PCA(2)\n",
    "Y = pca.fit_transform(X)\n",
    "\n",
    "plt.figure()\n",
    "plt.scatter(Y[:,0], Y[:,1])\n",
    "plt.show()\n",
    "\n",
    "print(pca.components_)\n",
    "print(pca.explained_variance_ratio_)"
   ]
  },
  {
   "attachments": {},
   "cell_type": "markdown",
   "metadata": {},
   "source": [
    "# Parte 4"
   ]
  },
  {
<<<<<<< HEAD
=======
   "cell_type": "code",
   "execution_count": null,
   "metadata": {},
   "outputs": [],
   "source": []
  },
  {
>>>>>>> adc65eeb657207b62ad44029da59ef3b8215ea99
   "attachments": {},
   "cell_type": "markdown",
   "metadata": {},
   "source": [
    "# Exercício 13\n",
    "**Objetivo: ligar a decomposição por auto-valores e auto-vetores ao seu respectivo código computacional e verificar sua limitação para matrizes quadradas**\n",
    "\n",
    "Já sabemos que uma matriz quadrada $X$ pode ser decomposta em termos de seus auto-vetores (na matriz $P$) e auto-valores (na diagonal da matriz $D$) na forma:\n",
    "\n",
    "$$\n",
    "A = P D P^{-1}.\n",
    "$$\n",
    "\n",
    "O código abaixo realiza essa decomposição e a recomposição.\n",
    "\n",
    "a) Por que a matriz `B` no código é igual à matriz `A`?\n",
    "\n",
    "b) Modifique o código para que a matriz `A` deixe de ser quadrada (por exemplo, adicionando uma linha ou coluna). Que erro é apontado no código?\n",
    "\n",
    "c) Se a matriz $A$ na equação $A = P D P^{-1}$ não for quadrada, que problema deve aparecer na operação $P D P^{-1}$ em relação à dimensões de $P$ e $D$?\n"
   ]
  },
  {
   "cell_type": "code",
<<<<<<< HEAD
   "execution_count": 24,
=======
   "execution_count": null,
>>>>>>> adc65eeb657207b62ad44029da59ef3b8215ea99
   "metadata": {},
   "outputs": [],
   "source": [
    "A = np.array( [[1, 2], [2, 3]] )\n",
    "w, v = np.linalg.eig(A)\n",
    "#print(w, v)\n",
    "w_ = np.diag(w)\n",
    "#print(w_)\n",
    "B = v @ w_ @ np.linalg.inv(v)\n",
    "\n",
    "print(v)"
   ]
  },
  {
   "attachments": {},
   "cell_type": "markdown",
   "metadata": {},
   "source": [
    "# Exercício 14\n",
    "**Objetivo: entender SVD como uma decomposição**\n",
    "\n",
    "Quando calculamos $P$ e $D$ em $A=PDP^{-1}$, estamos *decompondo* a matriz $X$ em *componentes* ($P$, $D$ e $P^{-1}$).\n",
    "\n",
    "Essa decomposição não é a única possibilidade. Uma outra, muito utilizada, é a decomposição em valores singulares (*Singular Value Decomposition*, ou **SVD**):\n",
    "\n",
    "$$\n",
    "A = U \\Sigma V^T\n",
    "$$\n",
    "\n",
    "No código abaixo:\n",
    "\n",
    "a) Confirme que a matriz `B` é igual à matriz `A`\n",
    "\n",
    "b) Compare o conteúdo das matrizes `u`, `sigma` e `vt` ao conteúdo das matrizes `v` e `w_` no exercício anterior.\n",
    "\n",
    "c) Altere o código para verificar se a decomposição SVD ainda funciona se a matriz `A` não for quadrada.\n",
    "\n",
    "d) Se a matriz `A` não é quadrada, quais são as dimensões das matrizes `u`, `sigma` e `vt`?\n",
    "\n",
    "e) O que a função `diagsvd` faz, e por que ela tem três parâmetros?"
   ]
  },
  {
   "cell_type": "code",
<<<<<<< HEAD
   "execution_count": 25,
=======
   "execution_count": null,
>>>>>>> adc65eeb657207b62ad44029da59ef3b8215ea99
   "metadata": {},
   "outputs": [],
   "source": [
    "from scipy.linalg import svd, diagsvd\n",
    "import numpy as np\n",
    "A = np.array( [[1, 2], [2, 3], [4, 5], [8, 7]] )\n",
    "u, s, vt = svd(A)\n",
    "sigma = diagsvd(s, A.shape[0], A.shape[1])\n",
    "\n",
    "B = u @ sigma @ vt\n",
    "print(A)\n",
    "print(B)"
   ]
  },
  {
   "attachments": {},
   "cell_type": "markdown",
   "metadata": {},
   "source": [
    "# Exercício 15\n",
    "**Objetivo: comparar SVD ao PCA**\n",
    "\n",
    "Na decomposição SVD, usamos a formulação:\n",
    "\n",
    "$\n",
    "A = U \\Sigma V^T,\n",
    "$\n",
    "\n",
    "onde:\n",
    "\n",
    "* As colunas de $U$ são os auto-vetores de $A^T A$,\n",
    "* As colunas de $V$ (e, portanto, as linhas de $V^T$) são auto-vetores de $A A^T$,\n",
    "* $\\Sigma$ é uma matriz onde $s_{i,i}$ é a raiz quadrada dos auto-valores de $A^T A$ ou de $A A^T$.\n",
    "\n",
    "A [demonstração disso está aqui](./demonstracao_svd.md), e uma outra perspectiva sobre essa demonstração está [aqui](https://gregorygundersen.com/blog/2018/12/20/svd-proof/).\n",
    "\n",
    "\n",
    "---\n",
    "\n",
    "Na decomposição PCA, calculamos a matriz de covariância $C = A A^T$ e fazemos a projeção:\n",
    "\n",
    "$\n",
    "C = P D P^T,\n",
    "$\n",
    "\n",
    "onde:\n",
    "\n",
    "* As colunas de $P$ são os auto-vetores de $C=A A^T$,\n",
    "* A diagonal principal de $D$ tem os auto-valores de $C$.\n",
    "\n",
    "---\n",
    "\n",
    "Lembrando-se disso\":\n",
    "\n",
    "a) Como poderíamos usar a decomposição SVD para encontrar os componentes principais de $A$? \n",
    "\n",
    "b) Seria correto dizer que: \"a decomposição SVD e a decomposição PCA são a mesma decomposição\"?."
   ]
  },
  {
   "attachments": {},
   "cell_type": "markdown",
   "metadata": {},
   "source": [
    "# Exercício 16\n",
    "**Objetivo: Manipular a matriz $\\Sigma$ em uma imagem e verificar os resultados**\n",
    "\n",
    "O código abaixo abre uma imagem em tons de cinza e faz uma decomposição SVD.\n",
    "\n",
    "a) Qual é a dimensão da imagem lida?\n",
    "\n",
    "b) Quais são as dimensões das matrizes `u`, `sigma` e `vt`?\n",
    "\n",
    "c) Os valores da matriz `sigma` vêm da matriz `s`. O que acontece com a imagems se o primeiro elemento de `s` for modificado para ficar igual a `0` (dica: use `s[0] *= 0`)?\n",
    "\n",
    "d) Remova progressivamente mais elementos da matriz `s` igualando-os a zero. O que acontece com a imagem formada?\n",
    "\n",
    "e) Agora, remova elementos do *final* da matriz `s` igualando-os a zero. O que acontece com a imagem?\n",
    "\n",
    "f) Experimente perceptualmente e verifique quantos elementos você consegue remover do final da matriz `s` até que perceba alguma diferença na imagem?"
   ]
  },
  {
   "cell_type": "code",
<<<<<<< HEAD
   "execution_count": 26,
   "metadata": {},
   "outputs": [
    {
     "data": {
      "image/png": "iVBORw0KGgoAAAANSUhEUgAAAXcAAADHCAYAAADifRM/AAAAOXRFWHRTb2Z0d2FyZQBNYXRwbG90bGliIHZlcnNpb24zLjUuMiwgaHR0cHM6Ly9tYXRwbG90bGliLm9yZy8qNh9FAAAACXBIWXMAAAsTAAALEwEAmpwYAACYQUlEQVR4nO39aZRkx3Uein6R8zxXVdbYVY1uAN1AYyYIkBAJkARAiTOvLMlPtEhZNk2bsny9aD/JT8+ybFNv6WrdK8u27pJEjfbTtURe6omkSFgCB4AjQGIi2A2g5+6aq3LOPDnnyTzvR9a3MzJR3RgIdCbAE2vVqqoczokT8e2IPXx7h7IsC3azm93sZrfXV3OMuwN2s5vd7Ga3V77Zi7vd7GY3u70Om724281udrPb67DZi7vd7GY3u70Om724281udrPb67DZi7vd7GY3u70Om724/4g2pdSPKaVOvdKffRHXelgp9Y9eiWvZ7Ue3KaUspdShMd5/4nH8I7m4K6UuKqXeMe5+jLNZlvVNy7KueaU/a7cr337U8ayU+jOl1CfH3Y9Jaz+Si/uPelNKucbdB7vZbVLa61UefuQXd6XUR5RS31ZK/SelVEkpdV4p9aa919eVUhml1Ie1z79LKfWUUqqy9/6vj1zv55RSq0qpvFLq3+palVLKoZT6FaXUub33P6OUSuy9t7xnav783nWLSqmPKaXeoJT6wV7ffvcyz+FVSv2OUmpr7+d3lFLevffuVkptKKV+WSm1A+BP+Zr2/Vv2nstQSv3fSqlPUxva57MXlVL/aq9f5b3P+vbeiyulvqiUyu49wxeVUguvxFzZ7YXb6wjPtyulHtn73LZS6neVUp59PvdRAD8L4P+plKoqpf5m7/U5pdRf7eHwglLql7Tv/LpS6rNKqT9XSlUAfOSF7qeUulcpdXIP778LQGnvXaWU+treGOSUUv+XUir2UufuFW+WZf3I/QC4COAde39/BIAJ4OcBOAF8EsAagP8TgBfAfQAMAKG9z98N4Bj6G+MNAHYBvH/vvaMAqgDuAuAB8L8D6Gj3+hcAHgWwsHftPwDwF3vvLQOwAPw+AN/efZsAPgdgGsA8gAyAt17imf7D3rWnAUwB+A6A/6j12QTwv+3d17/32sbe+x4Aq3v9cwP4IIA2gE9q398YGb/vAZgDkADwHICP7b2XBPC/AAgACAP4vwF8TvvuwwD+0bgx8Hr6eZ3i+VYAdwBw7V3rOQD/q/a+BeDQ3t9/Rqzu/e8A8ASAX9vr90EA5wHcv/f+r+89x/v3Puu/3P0ApPbG7Cf35ONf7o3xP9p7/xCAe/fGYArANwD8zthxMe4OTIgwnNHeO7YHnBnttTyAmy5xrd8B8J/2/v41gnvv/wD6iyTv9RyAt2vvz+6BjICyAMyP3Pentf//Sgf4SD/OAfgJ7f/7AVzc+/vuvX74tPfvxmBxfwuATQBKe/9buPzi/iHt/98C8PuX6NdNAIra/w/DXtxtPL8Anvfp1/8K4K+1/y+3uL8RwNrI9/8NgD/d+/vXAXzjxd4PwM8BeFR7TwHYuBSO0d80nho3Ll6XvqaX0Xa1vxsAYFnW6GshAFBKvRHAbwK4Hn2twIu+dgr0Ndl1fsmyrLpSKq9d5wCAv1ZK9bTXugBmLtOXffuxT5tDX/tmW917jS1rWVbzMt/dtPaQudfWL/FZth3t7zrvpZQKAPhPAN4JIL73flgp5bQsq/sC17TbK9Ne83hWSl0N4LcB3Ib+puJCXxt/Me0AgDmlVEl7zQngm9r/Q/h+gfuNjoOllFrXvjsD4D8D+DH0rVUHgOKL7Our1n7kfe4vo/0PAF8AsGhZVhR9s5P+t230TVQAgFLKj76bgm0dwI9blhXTfnyWZW2+Av3aQh/UbEt7r7FdrvznNoB5pZTSXlt8mf34BIBrALzRsqwI+lYBoPko7TZRbVLx/HsATgI4vIej/xcujaFRbK8DuDDSr7BlWT9xme9c7n7b0ORhT050+fj/7F3v2N53P3SZvl6xZi/uL72FARQsy2oqpW4H8P/Q3vssgPfsBbA86Jt/+iT/PoDfUEodAACl1JRS6n2vUL/+AsD/e++aKfRN6j9/kd99BH2N6xeVUq69Pt3+MvsRRl8jK+0F1/7dy7yO3a5Mm1Q8hwFUAFSVUtcC+KeX+ewu+n51tu8BMFSfQOBXSjmVUtcrpd7wMu/3JQDXKaU+qPrMml8CkB75bhVAWSk1D+Bfv8hnfFWbvbi/9PbPAPwHpZSB/gL6Gb5hWdYzAP45gL9Ef7evoh80au195D+jryU9uPf9R9H3D74S7ZMAHgfwAwDHATy599oLNsuy2ugHUX8BQAl9zeOLWr9fSvsd9ANUOfSf729fxjXsduXapOL5X6G/0RgA/hDApy/z2T8GcHSP6fK5Pfffu9GP91xAH4t/BCD6cu5nWVYOwN9D332VB3AYwLe17/57ALcAKKO/Efz/XuxDvppNDbtZ7fZKNqVUCP3F8rBlWRfG3J2X1JRS30U/SPqn4+6L3SajvZbx/KPYbM39FW5KqfcopQJKqSD61LHj6LMZJroppd6qlErvuWU+jD4tzta6f8TbaxXPdrMX91ejvQ/9QOYW+ubbz1ivDfPoGgBPo6+ZfQLAT1qWtT3WHtltEtprFc8/8u1Vc8sopd6Jvk/OCeCPLMv6zVflRnaz2xVsNq7t9lppr8rirpRyAjiNftbWBoDHAPx9y7KefcVvZje7XaFm49pur6X2arllbgdw1rKs83tMjL9E37yzm91ey83Gtd1eM+3VylCdx3AG2AZGKFJ7BX8+CgBer/fWubk56FbEcD7NoPEz+72/nxViWRaUUvu+p39H/91oNOB0Op/3PV6L9x99z7IsOByOof/11uv1nnetXq8Ht9s9dE2n0wnLstDr9eQ1/bl7vR4cDod8ltfl/fm9/b67X/+VUnI9Xou/9e9cavx5Ld6X17rc2Ojf489+88TXeL9Op4NOpwMAcDgccDqdcLlcUEqh0+nI/bvdQTJso9FAq9V6JZJKXhDXe322sW1je+zYHlv5AcuyPgXgUwCwsrJiffKTn0Sv1xsCicPhkAnlbzYdJHvXGwKVPqCjg6yDwzTNoQHtdDp4/PHHEYvFAAwm2rIs1Go1+P1+uN1uuX+9XgcAFItFuFwuBINBuFwuVCoVtNttmSTTNGEYBtLpNMrlMrrdLgKBACqVCgKBACKRCEKhEHq9HrxeLzqdDprNJlwuF5rNJjqdDpxOJ7rdLprNpvSDz9XtdgUMrVZrCMimacLhcMDj8cDr9cLn86HT6cA0TXS7XQSDQViWhU6n069J4XLB7XajUCgIuJxOpwCbY+Z2u9HtduV6jUYDgUAALpcLvV4PLpcLnU4HvV4P7XYbbrdbxov9Yf/C4bCA2LIsNJtNeDweNJtNme9arYbt7W00Gg34/X7Mzs4CAKrVKubm5lAoFBAMBlEoFODxeOB2u2GaJr79bZ2S/Oo3G9s2ticB26/W4r6J4fTchb3X9m2cIDYOLifW6/XKxHCigMGurAuG3rrd7pAQOBwOKKVkgrgbE8wUnm63K59tNpsIBoMCPvYXANrtNrxeL2q1GiKRCLrdrnw/EAjANE0BTrlcBgAYhoFarQYAcLlc8Hg8qFar6PV6qFarcLvd8Pl8UEqh1WqhWq3CNE0opeB2uxEMBgUsHo8H2WwWvV4PPp8PpVIJXq8XpmnK87TbbbRaLXg8/eqlfr9fQMmxdLvd8rxutxutVkvGjsILYEhIPB6PjK3D4YBpmvB4PKhUKqJlLCwsYHt7W+aIwkOhI/i73S7q9Tq63S5arZaMrdPphM/ng8vlQq1WQ61WQ6VSgVIKjUYDu7u7cDgc8Hq9yOVyCIVCaDabMh/tdhsul2sIWz9ke0m4JlZsbNvYHge2X63F/TEAh5VSK+iD/2cwnNY81KhtUJsBBtoL36dAEFC6dtNqteB0OuF0OmXwdaGgecjPd7td1Go1KKXg9XqhlEKpVEK1WkW9Xkc4HIbL5UK325UJJyharRZ8Ph+cTieCwaBoNT6fT7QRAiORSMA0TWxubiISicA0TTQaDZimCdM0kc/nkUgkUCgUoJQSoHs8HpimiVarJa9xbPTJJPBGx42f1xcWaogA5Pr6AkEtzuPxyHjqWiW1q3a7DQACZo4r0F9wOEculwvb29uyCPA7nDvDMEQQKTjtdlsEBYBokQBkzKhh7e7uymLg9XpRLBaRSqXgcDiwsrIii5jev1egvSRcAza2bWyPD9uvyuJuWZaplPpFAH+HPmXsT6x+KvO+zePxIJVKodvtys/edWRiqF1wZ/X5fEO+M5fLBZfLhXa7jVqtNrTr6qDsdDqyQ/r9ftFyQqGQAL1WqyEajQpgOJAEDU0uAp7mpGEYCIfDAPrmlN/vR6vVkh2W2lKtVhNNqFAoyH30e9CEdblc8vwEJD9vmia8Xq+YrRw73S/IMdK/x/Hl2FLQ/X4/2u22aEU64Hl/9mc/zZDaJ9+nIOiaIxcgLkY0a3U3he7bZF85hxxv0zRRr9fhdrvhdrsRCASQyWQQjUaRSqWwuroqz/JKLe4vFdeAjW0b2+PD9qvmc7cs6wEAD7yU7+i7eKfTgdfrlYHnwHQ6HXnf4XDA5/NJkIE7YbPZhFIK9Xpd/Hf665FIBK1Wa+h6FIJsNguHw4FWqwXLshAIBIaAkkwmYRjG0IR1Oh2Ew2EROoKOQA+FQmKm0mwlCEbNdoLc5XKJZqD7a/UJ5ffZP12D0YE42i9tjuRz1Az177Jvuq9Xb7o5D0A+y7+73e7Q4qMHqvTn0e81Og66X1h/Br0/1LyazSYajQZyuRy8Xq8sgHoff9j2cnAN2NgGbGyPjsOrje2JyFDlLsYfPjwn2DAMVCoVtFotuN1u2SEJYO641HoCgQAsy0I0GhVfXiQSAQDZ8Xhfms3cMcPh8BAA6T8LBALw+XwCSk4INRtO9tzcnPgZm82mmF98Npre+v35t24qmqYpwNfNUl5HNz1p1ung0H/TtzgaoNPBwTHQgaYL3n5zRG1DfxZej9qN7i7QhZ5N922OmuccB15DN22pxfl8PpmjYDCIVCqFdDqNQCCAYDAoi9+4mo1tG9vjwvZEHNahBzY4SPrO6PF4ZCejearvuvRFAn0hYECkVqvB4/GgWCwikUhgYWFBvsOoe7PZRL1eh2VZyGazyOfzEkmPRqMolUoAIBF4PUpeKpUQDocRCATE1/mDH/wAlmUhGAwKOAEIQ6FUKsHn88lk8jkZDNJ3Yt5P/59goFmoA0I3c6kpAgNNgIAiwGlWc+z0e+kmp+775Gc5jgSY7j/lb4JU9ym6XC7RQkcbTeNRLYuNz8B+UZAZVEskErJw1mo1OJ1OBAKBS97vSjQb2za22c8rje2JWNz38xvpHFdOuNvtFpOUOyej4a1WSx6eoM1ms1hcXESv10OlUkGv15OAS7VaFVOW/FIGXLxeL4A+hxTo+wt1+hF9oAS3LhxerxftdhvNZlMGv1QqCf2LgCmVSvJcfDaHwyF9InhGx4naDoMput+VfdLBz+/pfkF9jNlo/o36H3l9Cg01LIfDMcRe4Od1M5rXp/DofstRn7MOaF3IdK2Mc0ch0wU9Go2iUqnA6XSKu6JcLotWO65mY9vG9riwPTGLe7fbFbMUGOyeNJNMs88/bbfbqNfrMAwDPp8P0WhUOLTdblci9jMzMzAMQwao0+mgXq+j0WjIZzmAPp8PbrcbkUgElUoF+XweDodD6EY+n0+AXS6XYVkWvF4vAoEADMNAs9mEz+dDtVoV/yP7V61WRbBoRler1aEou9/vRzAYhGEYaLfb4mul9sKm+20pCD6fD8DAJ8j3CTSa5hxPAoqf1007ChgXAN2PqPswCWQuALzvqMmsm6V8Xt1vqSe4cBHje2y671MXbFLJ+EON0zRNlMtlBINBcTXopvKVbja2bWyPC9sTsbiz6bsaTZhqtSq7PQNBkUhEAgy1Wg0LCwvo9XrY2tpCJpPBsWPH0O32+abUKChAAITuRfPK7Xaj2WyiVCohFovJZLlcLoTDYdn5c7kc/H4/arUa6vU6AoEAQqGQ9M/j8Yhp1mw2sbOzg/n5eVQqFXi9Xtmdg8EgAoEAisWiaAekqrEvNNepNdCkb7fbAj76FfUJpubFPusCRDOSTdc0+Jumoa5lUKukL5Jg5986y2DU98m55EKmv0ZB1UHOz1JA+Ywul0sWGM4hk2P4bLFYDI1GQ1gluoY27mZj28b2lcb2RCzuDNwAwzsYAUhK1NraGur1OjqdjmgLpVIJm5ubcDqdKBaLuPbaa4dMPJ/Ph263K9QtajU6UDqdDra2ttDtdrG9vS3aRbPZlASOfD4vDAH680zTFFoVM+/cbreYUPy7VquhVCrJd0OhENrtNmKxmAgPBbXRaEhSBrUx7vr6AgEMGAUcL16rXq8/Lzqvf4e/dU2IGXm6AOh+RX5HN4NHTUhdKPg9pZSwN3gNLjC6KaxfT3+PP+wnaW3pdFqEhePWaDREy9EzFXV/65VuNrZtbI8L2xOxuOs7MXfOTqeDYrEog0kQ6qaow+FAOBxGtVpFKpXC3NycBH/onwyHwzLA1FRGgyvtdhtzc3NYXV0VIFBrWFtbg2EYcDqdwhFutVrw+/0CfGpO5NJS8Hw+HxqNBprN5lCQKJlMYmpqSvrS7XaRy+WGrhsIBNBoNMQ01v12+gIBDHZvHXg0L6kZ6Ds8x5OmHbUomn78Idi5AAEDfyIDhQS/3uiCIIj5vu5TZDCRz2KapnCs2V/9s06nE+VyWZ5L54K3Wi3EYjG02234/X7pA/3Do/27ks3Gto3tcWF7IhZ3YDBo3FHZeT44k0F2d3cxPT2NjY0NGIaBqakp1Ot1tFotARC1mLW1NaysrMA0+wkRBFOv10O9XofP50M6nYbD4RB/ZTQaRT6fl0FuNBqIRqMCSrIFOHFut1vuSXByYk3ThN/vH6rlwfoX3Pm5c0ejUTHT6PekT5QaGTVAANI/Tq7X60W5XBZf36hPrtPpyLXYP2bPMS2bflYAksRCIePCRHC63W4YhoFgMCiBOvaTpi4DgQwIUftxuVyizQUCATF/9TEBBgkpTDNnJiTHPRaLyVhxXHd2duD1eiW1nhrkOJuNbRvb48D2RCzu9NeRJaD7qJxOJ6amplAul9FutxEIBBAOhzE1NSWmSiaTgVIKsVgMGxsbmJ2dhWEYKJfLEmwigFjngSZTo9EQ4TAMQ7i73J0bjYZkirFwEqlWOiPB7XYjm80OAZxMBNM00Ww2RavQzStqXslkEgCE/TBqjjJYRb+mzmogaAKBgGhYHo8HpVJJih0Bw8EcalY0uamp0eSjWUyfLs1ban8UKKfTiUgkIpoVA3C6xkRNL5fLSfo7hZ21Tfx+v1yXGqxeWCkSiaDRaKBarcozEDONRgM+nw8ej0dqcDidThHAcS7uNrZtbI8L2xOxuCulkM/nBWS62UMT1e/3wzAMxONxmGa/jsW5c+fEfCGft9PpYHNzUwaemkwsFkM0GkUkEsHOzg7q9Tqq1ar46bijkmoWDodhmiZKpdKQ2UiAUUsAIBoFNRQKBBkJvV4Pfr8f9Xpdno/A1tkUTN8mg4E+wna7LVmN0WhUAE5w0lTWNateryfJDgQDwc6x9fv9opXUajXRCpgwU6lU4PF4xJSnVkd/HzUb+lIpIKOskEqlgnA4LJ9hX8meYJCIY8dn1BdDCnksFhsyo0mbo4YUi8VESNrtNiqVyr50xCvVbGzb2B4XtidicQf6plaxWJRdlpNOEHBSNzc3oZSSiSqVSpiampIdnJqBZVk4cOAAAEjgij6tZDKJTqeDeDwurAXu6DTZ9GAOtS7el1XxuHt6PB4BO9/nLk2/HIWCEzVaz4P3BjD0PQa4/H7/EMPAsiwxtylUlmXJhPv9fgESr0lGBZ9JDxJRYKkx0LSnr4/XZKDN6/VKMMzj8YgJrgd7WPWu0WgIu4PaGP2S1PDobuCCFQqFpLwpfbf0WzKoRo1GKSX+YAa4uBDs5ze90s3Gto3tcWB7IhZ3PXhA88XhcAgViAkXSinE43GUSiV4PB6k02kYhiG1o6enp4ci0tQ+XC6XcHgdDof4sdbW1tBsNqWwUzAYRC6XGyqnSVM2EAhI7QwGx6i5NJtNMdl0ylSz2RQTkGYyI+oEJgABNgNYumajB9mAQclYXoNBKh0g7BsDanrEnr5W3of94/VGNSuOO/vPYBU1Ht2cBQZlV/kdft80TcTjcUmwCYfDaLVaKBQKoqVQo+SCwz5TaLjgkTJIF0GtVhNfKM1tps1TSMfVbGzb2B4Xtieitgw1hVQqhWw2K9F1l6tfnH97exuGYaDRaKBcLmNjY0NqKweDQSnIT6qUz+dDLBaDx+PBs88+K9pGrVaDYRjY2dmRAaKvi/8HAgEx7YA+iCmYfr8ffr9/KHLf6XRgGIaYoTr9idX4CG5qFPr3KFwAJNkkFArhqquuwvXXX48DBw5IMgcDTQQmTUCWGGVaMilwo9+xrD7nmGNrWZZoaBRaMinYXwolObYOh0OYHslkUp6FGqUuTNT6AEjZU6AvJPF4XAKMFCDOS7lcRrPZlPEjHYzaH03mXC4niTXUauiO0Ps8TreMjW0b2+PC9kRo7gQTABmkcrmMQ4cOiS9K1zoqlQri8Tgsy8J1112HQqGASqUiNY/JoQ2FQjh8+LDUuqAZxOQRr9eLWCwmPkwCiFFv7ow0l7rdfhU8PTDD2hvtdlsGnEJQr9dFc6rX64jH42JqhkIh3HDDDXjLW94iAgBAglNOp1NM0q2tLTz88MPY3t7G7u6uAIwRfr/fL1oQgUezs9VqodPpIJvNIpFIoFwui8lnmqacHkOQud1uAf3Gxgbm5uYA9DXPqakpVKtVuc/29ja63S4WFxflRB36P8kO6XQ6YurTz1mtVkXz6fX6pWFZvCqXy2FhYQGFQgGxWExAHwqFZKFyOBxS0ZAJHQ6HQ7Ij9SQPCtG4mo1tG9vjwvZELO5A/ygvv98Pj8eDTCaDqakprK+vywRyQOnbi8ViqNVqyOVyMM1+xbvt7W1EIhGpbcHTX2ZmZuB2u1EsFoXuxZ01mUyKOeT3+5FIJHD8+HHUajUBNwChQQGDSDYz+JhVSPPK4/FIoIvBHPoA77nnHlx//fWIRqMol8u4cOECarUaOp2O9IkR+OnpaUxPT2Nubg4/+7M/iwsXLuCrX/0qvvvd76LVaiEcDot5Z1kWCoUCAIhAcWza7Tbi8biYk/QV8jxNBopIeaPGQ6rVzs4OkskkdnZ2JOhDzZJmNbUjmq0MVlFLYho8fbuGYQhvVyklPkxqclysaGozcOfz9SvltdttBINBWYjIaqBmR3aErqmOq9nYtrE9DmxPxOJOqhfrVkQiESQSCezu7mJ7exuVSgWxWEw0oGQyCafTiVQqJSfBMD2XO2W73cb09LSAnhpHs9kUHyb9V5zUXq8n1DNOFE1V+jT1RkoTo/MMjuhsA50zfODAAbz5zW9GqVTChQsXJENPF3JqVrwez6BUSmF6ehof/OAHccstt+AP//APcf78eSilcPDgQQSDQQnGmKYpPl0GuFwul/jvGLAiV5j0Ob/fj0AggHK5jEKhIALPgBRPzyHtLRwOo1QqScCpUqnIokDeNLUtsgn0euEc216vJ0Es9o3+UV6Di046nRZfq9frlT72ej0xgRlwosCPM6BqY9vG9riwrcZpsrLNzc1ZH/vYx+B29w+ZZeEioC8crHfNCUskEgAgO2K9XhcTh+YcTVUGMCqVCur1ukTD6X+k/45BFvr4WC/j4sWLSKVSQ5F3Ji7QjGI/qAnpjeyERqOBT3ziE+J3I7eZQSo9OERh48krPNKMZnW1WkU8HofT6cSDDz6IZ599VuhyBILP50O9XheqG8eEvlcyDLxeL+r1umgn1CTIjqCZyHvq/OhQKCQ+TgbUOB4AhvySAIboaqZpCtcb6GtF7XYboVBoSJiYmMPaG06nU4RJr4FNc9vj8chzMcD46U9/GplMZiwrvI1tG9vjwvZEaO6dTgcXL16UnZl+OQKCD06fU6VSATCgcdEHxV1SN184gJwMmmjMKuMuWKvVhBVAU4psAfrygsGgULs4cXp2HQ+u5RFn7XYb1WpVdmGdksUgEIHHiaMpRvpYo9GQoBvBHQqFYBgGrrrqKnz4wx+G0+nEAw88gG9961sCLPKq2+22aEx8j+wJ+lHj8bjcv1QqyT3oR7QsC6lUCu12W5JtaIbSvI9GowJG0sV4krvD4ZDrcsFyuVxD/WP2IN0NLpdL5hAYnChPoSZOaNJyDB0Ox5BJTwyNq9nYtrE9LmxPxOIOQEzAYDAo5hRfIz1Kp2vRzGPEmCYMo/QUBEbByR3mDsjgEAA5UJjCQZ6urgFwx6aGQDOa16J5S6GjNsH7eTwenDt3DgsLC2Km7acNkRnBe1FQyX4g15jmeblcxsLCAt75znciHA7j93//94dMNQbLeE+v1yvv078IDIIzHBedQ0ytkv5LLlBsHDv2mWN20003DdHnKMBkAVDTYUagfk+dneB2u8W89/l8suCEw2E0Gg0RBH6Hf/Me4+a529juNxvbVxbbE7G4M7rfavUP8CUnlQPOQBMnTx983dwlKHUTsFqtIhqNihbEjDPej9oP6V46vYu7P5kMzHhrtVpiAlNz4j052AQNhcrlcuHrX/86fvzHf3woNZr31U1jnUerp0uTVseECfbb6XRieXkZt956K+6++2781//6X4c0JY4F70M/IsdxP5+r7s8jiPl81AjZeG26+Dgmt99+u2gltVoNDocDx44dw8033zxE8eNzPfHEE3jmmWdkvICB6R+JRFAul4dMXT67HpR0OgdFnzqdztiDqTa2bWyPC9sTsbjTFNRNGQKfBXz0mgqkQ5ElwFPZaZpx8NrtNpLJ5BDflb490sMIbqDv59QpYvwed8p2uy19YlBF1174PV2QCJp6vY5arYYHH3wQN998M2ZmZmSXpobGYJeeeUbNgFoGzUEGrGjeWpaFhYUF/IN/8A9QKBTwe7/3e6IlUlsgyKmh6OYfQc2oPMGsB284Fgys6QKkMy8YQFxaWsLb3vY2pNNpcQPQbC+VSlJqlt+788478fa3vx2WZeFzn/scdnd3xQXA7EzWBp+bmxOtkqY5sz/1tp8GeSWbjW0b2+PC9kQs7gQ8M9Ro3rjd/epo1F6oBZmmKYkZAGSigeFT0umDY/CC2g/LphKc5JIS4PSFsXiQDmrSv7ijMnjVaDSGIum8Lt+n+b2zs4O/+7u/w3XXXYdDhw4hFApJPWzd30nA85koJKwSqJSSrLder4fHHnsM2WwWb37zm/Frv/ZraLfbOHXqFJTqn0ijB3uee+458QPyXqSR0XcLDJ9Qw2fSv6OPt2VZiMVieNe73oWPfOQjOHr06FBAijUxtre30W73Txza2NiQeeT1o9EolpeX8Z73vAculwvf/e53USqVcObMGTQaDRlTcoxJtSNTgpoN+drj9rnb2LaxPS5sT8TiDgyOlmISAIWi3W4jEonIBLJ8p64B0URhkEE3YahhEDwOh0OoU7ovjN+juaxrG/SLUTA4yPxhxT0AYjIyeEUNie/zPk899RSy2SyuueYapNNp5PP5IeDRpNNNTk4w+5LNZiXAMjs7K3VIms0mfvmXfxlKKeHUcoFZX1/HV7/6VfzhH/4hcrmcAJn30bUczgPHWv8s/6Z2dN999+H+++/He9/7XrTbbVy8eFESaqrVqiwShUJBsvSoSepug0qlgs3NTcRiMSwvL+Pmm2+Gx+PBysoKNjc38cQTT8Dr7ZeAZb+IEy6cwIBZAgwfqTaOZmPbxvY4sD0Ri3u326/cxprG9PPRPDMMQ4JAAIb8kNQidP8fgQP0zUIGVjhZAASg1Eq4E3KXZOCJ2ga1H/0z1AoY1GGSiR4Vp/+ToGJyQqvVws7ODmq1Gq6//nosLy9jd3d3yJ9JYACDYA61JAZTyuUyotEobrvtNszOzgqNzTT79S5ootJsn5qawnvf+14cPnwYH//4x4fMVN2PN+qnZEo3+8L3O50OPvGJT+A973kPAODUqVPIZDICbtM0hzQRmqF6cEj/m+PUarVQLpdx8eJFJBIJXHPNNbj11ltx5MgRPPDAA7KYxePxIbob76kHFdnvcTQb2za2x4XtiVjcnU4notGoaA/csejrY30H3UxiZJl+PH13YwoyBYO0Mp1eRpZBKpUSQJHGxCSLeDyO06dPi5kLQIIljL5bliWvFQoF0Z4AiKnF/rGP1MSoxZw5cwaJRALT09NyJJruX9PBAQzYFx6PB/l8HkePHkU6nUan05FFIxQKyUJCgXA6nZIK/YY3vAG33347vvKVrwyNq65NEYzA4Ngz3V85NTWFj3/84/jABz6AM2fOYGdnB6VSCfV6XahdpmnK3JqmKZX9uHDoz8Z702SniZvL5bCxsYFUKoWrrroK1157rWR9UsPleFM7o8uBySLjaja2bWyPC9sTsbgDkApw3A0djsFJ6CTtc4flbsbXaKbwO5Zlye5KEwwY7Mo6i4BaESdEp4vRtCXHlBXj+DfNVAASEPP7/ZKswGQL0teAfh0LArHRaEjyyf/8n/8T999/P9LpNDY3N6WeBTA43LfTGRRyYmGld7/73XjjG9+IdrstdDLS23ROLjUMBtycTif++T//5+h0OnjmmWewvb0tWh37yUp8bOxHr9fDHXfcgV/91V/FwsICnnzySUmnr1arEgRjcC4QCKDVaqFUKklfKAS6xqTPEf+nz5kaC2ljHo8HxWJRfMH0fTLJhVxyBjHH2Wxs29jW5+hKYXsiFvdms4mHHnpoyMdE1gADPHrmFgeOgqJHxoHBeYsA5HP6gFL7oJnIz9EEfeMb3yj+SQa7qM0AA6qSbrYCEEHlzqpPNu9PIQf6/jJye5vNJh544AHcd999mJmZEfOWwksQsD/5fB5vfvObcccdd8hnWT42GAyKOc7sR93XyMDaG97wBvzRH/0RHn30UZw8efJ59zIMA3/8x388RFkDgPe85z34xCc+gUAggKeeegonT55EPp9Hs9mUNGlmQzIDsFwuy7zpQSaOvW4O6/PIsafZ3ul0sLu7K9fmgglAMKJrdEz7HlezsW1je1zYnojFHXj+QcI0w5iNxmO49B2YwAcGvicGnGiyUhvhD8FPU4rsAgaXHA6HULL0yno0gfToNfvSarXE1NaDKTRrmazAlGdgoA0xC45A+c53voNbb70VqVRKnhkYsApKpRJSqRTm5+dx8803w7IsuSfpcaTX6RoSx4RaAp81HA7jvvvuw7333oter0/pYjU9moD/5b/8FwB9QL7nPe/Bv//3/x7b29v41re+hZMnT6JarcopPwSv2+0WvygXDmqUuklMIeBvnbursyv8fj/c7v5xb/l8HgDE1UDtloEx+mzH7ZJhs7FtY5v9ZLsS2J6IxZ0aB006AoUDx2OqaE7Sx6abrMBgV6YQ6RF5fo7Ap0lEOpdOJyNIeDqLviM7nU6hVdEHqgenKGAUPKfTKYWMer2e1J+mSTXq/8tkMvjGN76B22+/HTMzM9jc3Bx6JmYzfuQjH5GMR74fj8eRSCTkedhnnc9LOtjowsB+kO5WrVbh8Xjw8z//8/jBD36Ab3zjG/jgBz+I3/qt38LZs2fx2c9+FtlsFkopKcTEcUskEggGg0Nzy8WDze0enMEJDLsYKHj0Izsc/brea2trUlXQNAcHF1AD4sKTTCbFDzxul4yNbRvb48L2RCzuACRZg5oEuan0bwGDWhfURgg2XbPxeDxDPFqXyzX0v05F4/044DQN9aARABlIh8MxVOuB/k0CiNej9kXhYyII/aAUZJp6vEcymRRBfOqpp3Ds2DFMTU1ha2tLNDm3242bb75ZamkT5Ppp6PRH6n5NjpEe8KFAsf98PvpVTdPE0tISbrnlFtx00034l//yX+Ls2bN48MEHkc1mJahEt4HH45HaHDQtOeZ608eLWYsU0FqthmKxKJrn5uYmNjY24PF4cOzYMfHH0txVSiGZTKJcLst9a7WamOij9x5Hs7FtY3sc2P6hFnel1EUABoAuANOyrNuUUgkAnwawDOAigJ+yLKv4AteRcpqMMPNQglarJdQuYFDZjTufbg7RvGPhHoJP30F1BgJf03d7Cp7O3aVfVPej6UEw3Y/GQafZDAzTsHR/HBNReI/FxUW5p2ma2NnZwdVXXy0HF1ODOXjwoASEHI5+CjTLoOr+zFHgc4x0dga1So4L65TwRJhyuYz77rsPBw4cwPb2Np5++mlUKhWpPkgtqNvtn+bDMztDodAQc4KN2hQLTtHfWS6Xcfz4cZTLZWxtbUmwjo2apMPhEFog62uQ8gdATHIKNItDvdRmY9vG9msd26+E5n6PZVk57f9fAfBVy7J+Uyn1K3v///LlLuBw9M+U5DmGNGFdrv6JMSzHyRPWdUDrWWc0acgS4OAS1EopAQ61mVGzlSnevCZ3SWAQMKIWxN2VASren1oDJ4XmMYWbz8ezL71eL2q1GpaWluBwOMTH1273K+/NzMwA6J/gMzs7i2uuuUboYgQwAIm2UwCoSRHcFAJdq6GQ8H2OSSgUkoQY0tKeeOIJFAoF9Hr9E3dKpRJCoRCi0agUcaJmyMg+Fwn2h1l4Silks1lhLjzwwAPI5/MCVpqjnGe9j9RiGQzTg1Ver3dosRlN2X6Jzca2je3XLLZfDbfM+wDcvff3fwPwMF5AAABIQgQfiCC77bbbMD09jfX1dWQyGezu7soDA89nDwCDSD3BrkelWfMCgDAXWMeBSSLUkLiDUrPhBPIeNLv4fWYG8rN6zWcKEb9br9eFIeH1ekUbU6qfes2UZtZ6Xl5eRqPRwJvf/GZhDNA32263h/yT/H9Uw9G1MC40fJ/aHQWEiRLUNJ999lmpPc7KgNFoFLFYTBYM3pvPSyHjgkM2RLlcRqPRkFK0Tz75JAqFgswTNS+939QAQ6GQPBsXIfogCX4uZhzrV7DZ2Lax/ZrB9g+7uFsAHlRKWQD+wLKsTwGYsSxre+/9HQAzL+ZCnBD6AnVTcX19HVNTUzh06BBOnDiBUqmEYrEoYKZ5ygFj9pwe5KFpxXvpfkkGl+gvJNBpWupBGwavPB6PULEI9l6vN3RaOSdeKSXlTak1cCemOabX7aApyoMa3G43kskkEomEFCqiecvfeiCNfeIz8pnp/yPI+JuMBy4WXECCwaCkzbPmNsfZ4ehnJLKmNZNa+BMIBIbYE/SXZrNZWZy44HDh4735eb6mCwLnhMCnBsOFCRik0I/S0l5is7FtY/s1je0fdnG/y7KsTaXUNIAvK6VO6m9almXtCcfzmlLqowA+CkC4tCysz2AG0Ad3Op2GUkoO0E2lUjJhTInm4DEZo9vtiilH/6AeodZBops3DNhQaPg3/Y0Oh0M+wwAT78coOIWFAk0B405POpZ+Ig/Tznk9CkkgEEA0GkUikcDCwoJMPieXv3XT+FKNmowuCPpv3W/b6fTrhQcCARSLxaHTgsLhMGKxmLAbqO1Q42AWJJ+t1WqhXq9LWrXO1ND7PtpX/TfHnp/zer1iLpPrzbmh9lav12XRexnNxraN7dc0tn+oxd2yrM293xml1F8DuB3ArlJq1rKsbaXULIDMJb77KQCfAoBUKmXFYjE54ZslSz0eD8LhsJQQzWQysKx+AZ5AIACPx4OFhQWcPXtWAlQOR5/feu2110rwIhKJyCBTMHTTiD6yUqk0FP0HIAcO0zylL47NNPv1Qjip1LhYARCAFFvSd2fuuBQG3WSj6UlfXCQSQTgclu+OBpL4N6+hv6ZrB9rYDz07X9P9qTTJqalRC2k2m5iZmUEgEJB5ME1TwB0KheD19o9xy2T6U8+FRPdZspqhrp3pQjjaOHbsH8eIGhd9oDoLhKn6L6fZ2Lax/VrH9ste3JVSQQAOy7KMvb/vA/AfAHwBwIcB/Obe78+/0LWYTswJ9vv9kqhw0003IZ/Po16vI5FIwOXqH1FVLpfR6XRwyy23DJmobPF4HLfddhtKpZJUWdOpQ9FoFK1WC9FoFN1uF9/5znfw+OOPi8bCSWT6LyfG7/cPAY0mqp4eDAz8kNS2nE6nJChw96XppZSSg4K73a4kbtCX5/P5EIlEhp5PBzEwSOQABm4AYLhmNv/md3UBIcDYBwLSsizcdNNNKBQKqFQqmJqaEt+fx+ORkq5MiInFYjhx4gQeeeQRvPOd7xRane7n1fuhF3fiGHMh0IUT6IOaySvk/SqlxB/JYFSv12deVKvVlxVQtbFtY/v1gO0fRnOfAfDXe510AfgflmX9rVLqMQCfUUr9AoBVAD/1QhdSqn/Oo9/vRzAYRD6flyDQ2toaZmdnYRgGqtUq0uk0MpkMnE6nROQTiQSy2ayYbjS/VldXxR9GU4baE2lN29vbSKfTSKVSwlagWcyovWEYssM7nU7JKKvVakP+LwIbgGT78b12u41gMAiHw4F6vS61OUzTlBrONBf5EwwGsby8jIWFhSEB1808akD0AfL+BA/NPfZPv8aoEFEDpBZIAZ+amhLucjKZRK/Xw/r6ujA+fD4fotEozpw5g29+85s4d+6cUPYIaPaLvGqCXBdQ9o/35fNRKC3LEv41ADGxaZ5y3vlc+oL3EpuNbRvbr3lsv+zF3bKs8wBu3Of1PIC3v9Tr6eaKHuXnYbeBQEACH/RRAUAqlUKpVEI2m5VAVTQalfRuDl6n05F06W63K/60YDAopUVpMrNxB9ePQKMPkkwG3SzTg0z6jq1H/glEXo8BM6X6NTWCwSCmp6cRi8UwPT0Nr9eLZDI5ZFLqWozeV/Jk9+ZhiGmhB5kIPj0oo4+//llqnTfeeCNOnz6NnZ0dATH9kF6vF4899hi+973vSXIJn5t+QmBwQjy1L5qiugnO/vI3+8bx8nq9kuWpzy+zCE3ThN/vl8VOzxx8sc3Gto3t1wO2JyJDlZoDfXH6kVLxeByWZSGTyQiIOXEEjt/vRzgcRqlUkqAHNYRyuYxIJIJEIiG+KvrYaE6mUinJPmNjYIr1OZiswQg6MDiRnIJJ3xiBo1faczqdUtif9SH4ejgcxv3334/rrrtOEhpozlerVWxubqJSqaBSqchzlUolAQKDLrFYDEePHsXKygocDoeYeQSBrtFw9x+Nuo9qBnzW2dlZBINBORKs2WxiamoK2WwWDz74INbX10UjooABAxOeyRkEq66JAhANTad66fjgcyqlpB4LhZP3oFujVqsNuUH283NeqWZj28b2uLA9EYu7ZVlCL/J6vSgWi6Kd1Ot1bG9vwzAMMWdTqRTW1tZkl2fFtGQyiVqtBsMwsLCwgHQ6jVqtJsAhICKRiPiw5ufnhxIG6M/T/V0AhLdLk7Td7p+iUywWBegssgRAgjHAgKXAv8PhMKamprC4uIh3vetdArZz587hzJkzWF1dlcAYfYAEOfumB7CoPbndbjz++OMSkDl06BDuuOMOzM7Oiq+V1+MCwr91NsKokHDcl5aW8Pjjj6PVaiESiaBQKOCzn/0sfD4fgsGgJHUwkYXPCmDoGUi5o5CMBtP0PuiNiwjT6BlwIg+Y9+H1gMGxc+NqNrZtbI8L2xOxuOucUfrmOCFf//rXEQwGEQwGJQDUbDaRTqcBDA47CIfDIjTxeBwA5EzGZDIpp70DQC6Xk0g9EzP01F6WKtXNLvaTJlSn0z8AQSklp9F4PB44nf30b/rrSLPqdDo4dOgQotEoDh8+jPn5eZTLZXzve9/D6dOnpdA/fW8sqar79HTfIndsal0EHyfb5XLh/PnzOHPmDEzTxOLiIq6//nqk02nMzs4ikUhIMI1aDgWLpiKvR8GLx+NwufoHPVx77bX42te+hp/8yZ8UbWx+fh69Xg+VSgW5XE7612q1xCfLetj6ePHZ9P7rQbFRHyrHmJ+jIFD7tKx+cgrncJzNxraN7XFheyIWdz4cB4Pmm2VZ8Pv9SKfTqFQq2NrawszMDLrdrrALaFbqvkKgrwFQI9rc3JTB5G5rWf0Tb2ZnZwVYwWBQCjnxYAOdfkW2ADDQdrrdrlT7syxLvsNdt1qtYm5uDnfccQcOHz6M7e1t7O7u4vTp09je3hbmhJ40Ql+dTofSzV3dNAQGgaXR1HIKtsfjwcbGBra3txEMBrGwsIB4PI4DBw7g2muvHco2HDUdCTCOTzgcxj333AMA+NCHPiTCQv9qp9PBF77wBRiGgWg0KvNJzZJmJsdJb6P+Uf6v+3Y5Lhx/Bu/IJGAQij5kPSA3jmZj28Y25+xKY3siFvdeb3DCOv1InNRQKCRmEUuakk5WLBaRSqUAQPi7fGi32w3DMFCv1xGPxxEOh5HL5ZBKpYQf2mq1cObMGRw6dAgbGxviSwQGE0ThpHDxfwa42G9d2wAGx6sdO3YM73jHO3DhwgV85zvfwcWLF4fOWeTJO1wAaE6yf6P1NPR7UTPh/zQJ9QWFael6wIba3ezsLL71rW/hrrvuwtGjR4doXMBwPWqn04lgMIijR4/ipptuwqlTp5DNZsVPTE2QJ9ZwPlhbpNfrSR0SPdCka4w6w2BUwCkEFGgGvigQAKTioi4gegBwHM3Gto3tcWF7IhZ3pZQAnHUpaA6apolkMonTp0+jXq8LSNPpNHK53JCvkPQtYHDiPACp2eBwOMQ/Sd9WJBLBD37wAywuLkoluNHEBE6AXhWPA0zfKalTAMRs+uAHPwilFL7whS+gWq1id3dX6owwyQEYnH5DPyATRhqNBkqlEmq1Gmq12tDJK3qkneYd/YHBYFASLlwul5Q51bULh8OBCxcuwO/3Y2dnBx6PB+9+97tx4MABOXWejf7ipaUlzM/Pw+12o1qtolarSYIN54zsC/oJuViQrsdrV6tVhEIhEdRRDYT/03SnSc957na7cuh0LBaTezH4R/7xOBd2wMa2je3xYXsiFncGTDiBLCxEgF68eBHRaBSZTEZ8jydPnkQmk0E6nZYdHegD3+l0IpfLIZfLSWH9YDCIZDIJpZQU8rn66qvFlGU1N/6mn4vmHzUP0pKUUlKAiDQoambXXHMNbr/9duzu7uL73/8+Op2OJHmUy2UJCjGCTg2m2WyKgPLUmFarhVqtJlqTnsmmm7D8TcHJZrPodrsIBoOIRqNwu90Ih8Ni1hF0nU5HsvH+8i//EnNzc7j11luRTqexuLgon1OqT8MzDEP8rhxvllCl/zMUCsniwEbNiywI1t/gIsP50+dS19LoFiCLgOVOqQ0y8Ef6GO9HDWdczca2je1xYXsiFndgYPIRGNzNXC6X1KbgQ9FnyTrZuj+RJmcsFpPXms0mYrGY0LmSyaRoFvl8HpFIZKhcKq/PQBR9guwHADGTW60WwuGwaAB33XUXZmZm8OyzzyKTyaBarYrf0eFwSCozn5WA5W+aq/wOS7ZSS+ARaQSGbp7SHNZ9iax74Xa7USgUJDsxHo+LFkAtsN1uY21tDVtbW0in01hZWcGdd96JhYUFAMOHCMdiMaHLdbtdRKNRoWmRx82AHBkJLle/zCpNVr3pZji/C2AooMa/qUEBg6QXmq00iSmg+rXG1Wxs29geB7YnYnG3rEFNDfqoaCb2ej2pUtdsNhGJRLC4uIh8Po94PI52u3/KC32HnU4H0WgUnU6/hCZ3+FAoJFoNwcEUXq/Xi2w2K0GkarWKSCQiYGG2HSdcj3Yz6OXz+XD33Xfjuuuuw9/8zd/AMAzRVnhdHsZAzYiA5980zennoxYE9CfS7/fD7/cjGo0iHA4Lc2J9fR1bW1siENzRqRXQJG40GsIiqFQqCIVC8kOOLkvFrq+vY2dnB6urq3jTm96EN73pTfL8HD/S4Hi/VqsFv98vSS3hcFhAy+PYXC6XZN0Fg0FZXPiMup+VWk632xUhpTD4/X7hF3c6gzNJ3W43SqXSUCBunK4ZG9s2tvmMVxrbE7O4+/1+dDodqddAoBiGMbRDXnfddTBNE+fOnZNB51mDHGCPxyOBjltuuQXnz59HLpeTCWZlN/J5mQ6tBzN6vZ6YjIZhwLL6CSiVSkUmjp81TRPHjh3DwsIC/vZv/xbValWEiwEjmlgOh0Ouy2swo5CAJ1hImwOAqakphEIhzM7OimYRCoWkaFOz2US1WhUgUMvR/9bHmxF+wzAQDoeRSCQQCASEcmWapqTLf+UrX8Gjjz6Kn/u5n5M6IPSRkjXBObMsC7lcDul0Gk6nUzRUAENc4FwuNxQkoztAD/LpASMKEgDRRPUAFQWYfmkKAJkI42o2tm1sjwvb4+OIaY3ZVvS30V9nmiY2Nzdlt+Ng8wCAmZkZycrT05XJG+bA0ESj2USgsDIfBx+A+A8JWpqqulbEASUzIZlMYnFxEY8++igymYwAnIEzAhTA85JOqN3wGejfo2YH9Glq8XgcV111FZLJJOLxOCKRiPjoVlZWcNNNNyGVSiEUCsHv98Pn84kWQZNdNyFdLpcArNlsolwuwzAM4Ux3u13xjVarVWQyGfz+7/8+fvCDH0ApJb5HmvrhcBiBQAD1el00JPol6eMlOLlQUXMbNWVHGQ0UEL7OxYKJNVyEut0uyuWymPHAoDLhuJqNbRvb48L2RGjupABxkDhZSvVrWCeTSQAQX1qxWBQzimR+7mS8FrUlr9eLSCSCnZ0dmKaJVCol0WyeBEMOKbUMBpcYtODE8dgsmltutxtTU1N473vfi83NTUmb1ulTDBxRCLrdrrAg6JeksDPYxMnmLj81NYWVlRVEIhEA/QAZNa1qtYpgMIh4PC7UOf26AITtoJuVZCLQn8rTcphGTsEFIAGkdruNBx54ABsbG7j//vvh8Xhw9uxZOZSBANRNW2BQtInPxMZxIo+bn+V7wHDKuO5f5ELB8qqWZYmZSjOXLo9xumVsbNvYHhe2J2JxZw0FptZyMAjmzc1N8VleuHAB+XwexWIRSvUTNw4dOiRRfR4+XC6XJUuO9aKDwaAkNACQYI9O12KCgJ7gwUAXMDiCDOhPwoEDB+D3+4XtwNdpdvK6nFg9cYMgpe+SWo5ukkUiERw8eBCpVAoHDhxAoVAA0N+1K5UKDMPA3NwcZmdnkclkEA6HhSfN476Y1r69vS2+O9PsV+xrt9uIxWJSnZAp7QCk8h19r1wsnnzySZimibe97W04fPgwVldX0e12EQ6HZR45ls1m/2QacqbJf+ZnqJWMmqvEAMHLhYfzrPO2SSPTzVUuXvq1xtFsbNvYHhe2J2JxJ9hoktBX1ev1sLu7C5fLhVKphEajgUwmIwNmWYOT5JeWluQ7PF2FPz6fD16vF6FQCMVi/7B6niLj9/vR7XbxjW98A6bZP4lFpynR7GWQiTsy0Afoe97zHjz++OPCXiBnlyVWKVy9Xk/OaSQIdB8kmQSjPrRkMol0Oi0sCJqx5XIZX/ziF+F2u3Hx4kX82I/9GObm5lCv11EoFBCPxyVQRcYFjzEjOIC+v5PFpYCBz5J+Rgb9SMeipvH4449jbW0N733ve5FKpbCxsYG1tTURFvouCb5wOIxarSa+T4Kffls9QKYLgs5i0AWXYGcwMBAIiAZEoeHcjZsKaWPbxvY4sD0RizvNEJquhmGIj4z+K2oCTme/bgb9fAw65fN5SSJot9soFApDJqhlWSgWi8jlcpifn0ckEpGEAV5H31lpzuqn1tNfWigU4HQ6cc8996DVamFnZ0dAw+CUTvli/2m26toNd2qdOcDAj8vlwtVXX42pqSnEYjEkk0nh9T7zzDNotVq47bbb8NBDD6FYLOK6667Dzs6OlH+lWcdFwO/3Y3t7G73eIDvS6ezXBo9GowgEAnIKDf2L/Cz7Rg20Vqshm83ir/7qr/Cud70Ls7OzuHDhgpyX6XA4sLu7K5F/ncam+2v1Ohp8ds6X7gvWTdhOpyMn1OtaKDnA/J8YGadbxsa2je1xYXsiFnen04lEIgHTNLG1tYXt7W2pPU1qk2maUpc6HA4LkBhwoM+QUW7Wsmb5TIejn4kXi8WGdsBSqYRSqQRg4M9zu93yGfoTuauSnmSaJu666y7RapRSYt5RU6N/kckauhBQ8+JnSE1LpVJoNpsCSLfbLZQuv9+PRCKBRCIBt9uNdDqNhx56CG63W8q/rq+vQ6l+qjsPgSCrIBKJCGWN5V2feOIJ1Go1hMNh3H333QD6kf9CofA8k4/Fogg0ZuZ97nOfw4c+9CHceeedeOSRR8RfWK1W4fP54HQ6xfRkcSX9gIbRgNMohUwpJQkuNIVpltJU1TUb/iZrZJzNxraNbbYrje2JWNwZsNjZ2RFNQadL9Xo9Kb154MABASwwqLbHBwYGiR1zc3NCNwP6vi0KRCaTkUFNJpNIJpM4fvy4BF0YSGE9CQok/Xo0I3d3d4eegwLTbreltgaFlL5Hvs+U6UgkgiNHjiAQCCCTyYj5eu2110ogTefJmqaJL3/5y3A4HPjZn/1Z/Mmf/IkIYiAQgM/nQ6VSgd/vF56vz+eDYRgCFqfTiePHj6NSqSCZTMqY6VoXQUgK32ikn6Z2oVDAn//5n+Mf/+N/jFtvvRUPPfQQTNPEzMwMHA4HZmdn0Wq1UCgUMD09LYknzWYT4XBY0tZpGgOD49QYGNOTPPRFRK93Tt+zZVly/BwXxXE1G9s2tseF7YlY3LvdLvL5PDKZjPjudG6oy+VCIBBAq9VCLBZDt9vF+vo6gMGJJqRAHT58GIZhIJ/Po9FoIBgMignT6/Xg9XrFjKKAMbMunU5LkoieiUa+LjmyDDzpPkQKE/2QQB+MpGHpQSVeY2FhAdPT07j66qthGMYQv5fai2VZiEajYmaePn0afr8fm5ubOHPmjJRTPXbsGLrdLpaXl3Hu3DkxF1mylD66zc1NxONxMVGTySRcLpdoIaxIyEARNQoCkIsJA4XUCCuVCj796U/j/e9/P9785jej1+vhhhtuQKfTwebmppi9FEK3242dnR0UCoWh7D3Ok65d0kfscDiGMgdp4mez2SEOMzUf9m+cAVUb2za2x4XtiVjcLcvChQsXxGzUeb16EaR6vQ7LsrC2tiY7HwCp1DY1NSXnHwJ9zYeFfzigHBB+l3U19PoWjUYDxWIRkUhEzC9qCLoGdf78eUxPTw+VSyWLgDs/n4X3cDqdEsFfWloSH53b3T9wYG5uTo734jPRz0me7trampjIa2tr8lmHo19Tmkkhm5ubMr7sM0/z4bmcHN/Z2VkAEEaA3++XZBW95Cn9hwQln63VamF7extf+tKXcO+99+Kb3/wmLKufwLO8vIxisYhYLIZ8Pi9ZiOVyeYjPq7M5OJacE/KmOZdcgEzTlHraDFzxf15rNJB3JZuNbRvb48L2xCzumUwG09PTaLfbAjKXyyXV1YB+dH11dXVIS6HGwN2bA0QB4Xs6ZQvA8waGuzfNIsMwhji9NHmbzaZc7ytf+Qr+6T/9pwiFQjJ59DMyaq8HmrrdLm677TYEAgFMT0+j1WoJs4CH8waDQfG1MRGFvjpSyXgqz9GjR/Hkk09iZWUFS0tLwo5gdbmZmRmhjNGkY9bf2bNn0el0UC6XBTDUCBjg2traEn8rQc7/AQi1j2BrtVq4ePEiut0u3vjGN+Lzn/88ZmZm0Gq1ZKHx+XxotwdHxBHE+2Xb6T5GaijUhDgHup+YPxw/Cta4F3cb2za2x4HtiVjcAWBhYUECM6T/eL1eGIaBUCgkSQ1er1eK2DcaDRQKBczMzIhvi6B3OAZV2vQBofZEHxj/J3ABSARdr39N9gFNPMvq1wx55JFHMD8/L6U/9fRhgqXZbGJpaQkrKyty3Xq9jmw2K4Jcr9eRSqUwMzODbDYL0zSRTqflueg/LRaLMAxDSsPecccdkq0Xi8UkyLK0tCRmn15alRQ4RurJHLj11lvRarVQLBYRjUaRTqdx/PhxGRsdxHoGIDU4si0sy8Lu7i4uXLiAv/f3/h4eeeQRqXvCwyiYcGKaJiKRiJxsQ42T54yyrjiBzkVKD1ZR0+GcU5tsNpvCbqAWNq5mY9vG9jiwPRGLO31vPHVEp2vxwFjubvRZMikhFothZWVFaFe1Wk1AysQEltPUyf86TYzN4XDI5zwej/SFARKyCriLtlotPProo3jve9+LG264AaZpIpvNwu12o1gsIp/PwzAMBAIBeDwe0RYIGkbZaW6trKwIqJg63uv160NbloVCoQCXyyW1ReLxOK6//nrE43H4/X6hZ7GioFL9+iV8frI26vU6otEoKpUKfD4flpaWAPQFn2yFpaWlIY2C2hnBRy2UY0oth4G6EydOIBaLCWWPhyGT4UCtbnZ2Fjs7O0Op1JwbXk+fH4fDIYE0Fleiz5L+VN1NQV/xuJqNbRvb48L2RCzu3W4XxWJRtBA+CP2KpD6Rl8saFslkEvPz8zJgTmf/hBhGkfmjlBItgj8cTO7YQN+cpdAQKF6vF/Pz86JN1Wq1IWBsbGzg4Ycfxk/8xE/g1ltvxebmJr75zW8ik8lgcXER09PT4h/TzSoKB3f72dlZERLTNMXXyMml0BA4FGzLspBIJAAA2WwWSikJVlFwvF4vFhYWsL6+DsMw4HL1z4r0eDyYnZ0VE5vCFolE5JAAYEDhol+VAR6OLbMaqU1x8Xruuedw5MgRPPbYY/D5fBLEcjgGqfW6P1KfA903PUohY4COAUHS4/R0dz1RZJyau41tG9vjwvbELO6VSkX8jQQsKURkGvBhm80mkskkVlZWBCTAgHZGgLD4EQdv1MdFUDFSru+ISikxcd1uN+bm5uR98mgJiIsXL+Lhhx/GO9/5Tjz11FNoNpu46667MD8/D7/fL9oIwR6Px/HII4+IFhaJRLCwsACns38QA0013oP+Q32CHY5++jbpZs1mEwcOHBDtjSVXGWgir5jp0XpZVZ/Ph1AoJOVEeXABMFznms9AoLPpQTxqjk6nE+VyWVgL+XxehEf3F3NR06+jLxgUcv1+BL4ObD3xx+v1Dmla42bL2Ni2sT0ObE/E4q4HhAhSCgSz43w+H6anp4WadOTIEQmUEPA0O3kdlgjlbgdAzDgeMExtijQvajvcubl7Ly4u4uLFi/B6vQiHwygWi3A4BifTnzx5Eg899BDa7TY++tGPCrjoz+NnDx06hGKxiIMHD0oqNzUMCjwFlpS2TqcjKcgOR/8w31wuJyAtFApwu91IJpMolUool8sAgNXVVbRaLQQCAaTTafF9OhwObGxsSIYdgReLxYTKxVN+OD/8rZuv7CMTXDgfFBYuJgyGsdG3OLpg8ZrAIPmD88C5YhIP/b0shcpr6NejeasLz5VuNrZtbI8L2xOxuHPAWGSfwR5SmVwuF6anp+HxeJDL5SSZQU+hpmnKSaDG0mwOzhtkwgIBpgcoOHFer3coNVz3gc3MzMjnaV7Sd/rMM88gk8kgEAjgq1/9Kn7pl34JCwsLImw+X/80+nw+j1KpJKVLTdPEzs4OgH5NEMMw0Ol0xGfp9/uFt0tOLs1eUr/oxyyVShKwarVaKJfLcuZlvV7HysoKgsEgnn76aRl3CjiDdJFIRLRNHTgEFLUN3UzVtRtG/PlePp9/nrnNhS0ej0tm46irQXcj8HrUenW+NRdAzi39k9Sg2K9xNRvbNrbHhe2JWNzZUZ36w1KonHTWxC6VSuIzY6U6YKBFsJiObl5R6+EAccBpBpMhoCeYsLgQhcHn8yGRSAhAGSzyeDzIZrMolUpiUp06dQrb29s4cuSIJGw4nU7h8pI5wSw/l8slNUSYZEKmBEu8kgdbKpVEI2OQiCevky+7vb2N2dlZzM7OyrgxUUWnj1GT6fV68jkC7sKFC0NgBgYL1egPMFwTnH5UoB+cWlpagmEYME1TNFWPxyMFs+gX5r1o3rIvukkLQLjJAIRayCBetVoV9wIXtHG6ZWxs29jmNa40tifisA6fzye7EDWSUqmEYrGIbDYrBfx1DYRFgxqNhoBGr81AGhQbd0QW5KEQUBOwrAF1jEka/ByPCdO1IZ1vzIQF7qztdhu5XE4ml4LR6XRQKpVQr9dRKpWwtbWFzc1NEaByuYx0Oo3bbrtNIuHU5qgNhUIhqWQXDocRDAYlQNVut1EqlVCtVvHUU0/JNU6fPo18Pg+l+mdyJhIJoYwxMEWNkMJ/4sQJATEXE90sZaM2Saoefbm6DzMUCklUX4/wm+YgeUSn8I0KHMedpXHdbrf0n5xp+pf1ZwAgwalxNRvbNrbHhe2J0NwZ1KnX6zAMQ8BPPuf09LRklzHQoptO9OcxJToajYq5OWrScgKUUkMFnLrd7pAZRbDQhM1mswiFQlJgiZpVsVjE2bNnxfwD+gJdKBRw9uxZ3HLLLVBqcKgtaWSlUkl2+bm5OaRSKZnAZrOJXC6HjY0NAP1FgZXuXC6XcIg5Jjyjk1mOzWYTW1tbeOaZZ+Dz+XDgwAFcf/31ogXRlOfYUbuhBvjII4+IuU2wEoyjfkdqIV6vV4Jh5AtzvAlcBt1IDaPmwkbB0gVAZ1PQD2kYhpjBpLHR36xrNlx4qAmNo9nYtrHNewBXFtsTsbhbliXnPFK76HT6BetJ1meFO5fLhWg0CmBQBpOTRB8ki/dwcIBBEIMTwdob3P2o5fB6LpdLTrUB+rsyE0048fouSiC43W5cc801uOGGG3DNNddIoMSyLKyuriKbzSIWi+HQoUPClQWASCQitbq73S4ikQjm5ubw3HPPIZfLSQ0NBnC63S7OnDmD6elppFIp1Go1FAoFVKtVAP1EDyZ+8JSbQqEgdU6YHcga1BTs8+fPY319HbFYbKguN0Goa4V8jaY/3+OCwkARy9W63W4ROP6Qa02thgsVv89xJueYHGS9ih8zHylwXETIOBin5m5j28b2uLA9EYs7dzXSmhgF58B3Ov1Kdzs7OwJIPjBBzuw5vcqbHv3eb0BpbtIHaZqmJC1Q0+Hg+Xw+KR9KgXG5XDh37pxMntPpxFvf+lbce++9WF5ehtfrFUDu7OygWq3iwIEDclYkA06szgf0D0RgdTiPx4NoNCqHEq+uroqPk2b5qVOnUC6XMTs7K2YzNTJqQw6HQ06f17VGj8eDZDIJj8cDr9eL73//+1IIiW4A+ivpQ9VNUi5AbNR8KBT0J3O8eToQBZ9uBGBQVpYLyeiccZFjEg5xQQqcXhaX9+Uzj3Nxt7FtY3tc2H7BxV0p9ScA3g0gY1nW9XuvJQB8GsAygIsAfsqyrKLq3+k/A/gJAHUAH7Es68kXukev14NhGJiampLsNfoZyRqgKdRsNrG7uyuRb53z6ff70W63xeSiuciiSPv5u2q1GhqNhuzEnKh2uw2v1ysDSs2LxYuYnLC9vS2n3lQqFbz//e+XpAP667LZrJyyc+2110pdjUKhMOTjC4fD4j8Nh8OYmpqCZVl47rnnJPDEQ5WpGXQ6HcmOU0qJ33N6ehrxeBy7u7tykAPNOK/XK4EnHs/27LPPYmtrC71ev6ZJKBSSBYLlUinoXHTI1eWYEqx8JrfbLT5JsicIXAqYTgvjfPJ6+m+axRQGmu70D5Pl4XK55DQbJpRcKuhkY9vG9usV28CL09z/DMDvAvjv2mu/AuCrlmX9plLqV/b+/2UAPw7g8N7PGwH83t7vyzYOMjPn9EML6vU6Njc3hxIcqtWqAJBBBlKcCG5yRHU/mW7OAP1oNDPCuEvTLCU4CEYGxkzTRK1Ww9zcnKRMO51O3HnnnTAMAzfccANmZ2fR6XRQrVZFCDudDg4ePIherydp3vV6HfV6HaFQSMqTMiLO5I5gMIipqSlUKhVMT0/LeZbUGJjWznolTB6hlsiiU9FoFE6nE+vr66jX6yiXyygUCmIuu1yDczgtq89BZmq60+nE7OwsNjc3RQgoABzHUQ2CPGCam5ZlSXRfqX7WHVkYfBYuOJxPgptaKhNrCGj6nWu1GtxuNxKJBNrttuCAKen6ImNj28b2jwi2X3hxtyzrG0qp5ZGX3wfg7r2//xuAh9EXgPcB+O9WX414VCkVU0rNWpa1fbl7KDXI2iP/l3WoAcjJM8zKM01T6lrQ1KS5xvReDir9WTS9uBNy0mnuUBshtczn8yEWi0nNarfbjWg0KoLSbreRSqVw5MgRrKys4MyZM/iP//E/Ym5uTjQEllflsWg6Ha7dbqNarWJ+fh4zMzOo1+soFouiidHvyLocPFSBB/wyS49V/nK5HLrdLm6++WYx21hKlsBrtVrI5XJSA4NjSVZCLBaDZVmSxEJNBIAkf+gUMgoChZDV7DifXq9XNEP2k4KiuwpoCvOaulAQH7wn/cwARDgoVJxTPj8XkksFnWxs29h+vWIbePk+9xkN1DsAZvb+ngewrn1uY++15wmAUuqjAD4KQMwLFuHhrsadmX8zWwuABC8ISD0phDsawc/B1st60hQDIJNAyhR3RppeZDhwFw8EAigWi4jH47j//vuxurqKD3zgA7jmmmtE86B2QupZJBJBNpuFy+VCIpFAp9MRri8TPFgwivWgl5eXkc1mEQ6H4fF4sLCwgFwuJwJPBoFSSg6C+M53voN4PC73oSnONPFisShcWp/Ph0gkgsXFRSkmxdN6qOnQP8uDjJ977jnOn5ipuiuA/GKv14tgMIhYLIZarSYmOX2udC8Q+JdqOn2s3W4jHA4LW4Qak2maopFp+BKc6Brti2g2tm1svy6w/UMHVC3LspRSLzm/27KsTwH4FABEIhGLOyp3Yn1QaM5S69Cr3fEwA5bRBAZHgvFz+3FOqUHQVOVrBIcOdr/fj0wmg0wmIzsuA0o//dM/jZ/+6Z+WiD/N23q9jkqlglqtJhzd6elpJBIJBINBiaJXKhV0Oh2pL0IqGq/BXZ1nTOomJv2CjLCXSiWhmlmWhVwuN6T1ke7GA3g9Hg9WVlZw5MgRWXjod/R4PJKmTU723XffjUAggKeeekpMdt6f40WtcGpqCrVaDV/72tfw/ve/X4RDD+Tp6fC6VqMLF/vEe5HhQB80AGF2MLuTjePycpOYbGzb2H4tY/vlLu67NEmVUrMAMnuvbwJY1D63sPfaZZv+kGx6EIhAJTgJdIKe4NZ3WmDAKaV5QxOJpg41IwKfoKQ5zL4BwNzcHJ599lk4nU7Mz88jnU4jFArB5XJhbm4OxWJReMbtdluSN9bW1iQoNT8/L/dzOBzI5XKilbD0K32unFSaj5VKBd1uF/F4HIVCAbVaDfPz8ygWixKUW1xcHFosaJ4yyYSFlQCIMCYSCUxNTUlNC1bzo8bXbrexsrKCUqmEnZ0d3HffffB6vdje3pbAEYXA7/cjnU5jeXkZwWAQDz/8sGRGRqNREUiOL39z7nTGx6ifUw9yscZ3OByWMdOzFTnGTJ+/HKNgn2Zj28b26wLbL3dx/wKADwP4zb3fn9de/0Wl1F+iH2wqv5BPEhgAlVqJDlwCIJVKIZVKCSdYN02YfQcMOLn8m7smBUxnFlDD4c7J3ZM7JL9LipJpmlhbW0O32y/j+ta3vhU33ngjSqUSIpGIDHq9Xpd08Lm5OVSrVbhcLpw4cQLveMc7xPRqNpuo1WpDCRIej0doTizsz4QQPoPP55NklkQigUgkIuY6tScGdmji1et11Go1bG5uCoODAOp2+0ky7Cd/tra2ZBG6/vrrkclkkMvl4Ha7cfPNN2NzcxONRkNofolEAvPz83Ig8+c//3m89a1vRavVEuYGNUwGBgOBAGKxmAi77nukm8La4whzbun/5NjwJB4AQycT0f98uaCTjW0b269XbL8YKuRfoB9gSimlNgD8uz3gf0Yp9QsAVgH81N7HH0CfKnYWfbrYz7/Q9fmg3KHIgQ0Gg7IbE0h8OAKfux1NM2o2HABgkKHHHZM7NnnDpDGRbkTAVyoV4cjydfZvZ2cHN954I+69915kMhnMzMwgHA6LD6/V6p/60u12Ua1WUSwWEQgEcP3114v5Vq1WJSGFmhF3avpHK5WKBMnYJwBislEwCXiyLqgB0DSkALEGB0+taTab0g/S3TKZjPiDCe5yuYzDhw8jEAjg9OnT+NrXvobbbrsNb3rTm3D+/Hmsra1hZWUFs7OzMAwDTzzxBB588EEJjFE46fsEBotbLBbD4uLi0GJHuh7pgvRfut1uoZjR9Ka2BGAoKEaNlok4NrZtbP8oYRt4cWyZv3+Jt96+z2ctAB9/oWuONgaFGDiib1I/HHd+fh47OztwOp1YWlpCqVSCZVmyI3OyKQyRSES0Do/HIxxaRpp1uhPPshxNFiBfltF4JkfceeeduO+++3Dq1Cm87W1vG0qEqFQqyOVy4m+7ePEigH6GIYGsU99YLdAwDElBzuVyIoisLwIAuVwOx48fh2maiMViooX4/X4Eg0E0Gg0BWL1eR7VaRbfbFSDxNPZ2u187PJPJoFwuo9FoiNmrlMLOzg7C4bBQzvL5PE6dOoVYLIaZmRlMTU3hxIkTEhx7/PHHcebMGaFujZ76zvKvBCNT7CmopMpRE6HWNzU1hVKphFOnTkEpJXVDIpEIdnZ2EAwGsbi4iGw2O7TocRz1YlE2tm1s/yhhG5iQDNV4PI5Dhw5JxPnOO+/EE088gUKhgEQigXA4LLs+gxrFYlECJOFwGIcPH5bDEEhNuvXWW/Hd734XADA1NSU8W2aYUWti6jf9Zwxs0Az1+XwSrDp8+DCuuuoqfPvb30YkEkGhUBiaQBaG6nQ6UnM6n89jampqKGLfarUkSEStghqSXpTJsizxl5b2zoukbzEejwtvmjs/fZF6IIegisfjolk1m01ks1nkcjmcPHkSW1tbUsubvGnS7SzLwvb2NtrtNhKJBG6++WZ87Wtfw9/93d+JH5blaQk2/d7hcBitVkvSvuv1OmKxGGZnZ5FMJqWWeC6Xw4EDB+D3+5HP57GysoJ6vY6NjQ0UCgVJhAGAY8eOSZGrpaUleDwelMtl8bVms1lsb2+jWCyOAdGDZmPbxva4sD0RizvN0e3tbSmQtLi4KGDMZrOo1WpIp9OYnp5GpVLBwsIC3G43pqenEQ6Hsby8jE6nIxoJ6VT33HOPmJScLBb439jYENOUvjAKUa1Wg2EYMpGRSARTU1O44YYb0Gg0kM1mcc8992Bubk7qTzBjjzWsPR6PMAXIB6aAVCoVbGxsiAakVwskRY4ApJlJIUmn05ifn0ckEpG619QEAYiA61lx1ObYB/oKecQa+cs+n08CXMViEUopAXCj0ZB7spgRM/30+1DTXFpaQjAYhGEYmJ6elqp/ptmvJR6Px2FZFq6++mq02/2DCpip6HA4sLa2JtUCHQ4Hzpw5g2g0KsWTIpGIFLnqdruIxWIIBoPI5/Pw+/1YWFjA9PQ0AoHAFcWz3mxs29geF7YnYnHv9XrIZDJotVo4duwYzpw5g2aziVQqhd3dXWxsbCCdTqPX65fxZGbb4uIifD6fVNvz+/3Y2dkZOimdBZFWVlaEPsZsuGPHjmFhYUEi9E5n/xR2y7KkVgTpW7FYDI1GA+fPnxfTMZPJCGeYDIWDBw8iFothdXUVjz76KAqFAprNJq666iqUy2WpJV0oFIQextPiWUeCQRZrL/GECREOh0PMx3g8Lqa0XkWPbAQ9Oq9rOjTxKPB0G1BrYHCqVCphd3dXqvwB/RPofT6fZAIqpeDxeHDzzTfD6XQOHV7sdrsxNTUlmtXMzIxwvPk8nDdenxoWtcRms3+8WiQSwXPPPYd8Po9sNov5+Xl4PB7k83mpT6LX2XA4HBJE8/l8QxzhK91sbNvYBsaD7YlY3FutFtbW1pDP5+V0mHK5jLm5Odx8880SkDAMA+fPn8e1116Lc+fOwePxIJ1OI5fLYWFhASsrK3jiiScQi8WQSqXE99ZoNJDL5WT3X15elsnK5/Piw2y321hbW4PT6RTTMhAI4MCBAzAMQ+poO51O3HLLLbj//vuHKG764QVerxcf/ehHsb29jSeffBLXXnst0um0aC7dbhfT09M4fvw4VldXsbW1JSYjT2QBIAWEGHxjvWf6a3l/BtwIMmD4/MdRPiyFgX8DEC2NPORqtQrDMFAul/H1r38d73//+1GpVFCv13Hw4EE4HP0U8XvvvVeyLplOnkwmkclk5NDlzc1NRCIRBINBnDt3DgcOHMDJkycRjUZx4MABAJCkk83NTeFaP/3004INj8eD5eVlRKNRNJtNHDx4EO12G2fOnEE8Hke1WkWj0UC1WsXtt98Ol8uFhYWFl8qWeUWbjW0b28B4sD0Ri3uj0cDs7CxCoZDs+k6nE2fOnMHq6ipqtRpmZ2dx+vRpJBIJZDIZ1Ot1rK+vi+nSbrfx6U9/Gs1mEzs7OzAMA8eOHYPL1a+xkc1m0ev1UCqV8Oyzz0rVOGpHpmnK/2QTxGIx5PN5FAoFxGIxlEolHDhwAB/84Adl0kyzXwHu5MmT+PKXvyzMBsvqp31PTU3h3e9+t/CAT506hWKxiHK5jFOnTmFra0uCPwx2lctlKYEaDofFLGWdDWBgigKQuhQMtOyn5ejCQiHRzWN+BoAwLcLhMGZmZtDpdLC8vCyaIANmqVRKAlg7OztIp9N4+umnkUgkUC6XcfLkSTnhhxzdubk57O7u4tSpUxJ8ImWuXq9jaWlJfLyc22w2ixtvvBG7u7swDANnzpzBG97wBpw4cQJHjx6VGiJMr7/zzjvx/e9/H5lMRopijavZ2LaxPS5sKz1bblzN6/Vab3/72yVrjJHj5eVlOJ1OfOtb38LMzAx2d3dRqVQQDofh9/tx6tQpKeRPE4wm7+zsLA4dOoRGoyHBnVqtJmYXa2n7fD6k02m0Wi1kMhnxdTKVmEkgPp8PU1NT+Lf/9t9Kxpppmnjsscfw0EMPoVwuDwGJmgZNUB4WPDMzg6NHj6Jer+PRRx/Ft7/9bTmLkb5CHjHGMzepyXi9XsnE44nvBDUBTfDzbwJ8VNMZ/Rn9DhvHiOddnjt3Dk899ZQsKisrK2g2+8eo7e7uDpmJZElEo1Gk02lhJfB54/G4mLzr6+tScrbRaGB7e1tSw++66y5sb2/j6quvFmDn83k50DmRSEj/GYhjWnosFsNnPvMZ5HK5sdT9tbFtY3tc2J4IzR2AVJ175JFH5MQZp9OJZ555ZihVd25uDk8//fRQ+VOyDGimFotFGIaBra0tzM3NweVySQT76aefluALC+K3Wi1Eo1HceOONeO6551CtVrG+3i8jwhrN//Af/kO8733vk2i+ZVl45JFH8MUvflGegSYSd1MKArWq0t4hvxRiHn5QLBbF7KIA8IAHPfGCyShMVmEEnyYna4jovsdRDUbPkNMFhABiNp3H4xGBYEKG3+/HwYMH8d3vfleq6H3pS1+SYFK1WsX29rZoW4lEQoJatVpNDj9eXFwUP/PZs2fFL7q7uyuHONfrdSSTSSwtLcnC8PDDD8tJNTyrk3Qzy7Jw+vRpOWUnl8shkUjgwoULogWOq9nYtrE9DmxPhObu9/utD3zgAzAMAydPnhSQLS8vo1KpYG1tTZIOGOBhlTmn04m5uTnhmdJXVq1W0W63cfDgQaGJHTlyBEtLS/ibv/kbRCIRiYizXrbH40EkEpEKdfQv3n777fjkJz+JWCwmvs1HH30UX/3qV1Gr1QR01Ar0II/OQ9WTT9xuNw4dOiSJF6Q2kV6ll2rVtQ4CntflPXRT9VLaC/un+yF1rYY//Dy1Ol2bYmLKL//yL+PUqVMSQKPAEKxMo45GozAMQ6h53W4XyWQSvV5PfIisd57JZFAqlWRB+tjHPoaHHnpIglDZbBblchmxWAyBQACpVEpqo1x77bV4+umnpQJiKBRCo9FAuVxmkauxaO42tm1sjwvbE7G4e71e6+abb8bCwgKcTidOnDiBQCCAqakpSVfOZDJCE5uensaJEyeECtRoNLC1tYVAIIButysc3V6vJ/QznhJz7tw5lEolmcx0Oo16vY5oNCq+SwZ9aDb+i3/xL3D//fcLa+D48eN44IEHZLBpNvPzuhlNIdJTz/Vgz+zsLNLpNBqNhtDXeOYjP6MLkX6N/TSWUSEZFQT9WqMCQN8mBYEFo6hp+f1+0XY++9nP4jd+4zfgcPSzJHkohMfjkexAUvvS6TTi8TjOnj0Ly7KkZsp9992Hc+fOSfBve3sbSimk02lYloVoNCp+YabNs7BUtVrF3Nyc1B7h3GSzWUSjURw5cgTnzp2T1PhGozE2t4yNbRvb48D2RCzusVjMOnLkCAqFAgKBwFDhHgBCSzIMQyaABYTIt2UBo6mpKZw8eVJA0Wq15OSV66+/Huvr66jVavB4PFIjmWBLJBIy2Kypffvtt+O3f/u3BUBbW1v4zGc+g0KhIOa0aZqIRCK46qqr4Pf7JTjClGrSvmhy6uCmkIZCIZimKaVMgYE2xGtQiHQB0rUctv00Hv33KONA124oAHppUwqAz+eThBKlFH7hF34BX/7yl8XkZdCMvuFEIoFqtSoZhxcuXEAkEoFhGJJdmclkYFn9yoBMxV5cXJTAot/vl1KzTqdT6F+sxeJ0OiXxh8WnstmsuCUcDsdYNXcb2za2x4Xtl1cL9RVupGbt7u4Kd5Y7K01TplZbliWCwNrRHPxisYjnnntOaF1TU1NIp9OS5EHThwEgn88nvjKXy4VSqSS1IpiVds899wz19cEHH5TMMIJudnYWN9xwg3CVy+UycrmcZN1tbm5idXVVkj4IJgKZflA9TZ1ax6Ua/ZD80euO8DX6X1k5j7xiRt/5Pv2C+mfa7baYjKyip3/W5/PhX//rfy3ULS5GDodD5iYajWJqagp+v1+KMuVyOUQiEUSjUVQqFXFFlMtlAH2fLrMgl5aWJIORrgAAEnybmZkR8z4QCCAej0vJVKbaEzPjaja2bWyPC9sTEVC1LAvXXXcdXC4XVldXJamh2+1iYWEBLpcLqVQK5XJZMtCKxSLuuOMObG5uChe0VqvB5/NJHWyXy4X19XXxA3o8HkxPTyObzUoSwMzMjJQmBSCHKtDHdtttt0kg5qmnnsKFCxeEJdDt9o8pO3r0qKSQ82QcUpfW19cldTgUCuHuu++WlGcGaXq9/ik6zD68VJCEAOcPMHywAD+zH6uBz6BrVkxXHxWcXm9wUAQTXfTmcPSLFh0+fBgf+chH8Du/8ztDdT2ooW5v94smzs7OIpfLwel0Dh1YwYUG6AO/VqshEomIb5M1VpLJpCTd8Oi4U6dOCfOj2WwKxY58683NTWGDjHNxt7FtY3tc2J6IxV33lzmdTiwsLMgEnTp1CgcOHMCRI0ewsbGBpaUliThz8EzTRCaTgdfrxc7OjhzDValUcPjwYfEPlkolGIaB+fl5SYc+cOCAmG2sI8GaHtVqFZFIRHi93/zmN2WnpQn6xje+UWpXV6tV4fV2Oh2U9upEr6ys4ODBg3jLW94i51MahjE0Br1e/4QYHci6D1IHvs4cGPVN6owC/XX+6AKgMx4YaOL1qXVw7Ea5w6Sv/ZN/8k/w5JNP4utf/zrm5uakXGun08HGxoY809zcHNbX17GysoJ2u43NzU3EYjEB/MzMDMrlsiRsMOuRmtnc3BzW1takXCznnLQ/HkvHqn8HDx6E2+2Weibjaja2bWyPC9sTsbjTnAoGg1IYh68DwMzMjNRU4AnyXq8Xjz76qGgUACQZgoGeRqOBnZ0dSZDo9fqlObe3t+Fw9NN4NzY2EAqFUKlUYJqmaEX0d9FUO336NBqNhoBEKYXFxUU5UIDFmPL5PNxut2hgDocDCwsLcnBAp9ORUqYMjDkcjqHazTqIgWEB0M1UvgdA+jSq9YwGrXRBoN+O2hXpZTqTARgcLqH7Ovl3PB7HBz7wAeTzeSlpWqlUBIj0u3KByefzcv9KpQKHwyEn71CDiUQi2NraEg3R7/djY2NDhJDCRMoY/c+dTgdnz55FMBhEMpmUzE39+a90s7FtY3tc2J6Ixb3X6+Hxxx+H3++HUv3SpdPT03C5XIjH41hYWJBSneVyGS6XC9PT0zh16hTK5bKU02y324hEIlIvmQNGClKv15Not57pxrKho9XiWOO62+1ifX1dKGkEQCqVQjabhWmaqFQqKJfLUnWP6cnk9c7MzMhJMLFYDIVCAaurq+J3Y2o3hV4PMFGb0U1LaikAhoRGFxxqI7q2w0ZQ83lo8upmMZtS/XoadAEQwBSWn/qpn8If/MEf4MKFC+jsnSfJsVdKySHMbrdbhIOBOi4qSimEQiF0Oh2pw82+8Ig3PsPq6qok4XDeeVhytVpFOp1GIBCAYRhotVpjry1jY9vG9jiwPTGLO/mkXq8X/+yf/TMcP34c58+fFzOIQKbWUSqVsLS0hHPnzmFxcRGhUAjVahU7OzsCapo0DKYwaq1rRPwsfXGtVgvxeFy0HR5+QFNT1xZYAY8+Sfo7m82mADkej4sAXLhwQYSEfjqn0ylZe/p46EEkHdz6Z3T/6H5t9Ds6E0EXiv0SU/g/fY1kX/BQXvpP6/U6wuEwfvd3fxf33Xef9E2nz7HuNq/PxYnCYFmWcK8tyxJfKPtZKBRgWZYwSRgY6/V6EgALBoOIRqOCDQYRqRGOq9nYtrE9LmxPxOIeDodxww03oNlsYnFxEeVyWQr4HDt2DDs7O5L5try8LAkRrO0AAOl0GqZpYnd3V/xQNJd6vZ4EMkYbAy+sQkdAkQvLCWB1N7ZYLAbDMEQ4Nzc3pepcs9kUVgOv4XA48Ja3vAWrq6v43ve+h0gkIvedmpqCwzE46EAHP3/4ut7203L4W9dUCLzRxhKluk+T12MQCYBonHyPqeHUBE3TxMrKipj1HEe+z6p2Sil4vV65PgWYhyoDkCJXbEopYY1QIHWNjwklXMharRamp6dRKBRkjMbZbGzb2B4Xtidica/X68hkMrj99tsxOzuLEydOIJ/Po1qtIp/Py8MahoHV1VUEg0EUi0WUSiXh0GYyGZw/f14KM9Gk0YFAk4uTDQzMMh4IzIg3EzYsy5IgF7UFHRCMfNdqtSHKFRkKrOMB9Cf9wIEDSKfTKBQKqFarwlmlyTeq0ejg328y+R0+i/57tOn953f17+ha1H7BKpruBD81HGo8H/rQh/Cnf/qnIvSsMU6g829yohlYLO0dK9btdoeEh8IJQDSZXq83VIaWz0WTnkwG+qbJDBlXs7FtY3tc2J6IxT0SieDuu+9GPB7H7u4uOp2O1GiYnp7G1tYWjh49CgCSpDE/P48jR46IhtBsNjE/Pz9UUpQ7KCPkNH/o3wMgO6TOvaV/kMDka7r/jn7OSqUiSR2GYcDpdMo5idRg+MNJIreWE83XRzm9ugm7Xxs1aXVws+mBqNH3dZNO5x3zO+wHx4FAb7fborlRQF0uFz7ykY/IYQ4cV72an35IMQFOodBpayxUxe9yDlixjwlAbPoCwfd0Af3Sl7704oD4KjQb2za2x4XtiVjcnU4nlpeXxX+1tLQk/sRqtYq3vOUt4id0u90ol8uSBcZaFTQt4/E4gEEKMzBMjWKggim/PKiYuyUHjbs2j/7yer0wDEOEoNvtih+Uvkb62liTg/U6aBYz6UAXAAKIk6gLg/7a5drltBm+T0GhRjPKFeY99M/up2WN/uiLxcLCAj72sY+h1WqhXq+Ln7nT6cgBA5xDMjX8fr98n6Yp07256HDeOGZketRqNbjdbrTbbdRqNYTDYVlg+HyWZeEb3/jGD43Rl9tsbNvYHhe2J2Jxj0QiOHTokGgoa2trmJqaglL9I8BM08TCwoIEkizLGopYA0AymRSOKH1cuqkFDDjHSg1oT8wE1DUXYNhvxp1WN+mcTqekidPspC+SwhQMBuF0OiW7jaCmr3RUi+Fr1L4oDMD+YOYP+6k3Pseo9gMM2Ar6Z/Tg0+g19N80R0nPohnb7XYRCARw9dVXyyHKND05vgQo+6Hzi0fHg/3hoqGzLUjp41F1pjk4H5RmLQWBroxxNRvbNrbHhe2JWNwBSF1lp9OJdDotoOOAuFwu4fMSJPoO6HK50Ol0EAwGBZAAJGWXOydbIBAQ8LZaLQmGMFDicDjEn+X3+xGLxbC7uzvk1ySfmNxfMguoPfn9fvh8PkSj0aGUYe7m1Fx0TWdUoxj1JY6aq3yNv0c/t9/39vuu/lwM8BDABB5BSGodTVk9YEZ/JDXV0WcZrUHC5+e5leyL3jcCWnc56AE3Xah0uh0Xq3E3G9s2tseB7YlY3A3DwIMPPihAoCnJCex0OrJrcTCoYfAzHFhqODQRmVih+6l6vR5CoZBMBJNH2BhUYkEkh8Mhhyxw4DngPEtxdXVVJrvT6QgFjAWJdP/j6I/edHDyO/okjoJi9HWOh67J7Pfd0c/qn9cFfFQDo4/S7XZL1Tqalfx5+OGHsbq6KnNE852JHMAgJVvX4HTAEtT0RVJA9D6zCBSfhe4G9pufZ5GrcTQb24NmY/vKYnsiFvdms4kTJ04AwFC0mT5ETgoBbFnWkClJTScYDKLZbIqw6Nl93W53iGnAQW21WggEAmLeMMKvsxEcjn69Zh4nRsGzLEsONC6VSsJZXV5ehtfrlQN/mUY8GkTSf+vAB57va9QXhFEgj7b9rjeq7Yx+fz/h0P2WBBQDSDQLWSyK2k0sFsPW1ha++93vIh6PC4A5T71eT8DMRYdaKrUVziHBzO/yM9SCGJRiqVQAkmIPQAS2Xq/vD7wr0Gxs29geF7YnoiokADlgdmZmBvPz81BKSfU6luhkyc6ZmRkxl+jzcrvdUjjf6/XKBPr9fvmfPk5qDTRZaWoxJZgDa5qmHP1Vq9Wwu7srr1MQaVKn02mk02mp+cBSoEePHsXs7KwAV/c36gKh+/5oOvP//fyDOsh1sO/3mcsJhG5ajr6n+wr5fS4Ooz5UzkWv1xOtkKYvP68zBzhn1C7JHGi1Wkgmk4jFYjLvDodDfMDsn67ZUIsFIK8Hg8Gh0qjjbDa2bWyPA9sTobn3ev0KaixX6nK5kMlkZDJpdvr9fvR6PSm6Q7Bw0Alm1sIgRYsTkMlkhiLh3EGZPtxoNBAOhwH0B5U+R/rhstkslOoHwtivXq+fRBKLxXD11VcjHo+LvzISiQyZnjoIdeDzh0JNAOp+t/3aKNjZdE3lUuAf7Q81mP1M4NHvs0/0r3JMyYM+cuQITpw4MTR/1CJ1jYaaZqFQQCgUkmuWSiXJatQ1HGq+vA5BD2BoMdTZDONuNrZtbI8L2xOxuAODXXxtbU1ARV4nB5b1FHq9njwgub36Tq1/Rt99udNaliWmKs0k1vXgDk3/mS5k4XAYFy5cwPz8PKanp8W0487Lk2Z4wjxNYoKZpvClTM9RDYP31V8b9Ufydf03/9bB+0LBF9205XPp1xzVdKgNkiHB52u327j33nvx5S9/WYJwPDzCMAw5ucfn8w0tDvQf0ydNc1N/Xp0+R0FiXXT2Cei7KljYapxMGTYb2za2x4HtiVjcPR4PkskkGo0GotGomJQEr54MAEB2Qk6CvovyN00j0zSF79tut1EsFhGJRNDr9aTI0dTUlHBJaXLpacG6WZVOp1EqlYT/e/DgQQFBvV6XCQsEAgiHw3LKu56mDDwfkPsBVQ9K7WeC7qf1jH5+1M/IsRm9FwVOFyYd/BxvpQa1shnkIe2Li1E6nZZg3czMjGgko+MZDodloWOCDL+nVP9IMhZm0tkJkUhkqMaJ2+2WAy+oBSmlREDH6ZaxsW1je1zYnojF3e12Y2lpSQIHqVQKlmUNAYuFfegn1CP0NDu9Xq9kl3EyOODdbj/9d3l5eSgQ4na7EQ6Hhd7FAkxKKfj9fin6BPRBEQwGEYvFZAJ537e+9a24cOECLl68iGQyiVQqhdnZWTHB9gv2XE7juNx7lzInX+z3X6gPFBZdYHUf6n7mql7drtVqYWlpCdlsFldddZUUVtJNdWqTBDwTNqhN8ii6qakpNJtNMUP5/W63K1RAXcAIfGLJ4XDg+PHjlx2LV7PZ2H5+s7F9ZbA9EYs7/Xh+v19OmtGj/olEQswiALJ7NRoNqXNNs4emEn1eHo9nKMrMAwoIoHK5DKWU7LA0QckxpvDQF0bhMk1TJqXT6SASieB973sfstms1F2Ox+NDLAjg0kyB/czP/Zqu5ejay+g1LzXO+wnipa6jm6r8PANifI+CoPObm82m0Oh4Ak+73RaztdvtymJDIeCBBPRRc4711Hn6iDm/LKPK16nFdLtd8S/rbJFxNBvbNrbHhe0XtFeVUn+ilMoopU5or/26UmpTKfX9vZ+f0N77N0qps0qpU0qp+1/o+hxY+pwYeBmth8EHc7vdUsiIu6tumiilUKvVUK/XhTXACazX6xJlBgaCx8JKBDbBxQwwTiD9lvSDtlotOYghHo/D6XRK8Gl5eRmxWOyyZhPBP/qa3vjs+5m63OlfjCY0KmCjoN/vMzr4dfN1lE0w+sPUawoBFw9WLqQJ3Ov1D1JgtqXH45Hx5UKkp7O73e6hVHdiht+v1+sol8siEOQfX2pRsbFtY5t/v96wDbw4zf3PAPwugP8+8vp/sizrf9dfUEodBfAzAK4DMAfgK0qpqy3LumwBCaUUYrEYLMuSSng0RRioYAIHNQpSsvT3Op0OZmdn5TgyAENlMwla+tDoNyTVzOfzweXq11sOBALodrswDEP8XTRhedBBtVqF1+vFkSNHEIvFAPQnkaYtd2vg+ebmaAT/cmPD4JOuCRHAL/T9/a7HxoVAHx/9uqOal+4L5gKlCwK1HI/Hg3Q6LQDn+HHxIkBpfiqlUKlUxCVBNwU1olQqNcTx5lwzqMia1/l8HhsbG0in03JsmZ7Gv0/7M9jYtrGN1yW2X3hxtyzrG0qp5Rc5vu8D8JeWZbUAXFBKnQVwO4BHLvcl0zSRzWbhdDoFuE6nUwaAJ5pQM+Hp8QSqfrzV5uamXJen2/CIL2oKhmEgEAigUqkgGAzCMAzJ2iOFjOaTnoJM/2e5XJZ+NJtN8ZuRraAHi4Dnly7V2QX7aSj8Xwe+3vbTmHRBuJwZPCo0+wkSQa/7fpkkQ9CbpinZewCe9yzHjx9Ht9uVOiSk+EUiETlwgM9BN4VpmsL/JguhXq9LXXP6LbvdLqLRKIrF4pDpymd49tln4XL1DzTgM+zXbGzb2H69Yhv44Xzuv6iU+jkAjwP4hGVZRQDzAB7VPrOx99oLNqbv6mYLTRxqEfyfgQ4OMOtPc/cl0Gu1GpQanFxDHyPZAb1eT/ySTqcTxWJREgv0RAuCodFoDEXQi8XiUKr3qM9Q9+vpf/P3aDLHKD2Mr48C+XIazej39bYf0Eevpwuc/pv95vzogq4/I4WjXq8jn88jFouh3W6LX5hna/LEGgKa3yNYda4vscFgYafTkUqJDodj6NgynepHodiPefECzca2je3XPLZfLkfs9wBcBeAmANsA/o+XegGl1EeVUo8rpR5vNBrikwQgfFrudKy4xsHiTghAMu0I2kgkAq/XK8EGpRQCgYBkhTE45fV6ofYCVxwgnVvsdrvl8FtmAtJf6vV6EQqFJGtP9/HpEzH6o0+G7vPbG4/naTqjQB81Jdl0AdN/9Ovyc6NaFPui/6+bqvq19efT+df0D+rPSe2t0+mgXq+LT5gMEGodLpcL4XBYxp0gpyYTCARkbghsshcASACK86KXtaX74CWa9za2bWy/LrD9sjR3y7J2tUH8QwBf3Pt3E8Ci9tGFvdf2u8anAHwKAGZnZy1qLQQ3TSPu+gSs1+tFq9USmhC1FwoIa0LQf+X1etFsNoWNwGy/brcLr9crgQ4GoKgFjQKW/eExZ6Zpiq+M16Z/bj8NR9+5R03bUX+jbuYSbLz+6Gf2xvJ5O7jO69Xvo3+H12efaFJfSguidqlrRaMaG+eLLAGlFKLRqCS/6EElAtrpdEoNcmY+klXidrsRjUbFReBy9Y+IYxCQLA9ihc/I+Wy1Wpf1S442G9s2tvX7vpax/bIWd6XUrGVZ23v/fgAA2QZfAPA/lFK/jX7Q6TCA773Q9RiJ5wAGg0EEg0F5j74nmjvhcHiowA4HlNzQXq8nTIJer38eJaPOLPhDM5YD3+0OivA0m03ZVYH+RFNgaLbydHOaRxQCfnYUGPzRfZQv1HQN6MWar7pmovsvqQHoAB71l45qObrJqlOuRrWpUc3K4XAgGo3K/LEsLa/JehlcaPS6JzxAAhgE96LRKNxuN/x+/9CBz6FQSHzXLGHrcDhEIKh1vZRmY9vG9usF2y+4uCul/gLA3QBSSqkNAP8OwN1KqZsAWAAuAvgnewPzjFLqMwCeBWAC+Lj1AmwCDgqBValUYFmWZHdxx6XmoU8MTzrhexxIcoI5CKR9KaUk0473YJICwaDUIAuMQS7uqCy6xM/rwQ5dC9kPIPu1UVNSn6z9vsPdW9dI9vuMLgSj93uxwqdrTDp49X7wHgQan4fzSboWz+n0er0SMKR24vf7RevpdPo1yzlP1HKICbfbLYwTAMJUoNCQ8qfX5dB9zPuMlY1tG9tybb0fvMdrFdvAi2PL/P19Xv7jy3z+NwD8xgtdV2+6ryoUCgHoE/RHTxPne/pRUxx4ah8cKFZVA/rJHKyRQQB7PB45xJeaFM9FZBCL0XDuthQa9ot9poal90fXSi4HZv1vvVbHaABq1GS91K6tvz/qg+Rren9G/x+9J59d//zo/SgEvE6hUIDT6ZST36kN0k/IwB6vT8ZIo9GQuWFrtVqIx+OoVquSCOTz+RAOh+VQBb/fL89BF8PU1BTy+TzK5fK+47TXdxvbNraHPj96v9cqtoEJyVDlAHm9XlQqFQnw9Ho9VKtVKUsaCoXEP8kEAVK6aF4xoETmgMfjQSgUQjAYlMQPoJ8UkEwmJdpNv2Gz2UQ0GhWtplgsIh6Pw7IsCVgBkGCTLqS6XxIY1nL2E4JLmaX7tVEzGHh+sGi/a/N9ah77Uad04eB3+fd+Gtt+z8fxsywLFy9elMqD5GyXy2VEo1Hs7u6i1+thenpaglAulwuJRALBYFBYIEyTp2+RfWJRLYKftLNqtYpoNArLslCv11EsFiX783LazavdbGzb2B4XtidicQcGPE9qJuw4d/5kMglgcDgBzVKmZ1O7qVarkroN9Cep2WxKsImmqf4dy+rX1WCBHu62PJTA5XLJ7szynhRCACIEo+bq6A8wOM5LB5v+/n4Bn1HwjQrUqEaz37UuF3jZTxPTzVBqlzqHeVQYuQg5HA6Uy2V0Oh0Bc6VSkWy8YDAIj8cjCTx0KRiGIfchmKn5kIfN+ad2xKxKCgTTvqPRqFD7Rt0D42g2tm1sjwPbE7O462YjfVQsaM8qdfqkVyoVmRyaK/p1gIFJTNoXAAkyMcMuGAyiWq2iVquJWarXSqafi2nh1J4IAAoT76eDVQcqBZqTTAEa1TZ0AOqBHN3veSnzWNdi+Dk23Z95KUDsJwDAgJ2g84D5OQJR9116PB6kUik0Go2hz9ZqNTSbTZkzn88n12XtcaUGB0dzjLhI0bRtt9vC76bvUl/AOD7M1hz34m5ju99sbF9ZbE/E4u7z+XDNNdcIE8DtdstkkaLE1xmc6vV6coCBzgcFBqnEu7u72NnZgWVZktHFABTPOCTw+RrraFiWJbuqZQ3qaPd6Pezu7g6ZV8lkcogPO+qjBIa5vmz7aR6jwqNfb9R83c/k3c8XyXFkGzXleF29T/yfAThdsEfvR4G2rMHZjixWxXmbnZ1FIBBAtVoVNwIXN2pl1FA8Ho8sbrxOrzfMPAAGR8JR09UDTpY1yELkojeOZmPbxva4sD0RizvToBnk4WA7HA6pfMfPMMADQAZ61JTyeDzY3d2VCHWj0UAikZDqbNwxSfdKJBIwDEN2S73AEutycIBHecaGYaBSqSCTySAcDgsg2H/d/NZBtp+vkn49XZAIfr6n83F1MFL4RzUPvqa3URBfCtxcBKjp6Nfb7z58Rgb3qKkuLy8jHA6j3W4jHA4jGAwKZY+1Ska1EJ5So1P0qF3xfboiut2ulMPtdDpSfZECOU7N3cZ2v9nYvvLYnojFvdvtyiEB0WhUKEEEEJM/yLf1+/2SBMAH5eATtPRN8j1qMtx9aRZ7vf0TZkKhkGg8NKv03VLPLiM9jUdeFQoFVKtVOaJsVIsBnl95Tg/UjGov7AMz0UbNWJ2XyzaqlVyqjfpD9e+Mmq464AjqUeDzeuyTPk8UWtZWKZVKsohQ02GfyPEla6TX64mJCgDRaFQWFi6CzMCk6Uthpb+SlLMXGpNXs9nYtrE9LmxPxOLeaDSk0lm1WhWflMvVPyE+EAhIOUyeR8myl/Q/kbdrWf0AEgeQ1DIKkW7+0g9aqVRkYqj98PvknfZ6/VrM1WpVMtH8fj/C4TC63S7OnTs3NEncWQlmvYyrzj7g63xv9GdUcwOGzVC2/SaZmtDlmq6pjGpWdAvoZiAXlNEfCgiz7VgC1e/3o9Vq4eTJk6IVRqNRed2yrKHkDSZ0FIvFIfZGPp+Hx+MRTdPj8ciJNfRf6seX8flHaXdXutnYtrE9LmxPxOJOs1UPKDAzi7Qgmi7NZhOlUgndbheRSESCQACER8odLZfLia9LD07E43H0ej3U63U51ko370g3azabktRB84rfZSID6W2bm5twu9249tprUa/XBVDc7fcDO7PZqOXo//M1XesBnm+Gvhg/p/43f2j+jiZN6Fogg2n78ZL5+qg5q/uVlVJyqARN0Ha7Lb7gdrstLAC9tonX68Xs7OzQODApBICMPYNMbrdbzpssl8toNBqivY5yma90s7FtY3tc2J6IxZ2NWgZTeuPxuNTO8Pv9qNfriMViyGQyUjuDGkckEkG5XJaUbnJ+Sc9i7eR8Pi+TzoQO+jtZBU8pJRNWKBQAQOpjG4YxZLLxPtPT06hWqzh//jxSqdRQ9Fw3VXWtRRcE/q9Pug5eAnA/OphubuqmKc1t3Y85qsXwhwtPs9mEYRhy5uaowOlNDzixf7VaTeaRWhg5u3xuJmuQJsZFJhaLodfrVzOkxsO0e13r7PX6TBH6sJPJJC5cuCAUs3A4LGVqec9xNxvbNravNLYnYnF3u92IRCJyaozf7xeqUTQahVJKDhjo9foULwK0Uqkgl8sJZanb7cphCMFgUMxb+q3IGuBp8zoftdFoYHZ2FufOnZPiTYx+A5Di+0r1z0lMp9NYWloSzYepwqVSCdFoFKZpolKpwDCMIb8pzVaayjRngUsHpPje6P+6QLDp39dpdrrfk2Npmv2DgMvlMgzDkNojusk8CiDd76r/5t+maSKRSCAcDiOTyYggejweWdzoQqjVaohGo8hms+JrpruiXq8jGAxienpaFq1msykZfbFYTMZ1bm4OXq9X+Mfb29tCExxnQNXGto3tcWF7Ihb3druNzc1N+P3+oeg9T21fW1vDzMwMGo0GHA6H1ObgJEWj0SGflFL9Ak2hUEjMnHa7LdoRC/OEw2EBKk23nZ0dCR4xnbjX6w0V+imXy/B6vQiHw8JE4E7c6XSEAcEEEcMwUCgURNuhv1U3a3VzkM8BDECuazd8nf/rn9EDW6M0LwKfZqJpmiiXyygWi6hUKrJo6NfX78k2GnSiluN2u8WVUCwWJR2eQSWmYZOvzaQPj8eDQCCAcrksVDFeT6eUMbBFc7dUKknQkMkfhmFIMSZW3xvn4m5j28b2uLA9EYu7UgozMzNDdTVYPW93d1dOYucAM/BDE4unxjC1mmBlpLnZbIqZ1Ov1sLm5KYPMCaF5y1NSmDbu8/mwtraGSCSCSCQip9V3u92h02663T7ndHd3V3jDnU7/FPnZ2Vm43W7s7u5ibW1tqMobn58gJi2ObdSXuN9k6j5Q3ezVwU9h4yk8N954I5aXl/Gtb30Lp0+flv7vB/xLma+6EBKcDodDjgajhkp/J9kZrKkBQOaI5mm32xXfJAtfcXFi4aVcLoednR00m00kEgk0Gg3Mzc0hm83C5/Mhm81KEGycHHfAxraN7fFhe2IWd4I0FAqhWCwin88LJcjtdqNaraJarQrAd3d3kUqlpM4CH5hFfSqVCsrlMhwOBxKJhAgEg1kUpnw+D6BvlqZSqaFgSSQSQbVaFV9arVZDOp1GuVxGqVRCOp2Gw9E/PUXvUyKRgMfjkfv/2I/9GBqNBh577DHU63Xs7OygVCqJKaxnwfFvl8slwTACUafH6WwBAl8fA0bv+TxLS0s4dOiQUL4Y4Dt69CieeeYZVCoVmY9RLYnXoWDpmtaob5LaRLPZhMPhkKPgmNUHQKhj6XQaTqcTuVxOgM7fsVhM/rYsC/l8HrVaDZZlCbB9Ph/i8TjK5TLOnTs3VEObAcFisShm7ziajW0b2+PC9kQs7k6nE3NzcwCAnZ0duN1uoWFxwp1OJ6anp1EsFhGLxcQ3GQqF0Gw2pQa11+tFqVQSLYQApo/RMAwkEglhIcTjcanx0Gw2sbKyItxeoA8GRrdpAtPEDgaDOH/+PAzDQCqVQjweF9BQKFh5b3t7G+VyGZZlCe84n88L8AhUJrsEg0HEYjEkk0lJViDgCX76W/kcyWQSiUQCc3Nz6PV6wqDIZrOo1+sCKPpD9aDTaPBKfw5myfE3gz/AIPBEU7hSqYimQ660x+ORRA+atEopOZbM5/PB6/WK9hKLxRCJRHDhwgXE43F0Oh2k02nxOeoFlsgsUUpJgImsjHA4jGq1Ola3jI1tG9vjwvZELO69Xk/MRVbD4+Cl02nkcjkZ9GQyOWQ++v1+1Go1OcmdkWeakaybbVn97L5oNCpcYYIH6GsVsVhM/IbhcBi5XA6xWEwmEYAEi1qtFgzDkGpv0WhUgk4EWjAYRDKZRKlUwvnz57G+vi4Rd/4uFotDXFillGhHi4uLeMc73oFyuSxBMCab1Go1qTBInyyFmdqgz+eTPnHBoInvcDhQKBQQjUYRCASGshhpZnIsdVaE/rfOTKCGxSATKXfJZBIOhwP5fF78jI1GA9FoVL7bbDYRDocB9DU1Llqke1WrVWxvbyOZTIqJS1ogccIDpZn5FwgEJDPwcoyCV7vZ2LaxPS5sT8Tizl3T4XAgmUzC5/NJEGJzcxP1eh2Li4vie+MuR0FJJpOS7RWLxeRvmq309dVqNfj9fjHvyOONxWJyarzD4UCz2ZQSqNVqVShl5K8qpVAsFiXazQBJIpGQ3bvX60nf1tbWUCwWsbOzMxRQY7F/vWaE2+2Wk9GLxeIQrxno09aYIME63qFQSMxgajFMfqH/r1gswrIspFIp0SxIyZuamsLOzs5QUIpCzuCZngIOQISPPwRzu93G9PS0HESglBIg1+t1CeSRPUJ/I6lzqVRKhJO+XGonPDuUmhav2+l0MDMzg1qtJppPtVpFsViU642r2di2sT0ubE/E4s4HqtVqUha1UCjIBITDYZRKJfh8PpRKJYRCIQmQWFa/cBIDPNlsVg6lJWuAGX4MMrVaLQlkFYtF4Y62Wi34fD6p0cx+uFwu5HI5hMNhzM/Pw+fzSRr57u4unE4nTp8+LZlppVIJi4uL8n6pVEIwGITP58P6+jp2dnaQy+VQLBbRbreHGAGs0seoPE3WbreL6elpWJaFWCyG3d1d5PN5KQvK5wMg9LVQKIRCoQDLsgTE3W4XTmf/eDCWevX5fENaCrnU9AOzX9QqaL5Sw6QAeDweJBIJ8dsGAgGUSiXMzMwMpWbrPGEGkbrdrrghyDRgAJKHROtCxmxPPgOzMkkHrNVqWFhYEP+ojW0b2z9q2J6IxZ3ZXazbQLPEMAwxG51OJ4rFohQ0qtfrkqHHcpn0aTHQEQ6HpQYDBalWq2F7u39EptvtloAEfX+GYSCfz4smFYvFsL29LT7SkydPis+RZhdPUSGzwDRNbGxswOVy4aGHHsLu7i4CgQBM0xQ/Jutq0KwGBskZAAR8PHzX6XRiY2MDxWJRgMLvNBoNMd2AgbZIXjIDWKzVTQ2OmlA2mxVgWZYlAkBBJNPC4/FI4ItsC3J8KUQMZrHiIBkcfr9fxpj8bJ27y2p41WoVzWYT09PTKBQKmJ+fH+Ja8/mo1VATPX/+vPhwq9UqCoWCLDrUHsfRbGzb2B4XtidicbcsC5lMBsFgUDLneB5kpVKRydaTIQjAfD4vE8tJX1tbE5OFAkFKGK+Vz+cl0YAUq3K5LKAj/9fr9YoJtr6+LvxSHmjb7XbFBKX/S9cU6vW6VIHr9frZZzxglynG7DvNdwCiWf3VX/2VUJ4qlYoc88XaINRYgIGWyOfUI+l8j1F9+kHpXyQHl77J0cATEzPoMigUCiJMDocDwWAQDodDkkQSiYRoftSEyOQwTRNTU1OYmZkREFOD9Xg8qNfrcDqd2N3dRbvdFs2MtMBms4lMJiMHQpfLZdH0qO12u12srq6K6T6uZmPbxva4sD0Ri3u73UapVEKlUpFACQFDv10sFhPfGLPNGKQirYxUKABYXV1FIBDA5uamZOo5HA4xBwlgt9uNbDYL0zRFS6G2wPTsXq8nGgEBRo2JAKa/kv5LApOAISuC1fio2bRaLaFXUUPj5/P5PHZ2dmScdE4wAAEo3yMnl8IHDGfZsY8cIz4Xv0/aFzUT/ua92DdqP3rNFNK6Go0Gms0mstmsBLsowAxm6X7ner0u7goAYjJfuHBhqHIeBRYYUOqoJVLI2A8KCrM6x9lsbNvYHhe2J2JxByAA5MTFYjEZZGBQBa3dbkvEHsCQ+eJwOJDL5WTimO3H73c6g4L4jJZzwE3ThGEYAPo1JBqNBmKxGEqlEoABhUqv6OZwOEQA9AngwBNEAIY0GPadoGJyhJ6soSdRjCZ7UHvSKWR6sgevSdORCwepd6PX5XUoeHyNv6kF6T8End4ikYgsYqFQaKjKoB686vV62NrawtbWlvhZZ2Zm5HP6wqAHrkgJCwQC4qMOh8P7BhTD4TAKhYJQycbZbGzb2B4HtidicVdKIRwOSyCEZiCpYHoiABMt6Lt0Op2yowKDo8Pi8bgERbgT6skdpCNxsFiDQq/Cx8kHIBPp9/tFw+n1elIXhLsshZR/UyCohdA3Bwwq0tF85P0oPKPgBgYaia6VABCzku/rAKcwkLPLa3P8dIAQQBwfChQXEmBwgk2325VUa2pa5HB3u10pZwsMqhHy+qT80fwslUoS9KOgEOzM7qSPkTRABqwOHz4M0+yXW22323LocygUkmDYuJqNbRvb48L2xCzu9AsyAq379JhsQIoXhYHaT71eF3ONgkQgscQqgcfrEngMpjBhQC+j6na7JaNOzzLj9QDIDq6bSfourvvyqNUwFRkYCBaFkyY5NQ5+Z9Rs5fUpRHyPdUkofASPLkzUxthXXZOhZgRAIv80FbkYUJgp/Ax2cYx0P6YumDzNJxAIIJlMCsNA98ey4h1TvHXXwNTUFAAIB5jPycJQ4XAYyWQSkUgEu7u7ouGOM6BqY9vG9riwPRGLOwHBHZXp2hzQmZkZiY73ej05M5KmmR7M4aQQhKFQCPV6Xep0sKwpq+pFIhH5vMvlkmg9d2L6uLjbMnoO4Hk1ocnjNU1T3mPSgsPhkEAZebbMpOO9SJnS/WscH5qlFEoGkXSzUBcEvg8MNB8GoygQ9DGyrzSzeS0CnxqGx+ORhcTr9YoGwUWIQS2OdbFYhN/vx+zsLLa3t0WTcblcUqeaz6Cb20zGSSaTcqQcDzkIBAKSGcmKhO12G+l0Wq7ZbreFAri5uTkUfLvSzca2je1xYXsiFneS9hnMIPCYFDA1NYVyuYzZ2Vlks1nEYjFJ9+WumEqlRPuZnp6WrDTufMy2q1armJ+fx8GDB3Hx4kUAEBPJ5XJJ3exer4eZmRkopVCr1eSYMp/Ph0KhgGQyifn5eRw4cACmaWJ7e/t5JiHTxRk8YyIJNRXym7kDE5jNZhPJZBJbW1sIhUKiZeiFn6i18JrU7mjeOZ1OVKtVhEIh0Ri63S6q1aosDpFIRBI+mB1JE5F+xVqtJiYohVBnMaRSKfED1+t15PN5SUFnoNDj8WBpaUkoX+VyGZFIBJbVP6mGwb3p6WkAEE2X2h4PrqBpSsFmQLJarUqf6M8kzY+L6biajW0b28B4sD0Rizsj0dz1AAyZhtFoVCY+FAohEong4sWLUEqJ5gIMdmWmApOuFIvFJMttampKgO7z+aR4PgsZxeNxETy+5/P5pBZzNBoVRgCFq16vi7nMGt3krVJziMViki0HQFKmqc1xAXC73dK3cDgs2Yt6SjLpcdVqVRI6ePBDKBSS4AxN7lQqJUJgWZakvIfDYflNTi8PY6jX60in0ygUCvB4PAiFQiiVSkLVo1bYarWwvr4ulQVZQ4NBMWpI5B47HP2sw1QqBdM0hSbIcrPRaFT4yyxZ2+l0ZCFhnQ72i+4G1kvhYkq/5fz8vAjMOJqNbRvb48L2RCzu7XZbEho4QExMAIBSqSQ+Nppv9I1Vq1UsLCyItlCv17G7uwu/349EIoFqtYpAICD1slmPolwui08sFosJoMlV5a5M7YnBrc3NTanYxsCYfvoK+0zNAoAIb6FQgM/nQ71eR71eRyqVQiwWkzKexWJRmAX0j/IUHJq/yWQSQP9QXdb65ucXFhZQr9cFOPTx8uSZ9fV10Rzp9/P5fJKZR98pwdPr9RCLxRCNRqWWtG6W12o1qYrHOtRcwEj78/v9Uj6WAUGPx4NqtSqc6m63K6njvV5PkkbICWZwj/NF4WLNE9LKlFKIx+NSsIoMAwbmxtFsbNvYHhe2J2JxJ9hocu3u7sLtdkvqrn6AQbvdhmEYaLfbQ2nUpBAdOHAArVZLyp3StIvFYlKLY2NjA/F4HE6nU/xcxWIRBw8eBNBPqKB2xWzBaDQqdSWYItzpdGT3ZLZgp9ORg4lTqdQQh5YgDgaDkhximqaYYJVKRYJf1DZIH6PpmUqlAEC0ItYbyeVyEoTjNUn/qlarsCxLtCc+F4sP1Wo1EQomvijVP71nfn4erVYL2WwW8XhcBJ4LFheqTqcjAkxQM+GDmZf5fB7T09OYmZkR85U+RwYIqZUxozMUCqHVaklqfTabFW2Lqfg06S3LEmGr1+uo1WqSLDKuZmPbxva4sK3GqdVIJ5TKAqgByI27L5doKUxu34DJ7t8k9O2AZVlT47ixUsoAcGoc936RbRLm51JtkvsGTEb/LontiVjcAUAp9bhlWbeNux/7tUnuGzDZ/Zvkvl2JNunPP8n9m+S+AZPfv/GVy7Ob3exmN7u9as1e3O1mN7vZ7XXYJmlx/9S4O3CZNsl9Aya7f5PctyvRJv35J7l/k9w3YML7NzE+d7vZzW52s9sr1yZJc7eb3exmN7u9Qm3si7tS6p1KqVNKqbNKqV8Zd38AQCl1USl1XCn1faXU43uvJZRSX1ZKndn7fcVOgVBK/YlSKqOUOqG9tm9/VL/9l73x/IFS6pYx9O3XlVKbe+P3faXUT2jv/Zu9vp1SSt3/avZt3G3SsG3j+hXp32sH23o95Sv9A8AJ4ByAgwA8AJ4GcHScfdrr10UAqZHXfgvAr+z9/SsA/rcr2J+3ALgFwIkX6g+AnwDwPwEoAHcA+O4Y+vbrAP7VPp89ujfHXgAre3PvHPd8v0rjMnHYtnH9ivTvNYPtcWvutwM4a1nWecuy2gD+EsD7xtynS7X3Afhve3//NwDvv1I3tizrGwAKL7I/7wPw361+exRATCk1e4X7dqn2PgB/aVlWy7KsCwDOoo+B12N7rWDbxvVL69+l2sRhe9yL+zyAde3/jb3Xxt0sAA8qpZ5QSn1077UZy7K29/7eATAznq5Ju1R/JmVMf3HPfP4TzdSflL5diTaJz2rj+pVprwlsj3txn9R2l2VZtwD4cQAfV0q9RX/T6tthE0MzmrT+APg9AFcBuAnANoD/Y6y9sRubjesfvr1msD3uxX0TwKL2/8Lea2NtlmVt7v3OAPhr9M2rXZqBe78z4+shcJn+jH1MLcvatSyra1lWD8AfYmCejr1vV7BN3LPauP7h22sJ2+Ne3B8DcFgptaKU8gD4GQBfGGeHlFJBpVSYfwO4D8CJvX59eO9jHwbw+fH0UNql+vMFAD+3xy64A0BZM3OvSBvxhX4A/fFj335GKeVVSq0AOAzge1eyb1ewTRS2bVy/Mu01he1xRnOtQRT8NPrR5V+dgP4cRD/q/TSAZ9gnAEkAXwVwBsBXACSuYJ/+An0TsIO+L+8XLtUf9NkE/+feeB4HcNsY+vb/3bv3D9AH/az2+V/d69spAD8+7vl+lcdmYrBt4/oV699rBtt2hqrd7GY3u70O27jdMnazm93sZrdXodmLu93sZje7vQ6bvbjbzW52s9vrsNmLu93sZje7vQ6bvbjbzW52s9vrsNmLu93sZje7vQ6bvbjbzW52s9vrsNmLu93sZje7vQ7b/x/44lnzfjUOswAAAABJRU5ErkJggg==",
      "text/plain": [
       "<Figure size 432x288 with 2 Axes>"
      ]
     },
     "metadata": {
      "needs_background": "light"
     },
     "output_type": "display_data"
    }
   ],
=======
   "execution_count": null,
   "metadata": {},
   "outputs": [],
>>>>>>> adc65eeb657207b62ad44029da59ef3b8215ea99
   "source": [
    "from scipy.linalg import svd, diagsvd\n",
    "import matplotlib.image as mpimg\n",
    "\n",
    "A = mpimg.imread(\"rabbit.jpeg\").mean(axis=2)[0::4,0::4]\n",
    "\n",
    "u, s, vt = svd(A)\n",
    "\n",
    "# Altere daqui para baixo\n",
    "s = s\n",
    "s[-100:] *= 0.0\n",
    "# Altere daqui para cima\n",
    "\n",
    "sigma = diagsvd(s, A.shape[0], A.shape[1])\n",
    "\n",
    "B = u @ sigma @ vt\n",
    "\n",
    "plt.subplot(1,2,1)\n",
    "plt.title('Imagem original')\n",
    "plt.imshow(A, cmap='gray')\n",
    "plt.subplot(1,2,2)\n",
    "plt.title('Imagem alterada')\n",
    "plt.imshow(B, cmap='gray')\n",
    "plt.show()"
   ]
  },
  {
   "attachments": {},
   "cell_type": "markdown",
   "metadata": {},
   "source": [
    "# Exercício 17\n",
    "**Objetivo: Remover ruídos de uma imagem manipulando a matriz S**\n",
    "\n",
    "Uma possível maneira de remover ruídos de uma imagem é a seguinte:\n",
    "\n",
    "* Fazemos a decomposiçao SVD da imagem\n",
    "* Removemos os elementos de menor magnitude da matriz $\\Sigma$\n",
    "* Reconstituímos a imagem\n",
    "\n",
    "a) Aplique esse procedimento para tentar remover os ruídos que foram adicionados à imagem abaixo.\n",
    "\n",
    "b) Qual é a relação entre o ruído removido da imagem e a distorção causada na imagem?"
   ]
  },
  {
   "cell_type": "code",
<<<<<<< HEAD
   "execution_count": 36,
   "metadata": {},
   "outputs": [
    {
     "data": {
      "image/png": "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",
      "text/plain": [
       "<Figure size 432x288 with 2 Axes>"
      ]
     },
     "metadata": {
      "needs_background": "light"
     },
     "output_type": "display_data"
    }
   ],
=======
   "execution_count": null,
   "metadata": {},
   "outputs": [],
>>>>>>> adc65eeb657207b62ad44029da59ef3b8215ea99
   "source": [
    "from scipy.linalg import svd, diagsvd\n",
    "import matplotlib.image as mpimg\n",
    "\n",
    "A = mpimg.imread(\"rabbit.jpeg\").mean(axis=2)[0::4,0::4]\n",
    "alpha = 0.3\n",
    "A += alpha * np.random.random(A.shape) * np.max(A)\n",
    "\n",
    "u, s, vt = svd(A)\n",
    "\n",
    "# Altere daqui para baixo\n",
<<<<<<< HEAD
    "s[-170:] *= 0.1\n",
=======
    "s = s\n",
    "s[-170:] *= 0\n",
>>>>>>> adc65eeb657207b62ad44029da59ef3b8215ea99
    "# Altere daqui para cima\n",
    "\n",
    "sigma = diagsvd(s, A.shape[0], A.shape[1])\n",
    "\n",
    "B = u @ sigma @ vt\n",
    "\n",
    "\n",
    "plt.subplot(1,2,1)\n",
    "plt.title('Imagem ruidosa')\n",
    "plt.imshow(A, cmap='gray')\n",
    "plt.subplot(1,2,2)\n",
    "plt.title('Imagem com ruído removido')\n",
    "plt.imshow(B, cmap='gray')\n",
    "plt.show()"
   ]
  },
  {
   "attachments": {},
   "cell_type": "markdown",
   "metadata": {},
   "source": [
    "# Exercício 18\n",
    "**Objetivo: Comprimir uma imagem modificando a matriz $\\Sigma$**\n",
    "\n",
    "Muitas vezes, admitimos perdas em um processo de compressão. Isso acontece, por exemplo, em compressão de imagens ou de sons: uma pequena distorção, quase imperceptível, é aceitável, desde que isso possibilite comprimir dados.\n",
    "\n",
    "A compressão de dados funciona \"apagando\" elementos de uma imagem ou de um som. As diferentes estratégias de compressão se diferenciam em *como escolher* os elementos que são mais imperceptíveis dentro de uma imagem ou som.\n",
    "\n",
    "Nesta atividade, vamos fazer um compressor de imagens baseado em SVD. O método aplicado é bem conhecido, e uma boa explicação dele pode ser encontrada [aqui](https://medium.com/balabit-unsupervised/image-compression-using-singular-value-decomposition-de20451c69a3).\n",
    "\n",
    "Veja que, quando eliminamos valores de $\\Sigma$ fazendo-os ficar igual a zero, isso é equivalente a remover alguns elementos das matrizes $U$ e de $V^T$. Por exemplo, na decomposição:\n",
    "\n",
    "$$\n",
    "U \\Sigma V^T = \n",
    "\\begin{bmatrix}\n",
    "1 & 2 \\\\\n",
    "3 & 4\n",
    "\\end{bmatrix}\n",
    "\\begin{bmatrix}\n",
    "1 & 0 \\\\\n",
    "0 & 0.2\n",
    "\\end{bmatrix}\n",
    "\\begin{bmatrix}\n",
    "4 & 3 \\\\\n",
    "2 & 1\n",
    "\\end{bmatrix}\n",
    "$$\n",
    "\n",
    "Se eliminamos o valor $0.2$ de $\\Sigma$, ficamos com:\n",
    "\n",
    "$$ \n",
    "\\begin{bmatrix}\n",
    "1 & 2 \\\\\n",
    "3 & 4\n",
    "\\end{bmatrix}\n",
    "\\begin{bmatrix}\n",
    "1 & 0 \\\\\n",
    "0 & 0\n",
    "\\end{bmatrix}\n",
    "\\begin{bmatrix}\n",
    "4 & 3 \\\\\n",
    "2 & 1\n",
    "\\end{bmatrix}\n",
    "\n",
    "= \n",
    "\\begin{bmatrix}\n",
    "4 & 3 \\\\\n",
    "12 & 9\n",
    "\\end{bmatrix}\n",
    "\n",
    "$$\n",
    "\n",
    "Isso é equivalente a simplemente remover esse valor de $\\Sigma$, e remover as linhas e colunas de $U$ e $V^T$ que seriam multiplicadas por ele. Daí, ficamos com:\n",
    "$$\n",
    "\\begin{bmatrix}\n",
    "1  \\\\\n",
    "3 \n",
    "\\end{bmatrix}\n",
    "\\begin{bmatrix}\n",
    "1 \n",
    "\\end{bmatrix}\n",
    "\\begin{bmatrix}\n",
    "4 & 3 \\\\\n",
    "\\end{bmatrix}\n",
    "= \n",
    "\\begin{bmatrix}\n",
    "4 & 3 \\\\\n",
    "12 & 9\n",
    "\\end{bmatrix}\n",
    "$$\n",
    "\n",
    "A vantagem de remover linhas e colunas diretamente é que passamos a precisar de menos espaço para armazenar nossos dados!\n",
    "\n",
    "---\n",
    "\n",
    "Analise o código abaixo. Ele é bastante parecido com o código acima, Altere a função `comprimir` para que ela realize a remoção de elementos que foi mostrada acima. Teste seu código!!!\n",
    "\n",
    "a) Como o valor de $K$ influencia a compressão da imagem e a qualidade da imagem final?\n",
    "\n",
    "b) Qual é o menor valor de $K$ para o qual a imagem não perde qualidade?\n",
    "\n",
    "c) Qual é o maior valor de $K$ que permite reduzir o tamanho ocupado pela imagem?"
   ]
  },
  {
   "cell_type": "code",
<<<<<<< HEAD
   "execution_count": 30,
   "metadata": {},
   "outputs": [
    {
     "name": "stdout",
     "output_type": "stream",
     "text": [
      "Tamanho inicial da imagem (bytes):  1769472\n",
      "Tamanho da representação comprimida:  184440\n",
      "Compressão: 0.10423448350694445\n"
     ]
    },
    {
     "data": {
      "image/png": "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",
      "text/plain": [
       "<Figure size 432x288 with 2 Axes>"
      ]
     },
     "metadata": {
      "needs_background": "light"
     },
     "output_type": "display_data"
    }
   ],
=======
   "execution_count": null,
   "metadata": {},
   "outputs": [],
>>>>>>> adc65eeb657207b62ad44029da59ef3b8215ea99
   "source": [
    "from scipy.linalg import svd, diagsvd\n",
    "import matplotlib.image as mpimg\n",
    "import matplotlib.pyplot as plt\n",
    "import numpy as np\n",
    "\n",
    "# Altere esta função!\n",
    "def comprimir (u, s, vt, K):\n",
    "    \"\"\"Remove elementos de u, s e vt deixando somente K componentes restantes\n",
    "    \"\"\" \n",
<<<<<<< HEAD
    "    u_ = u[:,:K]\n",
    "    s_ = s[:K]\n",
    "    vt_ = vt[:K,:]\n",
=======
    "    u_ = u[:,K:K+1]\n",
    "    s_ = s[K:K+1]\n",
    "    vt_ = vt[K:K+1,:]\n",
>>>>>>> adc65eeb657207b62ad44029da59ef3b8215ea99
    "    return u_, s_, vt_\n",
    "\n",
    "A = mpimg.imread(\"rabbit.jpeg\")\n",
    "\n",
    "u0, s0, vt0 = svd(A[:,:,0])\n",
    "u1, s1, vt1 = svd(A[:,:,1])\n",
    "u2, s2, vt2 = svd(A[:,:,2])\n",
    "\n",
    "n_bytes_inicial = A.nbytes\n",
    "print(\"Tamanho inicial da imagem (bytes): \", n_bytes_inicial)\n",
    "\n",
    "K = 4\n",
    "\n",
    "u0, s0, vt0 = comprimir(u0, s0, vt0, K)\n",
    "u1, s1, vt1 = comprimir(u1, s1, vt1, K)\n",
    "u2, s2, vt2 = comprimir(u2, s2, vt2, K)\n",
    "\n",
    "sigma0 = diagsvd(s0, u0.shape[1], vt0.shape[0])\n",
    "sigma1 = diagsvd(s1, u1.shape[1], vt1.shape[0])\n",
    "sigma2 = diagsvd(s2, u2.shape[1], vt2.shape[0])\n",
    "\n",
    "n_bytes_final = u0.nbytes + u1.nbytes + u2.nbytes + s0.nbytes + s1.nbytes + s2.nbytes + vt0.nbytes + vt1.nbytes + vt2.nbytes\n",
    "print(\"Tamanho da representação comprimida: \", n_bytes_final)\n",
    "print(\"Compressão:\", n_bytes_final / n_bytes_inicial)\n",
    "\n",
    "B = np.zeros_like(A)\n",
    "B[:,:,0] = u0 @ sigma0 @ vt0\n",
    "B[:,:,1] = u1 @ sigma1 @ vt1\n",
    "B[:,:,2] = u2 @ sigma2 @ vt2\n",
    "\n",
    "plt.subplot(1,2,1)\n",
    "plt.title('Imagem original')\n",
    "plt.imshow(A, cmap='gray')\n",
    "plt.subplot(1,2,2)\n",
    "plt.title('Imagem comprimida')\n",
    "plt.imshow(B, cmap='gray')\n",
    "plt.show()"
   ]
  },
  {
   "attachments": {},
   "cell_type": "markdown",
   "metadata": {},
   "source": [
    "# Projeto: O Desafio NetFlix\n",
    "Outros datasets: https://github.com/caserec/Datasets-for-Recommender-Systems\n",
    "\n",
    "Um problema que existe hoje em dia com as grandes empresas de streaming (Netflix, Spotify, etc.) é que elas têm um acervo de conteúdo muito grande, e os usuários tendem a gostar, cada um, de uma pequena parte desse acervo. Então, como poderíamos escolher quais filmes vão aparecer tela inicial do seu streaming?\n",
    "\n",
    "O objetivo deste projeto é fazer um sistema que toma essa decisão.\n",
    "\n",
    "## Quais dados temos à disposição?\n",
    "\n",
    "Neste projeto, trabalharemos com o [The Movies Dataset](https://www.kaggle.com/datasets/rounakbanik/the-movies-dataset), que tem, entre outras coisas, a avaliação de usuários em relação a filmes. Essa avaliação está na tabela `ratings.csv` - mas, opcionalmente, pode ser usada a `ratings_small.csv`, que tem somente um subconjunto desses dados."
   ]
  },
  {
   "cell_type": "code",
<<<<<<< HEAD
   "execution_count": 29,
   "metadata": {},
   "outputs": [
    {
     "data": {
      "text/html": [
       "<div>\n",
       "<style scoped>\n",
       "    .dataframe tbody tr th:only-of-type {\n",
       "        vertical-align: middle;\n",
       "    }\n",
       "\n",
       "    .dataframe tbody tr th {\n",
       "        vertical-align: top;\n",
       "    }\n",
       "\n",
       "    .dataframe thead th {\n",
       "        text-align: right;\n",
       "    }\n",
       "</style>\n",
       "<table border=\"1\" class=\"dataframe\">\n",
       "  <thead>\n",
       "    <tr style=\"text-align: right;\">\n",
       "      <th></th>\n",
       "      <th>userId</th>\n",
       "      <th>movieId</th>\n",
       "      <th>rating</th>\n",
       "      <th>timestamp</th>\n",
       "    </tr>\n",
       "  </thead>\n",
       "  <tbody>\n",
       "    <tr>\n",
       "      <th>0</th>\n",
       "      <td>1</td>\n",
       "      <td>31</td>\n",
       "      <td>2.5</td>\n",
       "      <td>1260759144</td>\n",
       "    </tr>\n",
       "    <tr>\n",
       "      <th>1</th>\n",
       "      <td>1</td>\n",
       "      <td>1029</td>\n",
       "      <td>3.0</td>\n",
       "      <td>1260759179</td>\n",
       "    </tr>\n",
       "  </tbody>\n",
       "</table>\n",
       "</div>"
      ],
      "text/plain": [
       "   userId  movieId  rating   timestamp\n",
       "0       1       31     2.5  1260759144\n",
       "1       1     1029     3.0  1260759179"
      ]
     },
     "execution_count": 29,
     "metadata": {},
     "output_type": "execute_result"
    }
   ],
=======
   "execution_count": null,
   "metadata": {},
   "outputs": [],
>>>>>>> adc65eeb657207b62ad44029da59ef3b8215ea99
   "source": [
    "import pandas as pd\n",
    "df = pd.read_csv('ratings_small.csv')\n",
    "df.head(2)"
   ]
  },
  {
   "attachments": {},
   "cell_type": "markdown",
   "metadata": {},
   "source": []
  },
  {
   "attachments": {},
   "cell_type": "markdown",
   "metadata": {},
   "source": [
    "Veja que esse dataframe pode facilmente ser transformado numa matriz $A$ que tem uma linha para cada usuário (identificado por `userId`) e uma coluna para cada filme (identificado por `movieId`). O conteúdo da matriz é o *rating* que o usuário atribuiu ao filme. Podemos ignorar a coluna `timestamp`.\n",
    "\n",
    "## Desafio: eu vou gostar deste filme?\n",
    "\n",
    "O que gostaríamos de saber é qual nota um usuário deveria atribuir a um filme que ele ainda não assistiu. Para isso, o procedimento será o seguinte.\n",
    "\n",
    "1. Vamos escolher aleatoriamente um dos elementos da matriz $A$ e atribuir a ele um valor aleatório, gerando a matriz $B$, isto é, a matriz $B$ é igual à matriz $A$ com um dos elementos \"estragado\".\n",
    "1. O sistema receberá como entrada a matriz $B$ e a posição $i,j$ do valor aleatório. Neste momento, ele não teve acesso à matriz $A$, e, portanto, não tem como saber qual é o valor \"real\".\n",
    "1. O sistema deverá retornar o valor real que estava na matriz $A$.\n",
    "1. Esse procedimento deverá ser repetido várias vezes, de forma a gerar um histograma dos erros cometidos.\n",
    "\n",
    "## Como o sistema funciona?\n",
    "\n",
    "A ideia do sistema de recomendação é que existem \"perfis\" típicos de usuários. Os perfis, para este problema, são vetores que mostram que notas são tipicamente atribuídas para cada filme por usuários daquele perfil. Por exemplo, talvez tenhamos dois perfis e três filmes, e nesse caso poderíamos ter os perfis:\n",
    "\n",
    "* $p_0 = [2, 5, 2]$, isto é, o perfil $0$ é de uma pessoa que gosta muito do filme $f_1$, e\n",
    "* $p_1 = [5, 0, 4]$, isto é, o perfil $1$ é de uma pessoa que gosta dos filmes $f_0$ e $f_2$. \n",
    "\n",
    "Porém, sabemos que usuários reais raramente se comportam estritamente como um perfil. As notas realmente atribuídas por um usuário aos filmes, então, são modeladas como combinações lineares dos perfis. Por exemplo, podemos ter usuários:\n",
    "\n",
    "* $u_0 = 0.1 p_0 + 0.9 p_1$, para um usuário muito próximo de $p_1$ mas distante de $p_0$,\n",
    "* $u_1 = 0.1 p_0 + 0.1 p_1$, para um usuário distante tanto de $p_0$ quanto de $p_1$,\n",
    "\n",
    "e assim por diante.\n",
    "\n",
    "Então, o que precisamos é de uma maneira de mapear usuários para perfis, e então perfis para filmes. Precisamos então *decompor* nossa matriz $A$ de usuários $\\times$ filmes em componentes:\n",
    "\n",
    "$\n",
    "A = X Y Z,\n",
    "$\n",
    "\n",
    "onde:\n",
    "* $A$ tem uma linha por usuário e uma coluna por filme,\n",
    "* $X$ tem uma linha por usuário e uma coluna por perfil,\n",
    "* $Y$ é quadrada e mapeia perfis para perfis,\n",
    "* $Z$ tem uma linha por perfil e uma coluna por filme.\n",
    "\n",
    "Isso se parece bastante com algo que já fizemos nesta aula!\n",
    "\n",
    "Em nosso teste, ao aleatorizarmos um elemento da matriz $A$, estamos inserindo ruído. Como poderíamos remover esse ruído?\n",
    "\n",
    "## Descrição do projeto\n",
    "\n",
    "Neste projeto, o grupo deverá fazer um sistema preditor de nota de filmes por usuário, que funciona nas condições que foram citadas no enunciado (temos conhecimento de todo o dataset, exceto do par filme-usuário específico). O sistema projetado deve ser avaliado usando um histograma dos erros ao longo de várias estimativas. O número de estimações deve ser, no mínimo, mil. O projeto deve ser colocado em um repositório GitHub específico.\n",
    "\n",
    "Anotações importantes:\n",
    "\n",
    "1. O grupo deve enviar um link para o repositório GitHub onde está localizada a biblioteca.\n",
    "2. No diretório principal do repositório, deve haver um programa `demo.py`, que, quando executado, executa todos os testes que geram o histograma de resultados.\n",
    "3. Como o objetivo do projeto é exatamente implementar o sistema de recomendação, não é permitido usar bibliotecas que fazem recomendações. Toda a parte de algoritmos e álgebra linear deve ser feita pelo próprio grupo usando Numpy ou Scipy.\n",
    "\n",
    "**ENTREGAS**\n",
    "* Link para o repositório onde está a biblioteca.\n",
    "* No `README.md` do repositório, deve haver uma discussão sobre como o sistema funciona. Essa discussão deve corresponder ao que foi feito no código.\n",
    "* Inclua também, no próprio `README.md`, instruções sobre como rodar o `demo.py` e como usar suas funcionalidades.\n",
    "* O `README.md` também deve ter uma discussão dos resultados encontrados, incluindo o histograma dos erros e uma conclusão, baseada em dados, sobre se o grupo acredita que o sistema proposto poderia ser usado em produção.\n",
    "\n"
   ]
  },
  {
   "attachments": {},
   "cell_type": "markdown",
   "metadata": {},
   "source": [
    "\n",
    "**RUBRICA**\n",
    "\n",
    "O projeto será avaliado usando três rubricas. [Duas delas dizem respeito à redação e ao código apresentado](rubricas.md), e são compartilhados por todos os projetos. Este projeto tem ainda requisitos específicos que estão na rubrica abaixo. Os níveis são cumulativos, isto é, para passar de um nível, *todos* os requisitos dele devem ser cumpridos. A nota final é baseada na rubrica em que o trabalho obtiver o *menor* desempenho. As rubricas foram inspiradas nos níveis da [Taxonomia de Bloom](https://cft.vanderbilt.edu/guides-sub-pages/blooms-taxonomy/).\n",
    "\n",
    "| Nível | Descrição | [Tax. de Bloom](https://cft.vanderbilt.edu/guides-sub-pages/blooms-taxonomy/) |\n",
    "| --- | --- | --- |\n",
    "| F | Não entregue, entregue sem completar o `README.md`, entregue sem o `demo.py`, entregue sem resolver o problema que foi proposto, ou usando bibliotecas que resolvem o problema central do enunciado.  | Não fez |\n",
    "| D | Entregue, mas o `README.md` não indica como instalar ou rodar o programa, ou o programa usa a matriz $A$ (sem ruído) como entrada ao invés da matriz $B$. | Entender |\n",
    "| C | Devido a um erro de implementação ou de teoria, o sistema não retorna um valor coerente para o elemento faltante, isto é, simplesmente retorna um valor qualquer, aleatório, ou calculado sem base teórica adequada. | Compreender |\n",
    "| B | O método foi aplicado corretamente. | Aplicar |\n",
    "| A | Além da aplicação correta do método, o grupo realizou um teste de stress (devidamente documentado no README.md), verificando como o histograma de erro se comporta se mais dados da matriz de entrada forem \"estragados\". | Analisar |\n",
    "\n"
   ]
  },
  {
   "attachments": {},
   "cell_type": "markdown",
   "metadata": {},
   "source": [
    "# "
   ]
  }
 ],
 "metadata": {
  "kernelspec": {
   "display_name": "base",
   "language": "python",
   "name": "python3"
  },
  "language_info": {
   "codemirror_mode": {
    "name": "ipython",
    "version": 3
   },
   "file_extension": ".py",
   "mimetype": "text/x-python",
   "name": "python",
   "nbconvert_exporter": "python",
   "pygments_lexer": "ipython3",
<<<<<<< HEAD
   "version": "3.10.3"
=======
   "version": "3.10.9"
>>>>>>> adc65eeb657207b62ad44029da59ef3b8215ea99
  },
  "orig_nbformat": 4,
  "vscode": {
   "interpreter": {
    "hash": "42e34ec1a81382d7a35a13fd98192c35dabe0890684b7b0a474deec672e3df02"
   }
  }
 },
 "nbformat": 4,
 "nbformat_minor": 2
}
