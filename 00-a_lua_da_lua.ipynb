{
 "cells": [
  {
   "cell_type": "code",
   "execution_count": null,
   "metadata": {},
   "outputs": [],
   "source": [
    "import matplotlib.pyplot as plt\n",
    "plt.style.use('default')\n",
    "import numpy as np "
   ]
  },
  {
   "attachments": {},
   "cell_type": "markdown",
   "metadata": {},
   "source": [
    "# A Lua da Lua"
   ]
  },
  {
   "attachments": {},
   "cell_type": "markdown",
   "metadata": {},
   "source": [
    "## Exercício 1: A Terra gira em torno do Sol\n",
    "\n",
    "O código abaixo tenta desenhar a órbita da Terra ao redor do Sol, assumindo que a órbita é circular (na verdade, ela é elíptica, mas queremos simplificar nossas contas para este exercício).\n",
    "\n",
    "A função `pos_terra` recebe como entrada o raio da órbita terrestre, a velocidade angular da órbita, e um dia específico. Como essa função funciona, e o que ela retorna?"
   ]
  },
  {
   "cell_type": "code",
   "execution_count": null,
   "metadata": {},
   "outputs": [],
   "source": [
    "R_terra = 1\n",
    "v_terra = 1/365\n",
    "\n",
    "def pos_terra(R_terra, v_terra, dia):\n",
    "    return R_terra * np.cos(2*np.pi*dia*v_terra), R_terra * np.sin(2*np.pi*dia*v_terra)\n",
    "\n",
    "posicoes_x = []\n",
    "posicoes_y = []\n",
    "for d in range(365):\n",
    "    x, y = pos_terra(R_terra, v_terra, d)\n",
    "    posicoes_x.append(x)\n",
    "    posicoes_y.append(y)\n",
    "\n",
    "plt.figure(figsize=(3,3))\n",
    "plt.plot(posicoes_x, posicoes_y)\n",
    "plt.show()"
   ]
  },
  {
   "attachments": {},
   "cell_type": "markdown",
   "metadata": {},
   "source": [
    "## Exercício 2: A Lua gira em torno da Terra\n",
    "\n",
    "A função `pos_lua` funciona da mesma forma que a função `pos_terra`. Por que os parâmetros `R_lua` e `v_lua` são diferentes de `R_terra` e `v_terra`?\n"
   ]
  },
  {
   "cell_type": "code",
   "execution_count": null,
   "metadata": {},
   "outputs": [],
   "source": [
    "R_lua = 0.5\n",
    "v_lua = 1/28\n",
    "\n",
    "def pos_lua(R_lua, v_lua, dia):\n",
    "    return R_lua * np.cos(2*np.pi*dia*v_lua), R_lua * np.sin(2*np.pi*dia*v_lua)\n",
    "\n",
    "posicoes_x_lua = []\n",
    "posicoes_y_lua = []\n",
    "for d in range(365):\n",
    "    x, y = pos_lua(R_lua, v_lua, d)\n",
    "    posicoes_x_lua.append(x)\n",
    "    posicoes_y_lua.append(y)\n",
    "\n",
    "plt.figure(figsize=(3,3))\n",
    "plt.plot(posicoes_x_lua, posicoes_y_lua)\n",
    "plt.show()"
   ]
  },
  {
   "attachments": {},
   "cell_type": "markdown",
   "metadata": {},
   "source": [
    "## Exercício 3: A Lua forma um desenho diferente em torno do Sol\n",
    "\n",
    "O código abaixo desenha a trajetória da Lua assumindo que o Sol está no centro do nosso sistema.\n",
    "\n",
    "1. Como esse código funciona?\n",
    "2. Por que esse desenho diferente aparece?"
   ]
  },
  {
   "cell_type": "code",
   "execution_count": null,
   "metadata": {},
   "outputs": [],
   "source": [
    "x_lua_sol = []\n",
    "y_lua_sol = []\n",
    "for i in range(len(posicoes_x)):\n",
    "    xls = posicoes_x[i] + posicoes_x_lua[i]\n",
    "    x_lua_sol.append(xls)\n",
    "    yls = posicoes_y[i] + posicoes_y_lua[i]\n",
    "    y_lua_sol.append(yls)\n",
    "\n",
    "\n",
    "plt.figure(figsize=(3,3))\n",
    "plt.plot(x_lua_sol, y_lua_sol)\n",
    "plt.show()"
   ]
  },
  {
   "attachments": {},
   "cell_type": "markdown",
   "metadata": {},
   "source": [
    "## Exercício 4: e se a Lua tivesse uma \"sub-lua\"?\n",
    "\n",
    "Imagine que há algum outro objeto que está orbitando ao redor da Lua em uma órbita circular.\n",
    "\n",
    "Faça um código que permita visualizar a trajetória desse objeto assumindo o Sol como o centro do sistema."
   ]
  },
  {
   "cell_type": "code",
   "execution_count": null,
   "metadata": {},
   "outputs": [],
   "source": [
    "R_objeto = R_lua**np.pi\n",
    "v_objeto = v_lua**np.e\n",
    "\n",
    "def pos_objeto(R_objeto, v_objeto, dia):\n",
    "    return R_objeto * np.cos(2*np.pi*dia*v_objeto), R_objeto * np.sin(2*np.pi*dia*v_objeto)\n",
    "\n",
    "posicoes_x_objeto = []\n",
    "posicoes_y_objeto = []\n",
    "for d in range(365):\n",
    "    x, y = pos_objeto(R_objeto, v_objeto, d)\n",
    "    posicoes_x_objeto.append(x)\n",
    "    posicoes_y_objeto.append(y)"
   ]
  },
  {
   "cell_type": "code",
   "execution_count": null,
   "metadata": {},
   "outputs": [],
   "source": [
    "posicoes_x_o = []\n",
    "posicoes_y_o = []\n",
    "\n",
    "for i in range(len(posicoes_x)):\n",
    "    xo = posicoes_x[i] + posicoes_x_lua[i] + posicoes_x_objeto[i]\n",
    "    posicoes_x_o.append(xo)\n",
    "    yo = posicoes_y[i] + posicoes_y_lua[i] + posicoes_y_objeto[i]\n",
    "    posicoes_y_o.append(yo)\n",
    "\n",
    "\n",
    "plt.figure(figsize=(3,3))\n",
    "plt.plot(posicoes_x_o, posicoes_y_o)\n",
    "plt.plot(x_lua_sol, y_lua_sol)\n",
    "plt.plot(posicoes_x, posicoes_y)\n",
    "plt.show()\n"
   ]
  }
 ],
 "metadata": {
  "kernelspec": {
   "display_name": "Python 3",
   "language": "python",
   "name": "python3"
  },
  "language_info": {
   "codemirror_mode": {
    "name": "ipython",
    "version": 3
   },
   "file_extension": ".py",
   "mimetype": "text/x-python",
   "name": "python",
   "nbconvert_exporter": "python",
   "pygments_lexer": "ipython3",
   "version": "3.10.3"
  },
  "orig_nbformat": 4,
  "vscode": {
   "interpreter": {
    "hash": "f93bff822687b96a1f2d7798e86ce2bae52c1bd6ece06dfb8c6e65b6bce06fb2"
   }
  }
 },
 "nbformat": 4,
 "nbformat_minor": 2
}
